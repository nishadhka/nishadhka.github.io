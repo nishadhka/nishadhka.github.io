{
 "cells": [
  {
   "cell_type": "markdown",
   "metadata": {},
   "source": [
    "<h1><center>Littoral Benthic Macro invertebrates as indicators of impact in four urban lakes of Coimbatore, Tamil Nadu, India</center></h1>\n",
    "<h3><center>K.A. Nishadh and P.A. Azeez</center>\n",
    "<center>Environmental Impact Assessment Division,Sálim Ali Center for Ornithology and Natural History (SACON), Anaikatty (PO), Coimbatore – 641108.</center></h3>\n",
    "\n",
    "**Research Area and Question:**\n",
    "\n",
    "Littoral Benthic Macro invertebrate community composition, abundance, and diversity reflect the nature and environmental quality of lakes. The present study was carried out to assess the impact on four lakes of Coimbatore, which are facing varying degree of anthropogenic pressure using littoral benthic macro invertebrate abundance.\n",
    "\n",
    "**Objectives and Methodology:**\n",
    "\n",
    "Benthic macro-invertebrate samples were collected in triplicates from littoral zones (depth 0-0.5 m) from 3 sites in each lake during February 2009 by using Van Veen’s Grab sampler with surface area of 0.0318 m2. At each sampling site, from where benthic samples were collected, water samples were also collected and analysed for varies physio-chmeical parameters to estimate Water Quality Index (WQI). Taxonomic identification was done up to family level and the total number of individuals in each family were counted and recorded. \n",
    "\n",
    "**Results:**\n",
    "\n",
    "Highest taxa richness was seen  in Kurchi lake (17 families), followed by Perur lake, Sengulam lake (14 families) and Periyakulam lake (13 families). Shannon Wiener diversity for macro-invertebrates was highest in sengulam lake (H=2.2531) followed by Perur lake (H=2.0771), Kurchi lake (H=2.0636) and Periyakulam lake (H=1.2141). Evenness was observed highest in Sengulam lake (J=0.8537) followed by Perur lake (J=0.787), Kurchi lake (J=0.7283), and periyakulam lake(J=0.4733). WQI was highest in Periyakulam lake (123, highly polluted), followed by Kurchi lake (97),  sengulam lake (84) and Perur lake (75).\n",
    "\n",
    "**Discussion:**\n",
    "\n",
    "The results shows that based on diversity indices Periyakulam lake is found to be highly impacted from anthropogenic pressures followed by Kurchi, perur and sengulam lakes, this is again confirmed by WQI in all lakes. This indicates the urgent requirement of conservation and mitigation measures for safeguard the ecosystem and to contain further degradations in these lakes.\n",
    "\n",
    "\n"
   ]
  },
  {
   "cell_type": "code",
   "execution_count": null,
   "metadata": {
    "collapsed": true
   },
   "outputs": [],
   "source": []
  }
 ],
 "metadata": {
  "kernelspec": {
   "display_name": "Python 2",
   "language": "python",
   "name": "python2"
  },
  "language_info": {
   "codemirror_mode": {
    "name": "ipython",
    "version": 2
   },
   "file_extension": ".py",
   "mimetype": "text/x-python",
   "name": "python",
   "nbconvert_exporter": "python",
   "pygments_lexer": "ipython2",
   "version": "2.7.14"
  }
 },
 "nbformat": 4,
 "nbformat_minor": 2
}
