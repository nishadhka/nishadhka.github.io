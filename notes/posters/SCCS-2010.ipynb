{
 "cells": [
  {
   "cell_type": "markdown",
   "metadata": {},
   "source": [
    "<h1><center>Conservation of microhabitat\n",
    "   A case study on natural water-filled tree holes in tropical rain forest of Western Ghats</center></h1>\n",
    "<h3><center>K.A. Nishadh<sup>2,3</sup> , K. S. Anoop Das<sup>1,2</sup> and P A Azeez<sup>3</sup></center>\n",
    "<center>1-Department of Zoology and Centre for Conservation Ecology, M.E.S Mampad College, Malappuram, Kerala\n",
    "676 542, India</center>\n",
    "<center>2-Wildlife Research and Conservation Trust, Anupallavi, Chungathara, Malappuram, Kerala 679334, India</center>\n",
    "<center>3-Environmental Impact Assessment Division,Sálim Ali Center for Ornithology and Natural History (SACON), Anaikatty (PO), Coimbatore – 641108.</center></h3>\n",
    "\n",
    "Microhabitat conservation is an important paradigm for minimum possible conservation in the scenario of large scale habitat destruction. Tree holes are the important microhabitat in old growth forests occupied by variety of organisms from invertebrates to mammals for their nesting, breeding, and resting sites. Water filled tree holes form a permanent or ephemeral freshwater aquatic habitats inhabited largely by invertebrates especially by aquatic insects. The baseline data on community diversity in these habitat is essential for conservation of this unique habitat \n",
    "\n",
    "The sampling involved searching for water filled tree holes in the study area, followed by measuring variables such as GBH, Height of the tree hole from ground, opening area of tree hole, water holding capacity, aspect of tree hole, percentage shrub, herb and tree coverage around the tree hole. \n",
    "\n",
    "Water in the container habitat will be collected through siphoning and filtered through mesh size 250 micrometer after determining the volume of water. The aquatic organism retained in the mesh is collected. Portion of insect samples is  preserved and remaining life specimens are reared for adult stage and identified up to the possible taxonomic level. \n",
    "The dry weight of leaf litter if any present in the tree hole is  taken as source of nutrient. The weight of the preserved specimens is taken as a measure of biomass in tree hole. Nutrient in the water along with basic water chemistry variables are also estimated\n",
    "\n",
    "Aquatic insects of 15 families from 7 orders are recorded in water filled tree holes in Silent Valley National Park and New Amarambalam Reserve Forest. (Figure shows representative insect form each family)\n",
    "Frogs and lizards of Philautus sp. and Cnemaspis sp. respectively are sighted from the tree holes of Silent Valley National Park.\n",
    "Tarantula and Slug are sighted from the water filled bamboo internodes of New Amarambalam Reserve Forest.\n",
    "Other than Insects, Spiders, Earthworms, Tadpoles and Gastropods are recorded from the tree holes sampled.\n",
    "It is observed that water filled tree holes which are more persistent are having high species diversity and longer food web.\n"
   ]
  },
  {
   "cell_type": "code",
   "execution_count": null,
   "metadata": {
    "collapsed": true
   },
   "outputs": [],
   "source": []
  }
 ],
 "metadata": {
  "kernelspec": {
   "display_name": "Python 2",
   "language": "python",
   "name": "python2"
  },
  "language_info": {
   "codemirror_mode": {
    "name": "ipython",
    "version": 2
   },
   "file_extension": ".py",
   "mimetype": "text/x-python",
   "name": "python",
   "nbconvert_exporter": "python",
   "pygments_lexer": "ipython2",
   "version": "2.7.14"
  }
 },
 "nbformat": 4,
 "nbformat_minor": 2
}
