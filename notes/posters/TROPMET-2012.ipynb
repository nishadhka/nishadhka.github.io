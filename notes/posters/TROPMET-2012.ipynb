{
 "cells": [
  {
   "cell_type": "markdown",
   "metadata": {},
   "source": [
    "<h1><center>The regional temperature variability in Indian Himalayan Region (IHR) using Berkeley Earth Surface Temperature study dataset and implications of different averaging process.</center></h1>\n",
    "<h3><center>K.A. Nishadh and P.A. Azeez</center>\n",
    "<center>Environmental Impact Assessment Division,Sálim Ali Center for Ornithology and Natural History (SACON), Anaikatty (PO), Coimbatore – 641108.</center></h3>\n",
    "\n",
    "Indian Himalayan Region(IHR) is one of the important determining factor of climate and water availability of Indian subcontinent  with its high altitudinal variation and significance of its spatial location. Even the minimal variation in climate condition of this region could evoke cumulative chain consequences which could tremendously influence the social and economic situation of our country. This necessitate the better understanding of regional level assessment of climate change in these mountain system. \n",
    "\n",
    "Averaging process is a simplification procedure for obtaining the numerical indication of extent of temperature variability from multiple and long term observations. It gives comparable and predictable indices of long term temperature variability in global to local scale with directionality and intensity of change. It is also helpful in interpolating the information from known to unknown observations. With situation like Indian Himalayan region where the availability of past historical temperature availability  is very sparse and along with its uniqueness, averaging processes is an essential tool in understanding the climate change and its possible consequences in its vast influential zones. Thus it is imperative to find the most appropriate methodology to be followed in averaging processes which are to be based on the underlaying assumption of homogeneity in observation, reliance on base line trend and linear, covariance based spatial interpolation methodology.      \n",
    "\n",
    "The objective of the present work was to find the appropriate methodology for averaging processes in IHR scenario of immense geographical and altitude variability. Using the data from recently published Berkeley Earth Surface Temperature study dataset, it  aims to compare the long term temperature trend in IHR with newly devised local Berkley averaging processes and widely used offset methodology.   The data for IHR stations (21 nos) grouped into North Western (5 Nos) and Eastern part (17 Nos) was extracted and analyzed from the BEST dataset using the R statistical software packages  'BerkeleyEarth' and 'RghcnV3'. The result shows that significant positive trend was observed in North Western IHR for mean temperature TAVG (tau=0.134, p<0.01), temperature maximum TMAX(tau=0.0813, p<0.01) and temperature minimum TMIN (tau=0.139, p<0.01)  for the year 1875-2011. For North Eastern IHR TAVG (tau=0.163, p<0.01) shows positive trend for the year 1848-2011,  TMAX shows (tau=0.247, p<0.01) positive trend for the year 1875-2011, TMIN shows significant negative trend (tau=-0.123, p<0.01) on the contrary to all. In the case of following offset averaging methodology for North western IHR TAVG(tau=0.118, p<0.01), TMIN(tau=0.129, p<0.01) and TMAX(tau=0.0691, p<0.01) shows significant positive trend for the year 1875-2011. For the North Eastern IHR TAVG(tau=0.167, p<0.01) and TMAX (tau=0.145, p<0.01) shows significant positive  trend and TMIN shows significant negative trend (tau=-0.0362, p<0.01). The related spatial extent analysis of  Berkley averaging and offset methodology- Kriging and average by cell respectively would further give the intensity and directionality of the temperature variability in the region. "
   ]
  }
 ],
 "metadata": {
  "kernelspec": {
   "display_name": "Python 2",
   "language": "python",
   "name": "python2"
  },
  "language_info": {
   "codemirror_mode": {
    "name": "ipython",
    "version": 2
   },
   "file_extension": ".py",
   "mimetype": "text/x-python",
   "name": "python",
   "nbconvert_exporter": "python",
   "pygments_lexer": "ipython2",
   "version": "2.7.14"
  }
 },
 "nbformat": 4,
 "nbformat_minor": 2
}
