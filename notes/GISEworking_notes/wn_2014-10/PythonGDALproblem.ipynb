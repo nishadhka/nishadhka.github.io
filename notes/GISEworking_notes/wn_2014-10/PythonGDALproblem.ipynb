{
 "cells": [
  {
   "cell_type": "markdown",
   "metadata": {
    "collapsed": true
   },
   "source": [
    "#### Python GDAL problem\n",
    "\n",
    "- The error of \n",
    "```bash\n",
    "ImportError: /usr/lib/libgdal.so.1: undefined symbol: sqlite3_column_table_name\n",
    "__main__.gdal_config_error: [Errno 2] No such file or directory\n",
    "```\n",
    "- solved by \n",
    "```\n",
    "sudo apt-cache showpkg sqlite3\n",
    "ogrinfo grid.shp -dialect sqlite -sql \"select sqlite_version()\"\n",
    "ldconfig -p\n",
    "install.packages(file_name_and_path, repos = NULL, type=\"source\")\n",
    "```\n",
    "- reported in \n",
    "    1. http://marc.info/?l=grass-dev&m=138736238422272&w=2\n",
    "    1. http://askubuntu.com/questions/443379/sqlite-header-and-source-version-mismatch\n",
    "    1. http://stackoverflow.com/questions/16095942/sqlite-header-and-source-version-mismatch/16366457#16366457\n",
    "\n",
    "- for R based netcdf view https://gist.github.com/xuanlongma/5874674 and http://stackoverflow.com/questions/11319698/how-to-install-r-packages-rnetcdf-and-ncdf-on-ubuntu\n",
    "```r\n",
    "install.packages(repos=c('http://cran.fhcrc.org/'),pkgs=c('ncdf'),lib=\"/usr/lib/R/site-library/\",configure.args=\"--with-netcdf-include=/usr/local/include --with-netcdf-lib=/usr/local/lib\")\n",
    "```\n",
    "- correcting the grid of coimbatore urban\n"
   ]
  },
  {
   "cell_type": "code",
   "execution_count": null,
   "metadata": {
    "collapsed": true
   },
   "outputs": [],
   "source": []
  }
 ],
 "metadata": {
  "kernelspec": {
   "display_name": "Python 2",
   "language": "python",
   "name": "python2"
  },
  "language_info": {
   "codemirror_mode": {
    "name": "ipython",
    "version": 2
   },
   "file_extension": ".py",
   "mimetype": "text/x-python",
   "name": "python",
   "nbconvert_exporter": "python",
   "pygments_lexer": "ipython2",
   "version": "2.7.14"
  }
 },
 "nbformat": 4,
 "nbformat_minor": 2
}
