{
 "cells": [
  {
   "cell_type": "markdown",
   "metadata": {
    "collapsed": true
   },
   "source": [
    "#### DYLOS RPi serial Problem\n",
    "\n",
    "- RPi(Raspberry pi) has problem in serial read of dylos air quality monitor data, the serial read ends with wrong or misplaced data from the dylos monitor, this problem was mentioned in this (note)(Serial_port_problem_lbm1_knmr.md). For example runnnnig of the python command for getting dylos serial read ends as follows\n",
    "\n",
    "```bash\n",
    "pi@raspberrypi ~/SMS $ python\n",
    ">>> import serial\n",
    ">>> ser = serial.Serial('/dev/dylos', 9600, timeout=60)\n",
    ">>> line = ser.readline()\n",
    ">>> line\n",
    "'376499,3\\n'\n",
    "```\n",
    "the read line data is wrong as of dylos reading.         \n",
    "- As a proof, the dylos monitor with same setup, same SERAL TO USB connector was connected with BBB(Beagle Bone balck) usb port and run the sampler script. it ends as follows\n",
    "\n",
    "```bash\n",
    "root@arm:/home/debian/aerocet# time python sampler.py\n",
    "2014-10-07T12:46:47,3185,65\n",
    "real\t1m0.474s\n",
    "user\t0m0.311s\n",
    "sys\t0m0.088s\n",
    "```\n",
    "- Indicating problem with RPi. More info on timeit tool such as [this](http://stackoverflow.com/questions/1557571/how-to-get-time-of-a-python-program-execution), [this](http://www.pythoncentral.io/time-a-python-function/), [this](http://stackoverflow.com/questions/8220801/how-to-use-timeit-module) and on rpi [this](http://driverdistraction.gnrbd.net/wp-content/uploads/2014/03/Technical-Manual-driver-distraction-Manangemetn.pdf), [this](http://myhumblepi.blogspot.in/)"
   ]
  },
  {
   "cell_type": "code",
   "execution_count": null,
   "metadata": {
    "collapsed": true
   },
   "outputs": [],
   "source": []
  }
 ],
 "metadata": {
  "kernelspec": {
   "display_name": "Python 2",
   "language": "python",
   "name": "python2"
  },
  "language_info": {
   "codemirror_mode": {
    "name": "ipython",
    "version": 2
   },
   "file_extension": ".py",
   "mimetype": "text/x-python",
   "name": "python",
   "nbconvert_exporter": "python",
   "pygments_lexer": "ipython2",
   "version": "2.7.14"
  }
 },
 "nbformat": 4,
 "nbformat_minor": 2
}
