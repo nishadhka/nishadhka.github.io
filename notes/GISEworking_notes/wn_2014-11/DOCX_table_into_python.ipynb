{
 "cells": [
  {
   "cell_type": "markdown",
   "metadata": {
    "collapsed": true
   },
   "source": [
    "**Docx table into pandas**\n",
    "\n",
    "```python\n",
    "import csv\n",
    "import pandas as pd\n",
    "#to remove empty line in csv file\n",
    "input = open('CBE_North_ind.csv', 'rb')\n",
    "output = open('CBEN2.csv', 'wb')\n",
    "writer = csv.writer(output)\n",
    "for row in csv.reader(input):\n",
    "    if any(field.strip(']') for field in row):\n",
    "        writer.writerow(row)\n",
    "input.close()\n",
    "output.close()\n",
    "db=pd.read_csv('CBEN2.csv',delimiter=']')\n",
    "db\n",
    "da=pd.isnull(db['Products manufactured with Quantity and Intermediate / By-Products manufactured with Quantity'])\n",
    "db['Nullys']=pd.isnull(db['Products manufactured with Quantity and Intermediate / By-Products manufactured with Quantity'])\n",
    "rec=db.sort(['Nullys'],ascending=[1])\n",
    "rec=db.sort(['Nullys'],ascending=[0])\n",
    "rec.head()\n",
    "db=pd.read_csv('CBE_North_ind.csv',delimiter=']')\n",
    "db1=db[db['Name and Factory address'].str.contains(\"Annur\")]\n",
    "db2=db[db['Category-Classification Type GFA BS or AC submitted/as on'].str.contains(\"Red-Large\")]\n",
    "db2=db[db['Category-Classification Type GFA BS or AC submitted/as on'].str.contains(\"Red-Medium\")]\n",
    "db2=db[db['Category-Classification Type GFA BS or AC submitted/as on'].str.contains(\"Red-Large\")]\n",
    "db2=db[db['Category-Classification Type GFA BS or AC submitted/as on'].str.contains(\"process involving foundry \")]\n",
    "db2=db[db['Category-Classification Type GFA BS or AC submitted/as on'].str.contains(\"foundry\")]\n",
    "db2=db[db['Category-Classification Type GFA BS or AC submitted/as on'].str.contains(\"-Hotels \")]\n",
    "db2=db[db['Category-Classification Type GFA BS or AC submitted/as on'].str.contains(\"Industry\")]\n",
    "```\n",
    "1. to import the table in docx format has to use window based python library pywin32. Insted of this the table can be all select, copy paste in Libre calculator and save it as csv.\n",
    "1. This csv file will be having one blank line after every row as of DOCX table. To remove this row use [this](http://stackoverflow.com/questions/4521426/delete-blank-rows-from-csv) script, edited with considering the special delimiter used to silence the ',' in address column.\n",
    "```\n",
    "import csv\n",
    "...\n",
    "input = open('CBEN2.csv', 'rb')\n",
    "output = open('CBE_North_ind.csv', 'wb')\n",
    "writer = csv.writer(output)\n",
    "for row in csv.reader(input):\n",
    "    if any(field.strip(']') for field in row):\n",
    "        writer.writerow(row)\n",
    "input.close()\n",
    "output.close()\n",
    "```\n",
    "1. To read by pandas dataframe, `db=pd.read_csv('CBE_North_ind.csv',delimiter=']')`\n",
    "1. aove gives non equal row values for each column, the csv fileopened in text editor was serached for multiple ']]]' and removed all of it. but still having unequal row value. \n",
    "1. To know the presnece of null values in dat aframe used \n",
    "```python\n",
    "da=pd.isnull(db['Name and Factory address'])\n",
    "db['Nullys']=pd.isnull(db['Products manufactured with Quantity and Intermediate / By-Products manufactured with Quantity'])\n",
    "```\n",
    "1. To sort the null boolean values and view its location `rec=db.sort(['Nullys'],ascending=[0])`\n",
    "1. To search for string in particular column `db2=db[db['columns'].str.contains(\"Search string\")]`\n",
    "```"
   ]
  },
  {
   "cell_type": "code",
   "execution_count": null,
   "metadata": {
    "collapsed": true
   },
   "outputs": [],
   "source": []
  }
 ],
 "metadata": {
  "kernelspec": {
   "display_name": "Python 2",
   "language": "python",
   "name": "python2"
  },
  "language_info": {
   "codemirror_mode": {
    "name": "ipython",
    "version": 2
   },
   "file_extension": ".py",
   "mimetype": "text/x-python",
   "name": "python",
   "nbconvert_exporter": "python",
   "pygments_lexer": "ipython2",
   "version": "2.7.14"
  }
 },
 "nbformat": 4,
 "nbformat_minor": 2
}
