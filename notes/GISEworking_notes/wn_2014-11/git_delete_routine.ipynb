{
 "cells": [
  {
   "cell_type": "markdown",
   "metadata": {
    "collapsed": true
   },
   "source": [
    "**git delete routine**\n",
    "\n",
    "1. Using git and github, to remove a file which is committed earlier is requier following steps. Even though the file will be removed with delete button option of OS. The committed files still be inside the git version control system and it will make problem in uploading it into github if it is large file size >100MB accidently committed.\n",
    "1. First to list the files deleted in the OS but not in git system, based on [this](http://stackoverflow.com/questions/6017987/is-there-a-way-in-git-to-list-all-deleted-files-in-the-repository). The command for list the deleted files ```git ls-files --deleted```\n",
    "1. The remove all the files in deleted list from git system using same above command but with xarg command to loop the list and execute the git rm command as follows ```git ls-files --deleted | xargs git rm```\n",
    "1. From the same page to list all the files in git system also\n",
    "```git log --all --pretty=format: --name-only --diff-filter=D | sort -u```\n",
    "1. But the problem of large file size of github is not gone away, it is found that the problem is complex and need specific codes to do that such [this](http://stackoverflow.com/questions/23435624/git-complaining-about-a-large-file-i-deleted).\n",
    "1. The easiest way forward in this situation is feshely clone the remtotre repositry and add the new files in it and recommit. The issue here is lose of no nupdates commit. "
   ]
  },
  {
   "cell_type": "code",
   "execution_count": null,
   "metadata": {
    "collapsed": true
   },
   "outputs": [],
   "source": []
  }
 ],
 "metadata": {
  "kernelspec": {
   "display_name": "Python 2",
   "language": "python",
   "name": "python2"
  },
  "language_info": {
   "codemirror_mode": {
    "name": "ipython",
    "version": 2
   },
   "file_extension": ".py",
   "mimetype": "text/x-python",
   "name": "python",
   "nbconvert_exporter": "python",
   "pygments_lexer": "ipython2",
   "version": "2.7.14"
  }
 },
 "nbformat": 4,
 "nbformat_minor": 2
}
