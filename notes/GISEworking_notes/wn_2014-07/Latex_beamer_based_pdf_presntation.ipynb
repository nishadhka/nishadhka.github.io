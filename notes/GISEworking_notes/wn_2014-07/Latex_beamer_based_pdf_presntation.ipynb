{
 "cells": [
  {
   "cell_type": "markdown",
   "metadata": {
    "collapsed": true
   },
   "source": [
    "### Latex_beamer_based_pdf_presntation\n",
    "\n",
    "1. For creating a presentation with lot of images in it, a latex based presentation was preferred\n",
    "2. It is easier than ppt with tight control of formating and content referencing\n",
    "3. The presentation is based on this [note](http://tex.stackexchange.com/questions/114789/button-on-all-slides-after-table-of-contents-in-beamer) and chosen Berlin theme within beamer's n number of variety themes.\n",
    "4. Main problem faced was bibtex based referencing and it couldn't be solved and used normal superscript referencing.\n",
    "5. Another problem faced was box and its colour choosing, it was solved follwoing [this](http://www.mathematik.uni-leipzig.de/~hellmund/LaTeX/beamer2.pdf) wonderful tutorial"
   ]
  },
  {
   "cell_type": "code",
   "execution_count": null,
   "metadata": {
    "collapsed": true
   },
   "outputs": [],
   "source": []
  }
 ],
 "metadata": {
  "kernelspec": {
   "display_name": "Python 2",
   "language": "python",
   "name": "python2"
  },
  "language_info": {
   "codemirror_mode": {
    "name": "ipython",
    "version": 2
   },
   "file_extension": ".py",
   "mimetype": "text/x-python",
   "name": "python",
   "nbconvert_exporter": "python",
   "pygments_lexer": "ipython2",
   "version": "2.7.14"
  }
 },
 "nbformat": 4,
 "nbformat_minor": 2
}
