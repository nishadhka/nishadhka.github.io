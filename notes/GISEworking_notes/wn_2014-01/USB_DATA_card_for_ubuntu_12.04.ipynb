{
 "cells": [
  {
   "cell_type": "markdown",
   "metadata": {
    "collapsed": true
   },
   "source": [
    "**USB_DATA_card_for_ubuntu_12.04**\n",
    "\n",
    "* Do `dmesg |grep tty`\n",
    "* if not showing any thing, solved follwoing final answer of this question  http://ubuntuforums.org/archive/index.php/t-1853306.html\n",
    "* \"dmesg is a ring buffer, so if there are a lot of messages being logged you will lose the initial boot messages. Try this instead:\n",
    "```\n",
    "cd /var/log; \n",
    "grep ttyUSB dmesg messages *log | more\"\n",
    "```\n",
    "* now showing \n",
    "```bash\n",
    "fellow@dhcppc3:~$ cd /var/log ; grep ttyUSB dmesg messages *log | more\n",
    "grep: messagesdmesg:[   23.391523] usb 1-1.1: GSM modem (1-port) converter now attached to ttyUSB0\n",
    ": No such file or directory\n",
    "dmesg:[   23.391604] usb 1-1.1: GSM modem (1-port) converter now attached to ttyUSB1\n",
    "dmesg:[   23.391645] usb 1-1.1: GSM modem (1-port) converter now attached to ttyUSB2\n",
    "```"
   ]
  },
  {
   "cell_type": "code",
   "execution_count": null,
   "metadata": {
    "collapsed": true
   },
   "outputs": [],
   "source": []
  }
 ],
 "metadata": {
  "kernelspec": {
   "display_name": "Python 2",
   "language": "python",
   "name": "python2"
  },
  "language_info": {
   "codemirror_mode": {
    "name": "ipython",
    "version": 2
   },
   "file_extension": ".py",
   "mimetype": "text/x-python",
   "name": "python",
   "nbconvert_exporter": "python",
   "pygments_lexer": "ipython2",
   "version": "2.7.14"
  }
 },
 "nbformat": 4,
 "nbformat_minor": 2
}
