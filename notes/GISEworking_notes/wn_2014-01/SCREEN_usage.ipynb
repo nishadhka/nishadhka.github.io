{
 "cells": [
  {
   "cell_type": "markdown",
   "metadata": {
    "collapsed": true
   },
   "source": [
    " **SCREEN_usage**\n",
    "\n",
    "SCREEN is a utility for multiple session in command line linux.\n",
    "* To start a screen with name `screen -S \"name without mark\"`\n",
    "* To view running screen `screen -r`\n",
    "* to get into particular screen `screen -xr pid(of the screen)`\n",
    "* to get out of screen `CTRL+A+D`\n",
    "* ubunut problme atkbd.c spamming the logs. How to get rid? what is this? using this http://askubuntu.com/questions/116538/atkbd-c-spamming-the-logs-how-to-get-rid-what-is-this"
   ]
  },
  {
   "cell_type": "code",
   "execution_count": null,
   "metadata": {
    "collapsed": true
   },
   "outputs": [],
   "source": []
  }
 ],
 "metadata": {
  "kernelspec": {
   "display_name": "Python 2",
   "language": "python",
   "name": "python2"
  },
  "language_info": {
   "codemirror_mode": {
    "name": "ipython",
    "version": 2
   },
   "file_extension": ".py",
   "mimetype": "text/x-python",
   "name": "python",
   "nbconvert_exporter": "python",
   "pygments_lexer": "ipython2",
   "version": "2.7.14"
  }
 },
 "nbformat": 4,
 "nbformat_minor": 2
}
