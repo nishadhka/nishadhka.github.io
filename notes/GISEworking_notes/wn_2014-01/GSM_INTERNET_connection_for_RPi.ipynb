{
 "cells": [
  {
   "cell_type": "markdown",
   "metadata": {
    "collapsed": true
   },
   "source": [
    "**GSM_INTERNET_connection_for_RPi**\n",
    "\n",
    "Follows\n",
    "```\n",
    "http://mintakaconciencia.net/squares/umtskeeper/index.html#install \n",
    "http://bigcowpi.blogspot.in/2013/03/raspberry-pi-as-3g-huawei-e303-wireless.html http://raspberry-at-home.com/installing-3g-modem/\n",
    "http://decryption.wordpress.com/2013/07/30/raspberry-pi-portable-3g4g-network-quality-logger-project-part-1/ http://pikiosk.tumblr.com/post/39526392102/raspberry-3g-modem-usb http://shkspr.mobi/blog/2012/07/3g-internet-on-raspberry-pi-success/\n",
    "http://fcastagnotto.wordpress.com/2013/04/29/usb_modeswitch-ubuntu-systems/\n",
    "http://www.thefanclub.co.za/how-to/how-setup-usb-3g-modem-raspberry-pi-using-usbmodeswitch-and-wvdial\n",
    "http://raspberrypi.stackexchange.com/questions/4314/can-i-use-usb-dongle-to-connect-raspberry-pi-to-internet\n",
    "```"
   ]
  },
  {
   "cell_type": "code",
   "execution_count": null,
   "metadata": {
    "collapsed": true
   },
   "outputs": [],
   "source": []
  }
 ],
 "metadata": {
  "kernelspec": {
   "display_name": "Python 2",
   "language": "python",
   "name": "python2"
  },
  "language_info": {
   "codemirror_mode": {
    "name": "ipython",
    "version": 2
   },
   "file_extension": ".py",
   "mimetype": "text/x-python",
   "name": "python",
   "nbconvert_exporter": "python",
   "pygments_lexer": "ipython2",
   "version": "2.7.14"
  }
 },
 "nbformat": 4,
 "nbformat_minor": 2
}
