{
 "cells": [
  {
   "cell_type": "markdown",
   "metadata": {
    "collapsed": true
   },
   "source": [
    "**Ubuntu_SERVER_black_screen_problem**\n",
    "\n",
    "The problem is with monitor dipslay for Ubuntu 12.04 server headless is showing a black screen, however with this state the SSH can be done and all the functionality will work with out any problem. another problem is through SSH, reboot will not work, it will stuck on GRUB menu after reboot, the physical machine has to be approached to press enter to start the session. \n",
    "\n",
    "SERVER CODE executed after this is\n",
    "```\n",
    "sudo apt-get upgrade grub\n",
    "```\n",
    "\n",
    "**Reference**\n",
    "    1. http://askubuntu.com/questions/272503/ubuntu-12-04-boots-into-black-blank-screen\n",
    "    1. http://serverfault.com/questions/243343/headless-ubuntu-server-machine-sometimes-stuck-at-grub-menu\n",
    "    1. http://lani78.wordpress.com/2012/07/19/change-to-static-ip-on-the-ubuntu-precise-pangolin-server/\n",
    "    have to look into fstab and bootloading mind these links\n",
    "    1. http://ubuntuforums.org/showthread.php?t=2014700\n",
    "    1. http://askubuntu.com/questions/121008/server-boots-to-grub-prompt-after-reboot\n",
    "    1. http://serverfault.com/questions/243343/headless-ubuntu-server-machine-sometimes-stuck-at-grub-menu\n",
    "    1. http://askubuntu.com/questions/164926/how-to-make-hdds-mount-at-startup-in-ubuntu-12-04\n",
    "    1. http://askubuntu.com/questions/248986/ubuntu-12-04-lts-no-longer-able-to-boot-normally\n",
    "    1. https://help.ubuntu.com/community/BinaryDriverHowto/ATI\n",
    "    1. https://wiki.ubuntu.com/DebuggingKernelBoot\n",
    "    1. http://askubuntu.com/questions/137655/boot-up-fails-drops-to-initramfs-prompt-12-04\n"
   ]
  },
  {
   "cell_type": "code",
   "execution_count": null,
   "metadata": {
    "collapsed": true
   },
   "outputs": [],
   "source": []
  }
 ],
 "metadata": {
  "kernelspec": {
   "display_name": "Python 2",
   "language": "python",
   "name": "python2"
  },
  "language_info": {
   "codemirror_mode": {
    "name": "ipython",
    "version": 2
   },
   "file_extension": ".py",
   "mimetype": "text/x-python",
   "name": "python",
   "nbconvert_exporter": "python",
   "pygments_lexer": "ipython2",
   "version": "2.7.14"
  }
 },
 "nbformat": 4,
 "nbformat_minor": 2
}
