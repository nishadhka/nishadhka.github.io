{
 "cells": [
  {
   "cell_type": "markdown",
   "metadata": {
    "collapsed": true
   },
   "source": [
    "**python_script_for_inserting_SOS**\n",
    "\n",
    "1. A python script to insert data into 52 NORTH SOS through HTTP POST. Save this script as python file and run the script in terminal as python `scriptname.py`. It will insert the data and report the status as given by test client `send` button. 52 north SOS has to be run in localhost.\n",
    "1. based on https://github.com/mpfeil/qualitySCHU/blob/master/Parser/LANUV/main.py and http://stackoverflow.com/questions/16055334/post-xml-request-using-python\n",
    "\n",
    "```python\n",
    "import urllib \n",
    "import httplib from xml.dom.minidom \n",
    "import parse, parseString\n",
    "target_url = “http://localhost:8080/52n-sos-webapp-4.0.0-Beta1/sos/soap” #the insert observation requests from test client 52 north SOS \n",
    "\n",
    "xml_request = “”\"\n",
    "        <sos:offering>test_offering_1</sos:offering>\n",
    "        <sos:observation>\n",
    "            <om:OM_Observation gml:id=\"o1\">\n",
    "                <om:type xlink:href=\"http://www.opengis.net/def/observationType/OGC-OM/2.0/OM_Measurement\"/>\n",
    "                <om:phenomenonTime>\n",
    "                    <gml:TimeInstant gml:id=\"phenomenonTime\">\n",
    "                        <gml:timePosition>2013-12-14T17:45:15.000+00:00</gml:timePosition>\n",
    "                    </gml:TimeInstant>\n",
    "                </om:phenomenonTime>\n",
    "                <om:resultTime xlink:href=\"#phenomenonTime\"/>\n",
    "                <om:procedure xlink:href=\"http://www.example.org/sensors/101\"/>\n",
    "                <om:observedProperty xlink:href=\"test_observable_property_1\"/>\n",
    "                <om:featureOfInterest>\n",
    "                    <sams:SF_SpatialSamplingFeature gml:id=\"ssf_test_feature_1\">\n",
    "                        <gml:identifier codeSpace=\"\">test_feature_1</gml:identifier>\n",
    "                        <sf:type xlink:href=\"http://www.opengis.net/def/samplingFeatureType/OGC-OM/2.0/SF_SamplingPoint\"/>\n",
    "                        <sf:sampledFeature xlink:href=\"test_feature_1\"/>\n",
    "                        <sams:shape>\n",
    "                            <gml:Point gml:id=\"test_feature_1\">\n",
    "                                <gml:pos srsName=\"http://www.opengis.net/def/crs/EPSG/0/4326\">49.594538 20.401108</gml:pos>\n",
    "                            </gml:Point>\n",
    "                        </sams:shape>\n",
    "                    </sams:SF_SpatialSamplingFeature>\n",
    "                </om:featureOfInterest>\n",
    "                <om:result xsi:type=\"gml:MeasureType\" uom=\"urn:ogc:def:uom:OGC:m\">4444</om:result>\n",
    "            </om:OM_Observation>\n",
    "        </sos:observation>\n",
    "    </sos:InsertObservation>\n",
    "</env:Body>\n",
    "\n",
    "“”\" \n",
    "def send_xml(): \n",
    "        result = urllib.urlopen( target_url, urllib.urlencode( {‘request’:xml_request} ) ) \n",
    "#parse results and print the xml or do whatever with it \n",
    "dom = parse( result ) \n",
    "print dom.toprettyxml() \n",
    "result.close()\n",
    "def main():\n",
    "send_xml()\n",
    "if name == “main”:\n",
    "main()\n",
    "```\n"
   ]
  },
  {
   "cell_type": "code",
   "execution_count": null,
   "metadata": {
    "collapsed": true
   },
   "outputs": [],
   "source": []
  }
 ],
 "metadata": {
  "kernelspec": {
   "display_name": "Python 2",
   "language": "python",
   "name": "python2"
  },
  "language_info": {
   "codemirror_mode": {
    "name": "ipython",
    "version": 2
   },
   "file_extension": ".py",
   "mimetype": "text/x-python",
   "name": "python",
   "nbconvert_exporter": "python",
   "pygments_lexer": "ipython2",
   "version": "2.7.14"
  }
 },
 "nbformat": 4,
 "nbformat_minor": 2
}
