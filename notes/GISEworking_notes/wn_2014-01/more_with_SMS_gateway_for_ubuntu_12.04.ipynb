{
 "cells": [
  {
   "cell_type": "markdown",
   "metadata": {
    "collapsed": true
   },
   "source": [
    "**more_with_SMS_gateway_for_ubuntu_12.04**\n",
    "\n",
    "1. based on this http://blog.sleeplessbeastie.eu/2012/07/16/kalkun-how-to-setup-sms-gateway-at-home/ and http://back2arie.wordpress.com/2010/07/27/using-gammu-smsd-with-multiple-phone/\n",
    "1. problem rectified by  http://askubuntu.com/questions/211739/gammu-and-device-permissions\n",
    "1. steps followed are,  installed following \n",
    "```\n",
    "sudo apt-get install gammu gammu-smsd\n",
    "sudo cp /usr/share/doc/gammu/examples/config/gammurc /etc/gammurc\n",
    "```\n",
    "1. the gammurc file will not be there, has to do this step, instaed of running gammu-conifg is a problem and make gammurc files in home folder\n",
    "3. now run `gammu --identify`, it gives no phone detected or some other error\n",
    "4. for this the config file gammurc has to edited as per like this\n",
    "```bash\n",
    "[gammu]\n",
    "device = /dev/phone\n",
    "connection = at\n",
    "to makde the /dev/phone, the udev files has to be created, inside \n",
    "/etc/udev/rules.d, with file name 90-phone.rules, with this contents\n",
    "KERNEL==\"ttyUSB*\", ATTRS{idVendor}==\"12d1\", ATTRS{idProduct}==\"1436\", NAME=\"phone\", MODE=\"0666\",SYMLINK+=\"phone\"\n",
    "KERNEL==\"ttyUSB*\", ATTRS{idVendor}==\"067b\", ATTRS{idProduct}==\"2303\", NAME=\"dylos\", MODE=\"0666\",SYMLINK+=\"dylos\"\n",
    "ATTRS{idVendor}==\"067b\", ATTRS{idProduct}==\"2303\", SYMLINK+=\"dylos\"\n",
    "```\n",
    "1. now reboot the system, now inside the /dev folder there will be phone file\n",
    "1. change the gammurc file as earlier and reboot\n",
    "1. now `gammu --identify` can be run with out sudo\n",
    "1. it shows\n",
    "```bash\n",
    "gammu --identify\n",
    "Device               : /dev/phone\n",
    "Manufacturer         : Huawei\n",
    "Model                : E173 (E173)\n",
    "Firmware             : 11.126.30.00.00\n",
    "IMEI                 : \n",
    "SIM IMSI             : \n",
    "```\n",
    "1. now go to gammu-smsd, it remove file permission error like this, if it running gammu --identify with sudo\n",
    "```bash\n",
    " gammu-smsd -c /etc/gammu-smsdrc\n",
    "Can't open log file \"/var/log/gammu-smsd.log\"\n",
    "Failed to read config: Can not open specified file.\n",
    "```\n",
    "1. by rectifying the gammu --identify with out sudo, by this now the gammu-smsdrc will also be running and storing the received sms in its in box of mysql if it is configured as per the earlier references, te gammu-smsdrc config file look like this\n",
    "```bash\n",
    "[gammu]\n",
    "device = /dev/phone\n",
    "connection = at\n",
    "[smsd]\n",
    "PIN=9999\n",
    "runonreceive = /var/www/kalkun/scripts/daemon.sh\n",
    "logfile = /var/log/gammu-smsd.log\n",
    "commtimeout = 10\n",
    "sendtimeout = 20\n",
    "deliveryreport = log\n",
    "phoneid = mdsms\n",
    "transmitformat = auto\n",
    "#Storage - MySQL\n",
    "service = SQL\n",
    "driver = native_mysql\n",
    "database = kalkun\n",
    "user = yourrootname\n",
    "password = yourpassword\n",
    "pc = localhost\n",
    "#Storage - Files\n",
    "#service = FILES\n",
    "#inboxpath = /home/milosz/sms/inbox/\n",
    "#outboxpath = /home/milosz/sms/outbox/\n",
    "#sentsmspath = /home/milosz/sms/sent/\n",
    "#errorsmspath = /home/milosz/sms/error/\n",
    "#inboxformat = standard\n",
    "```\n",
    "1. and also the mysql has to given with a database and sql import from the sql file provided with the gammu or gammu-smsd, to unzip the gz files use \n",
    "```bash\n",
    "sudo gzip -d pgsql.sql.gz\n",
    "```\n",
    "1. in this folder `/usr/share/doc/gammu/examples/sql`\n",
    "1. now the kalkun is not working has to see other time"
   ]
  },
  {
   "cell_type": "code",
   "execution_count": null,
   "metadata": {
    "collapsed": true
   },
   "outputs": [],
   "source": []
  }
 ],
 "metadata": {
  "kernelspec": {
   "display_name": "Python 2",
   "language": "python",
   "name": "python2"
  },
  "language_info": {
   "codemirror_mode": {
    "name": "ipython",
    "version": 2
   },
   "file_extension": ".py",
   "mimetype": "text/x-python",
   "name": "python",
   "nbconvert_exporter": "python",
   "pygments_lexer": "ipython2",
   "version": "2.7.14"
  }
 },
 "nbformat": 4,
 "nbformat_minor": 2
}
