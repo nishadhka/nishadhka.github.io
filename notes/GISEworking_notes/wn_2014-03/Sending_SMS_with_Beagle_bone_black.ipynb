{
 "cells": [
  {
   "cell_type": "markdown",
   "metadata": {
    "collapsed": true
   },
   "source": [
    "**Sending SMS in Beagle bone black**\n",
    "\n",
    "1. It is an angstrom linux BBB, first connected to Ubuntu lap using usb wire from BBB, then a USB was connected to the powered USB hub, in which a serial USB connector and a Huwaei e 173 data (This was tested for Huwaei E303F also, it worked) card was connected.\n",
    "1. ssh's into it using ssh 192.168.7.2 -l root and password blank (a enter)\n",
    "1. Now lsusb showing  Huwaei with modem and serial usb.\n",
    "1. Now the need of usb_modeswitch for Huwaei GSM, so need of usb_modeswitch in the Angstrom, downloaded ipk file (deb in angstrom) from http://feeds.angstrom-distribution.org/feeds/unstable/ipk/glibc/armv7a/base/usbmodeswitch_1.1.3-r0.5_armv7a.ipk and transfered the file into BBB using the command from lap Ubuntu\n",
    "```\n",
    "scp Downloads/usbmodeswitch_1.1.3-r0.5_armv7a.ipk root@192.168.7.2:~/Desktop/\n",
    "```\n",
    "1. To install used `opkg install usbmodeswitch_1.1.3-r0.5_armv7a.ipk`\n",
    "1. Edited usb_modeswitch.conf as following http://www.draisberghof.de/usb_modeswitch/bb/viewtopic.php?p=4521n and https://bbs.archlinux.org/viewtopic.php?id=118746 by\n",
    "```bash\n",
    "##################################\n",
    "DefaultVendor= 0x12d1\n",
    "DefaultProduct=0x1446\n",
    "TargetVendor=  0x12d1\n",
    "TargetProductList=\"1001,1406,140b,140c,1412,141b,1433,14ac\"\n",
    "CheckSuccess=20\n",
    "MessageContent=\"55534243000000000000000000000011060000000000000000000000000000\"\n",
    "###################################\n",
    "```\n",
    "1. Then fired usb_modeswitch as `usb_modeswitch -I -W -c /etc/usb_modeswitch.conf`\n",
    "1. it finally says good news of modem switch, based on http://www.tabletroms.com/forums/adam-general-development/510-success-3g-usb-modems-now-work*-adam-35.html\n",
    "1. to send the SMS followed https://groups.google.com/forum/#!msg/beagleboard/lW60u9wR-iA/ziuvODtCaZQJ. Made a sms.sh file copyed the contents follows\n",
    "```bash\n",
    "echo -e -n \"AT+CMGF=1 \\015\" > /dev/ttyUSB1\n",
    "echo -e -n \"AT+CMGS=\\\"your mobile number\\\" \\015\" > /dev/ttyUSB1\n",
    "echo -e -n \"your text message \\015\" > /dev/ttyUSB1\n",
    "echo -e -n \"\\032\" > /dev/ttyUSB1\n",
    "echo \"******SMS was sent successfully!******\"\n",
    "```\n",
    "1. run the file as sh sms.sh and immediately good news came SMS was sent successfully. dmesg| grep tty given the information to choose /dev/ttyUSB1"
   ]
  },
  {
   "cell_type": "code",
   "execution_count": null,
   "metadata": {
    "collapsed": true
   },
   "outputs": [],
   "source": []
  }
 ],
 "metadata": {
  "kernelspec": {
   "display_name": "Python 2",
   "language": "python",
   "name": "python2"
  },
  "language_info": {
   "codemirror_mode": {
    "name": "ipython",
    "version": 2
   },
   "file_extension": ".py",
   "mimetype": "text/x-python",
   "name": "python",
   "nbconvert_exporter": "python",
   "pygments_lexer": "ipython2",
   "version": "2.7.14"
  }
 },
 "nbformat": 4,
 "nbformat_minor": 2
}
