{
 "cells": [
  {
   "cell_type": "markdown",
   "metadata": {
    "collapsed": true
   },
   "source": [
    "**python_querying_and_editing_json**\n",
    "- For most of the works related with [this](https://github.com/saconswl/Real_time_air_pollution_Mod_Proj-2013-2014/blob/home/working_notes/wn_2014-05/Node_js_withAIRwindandEarthwind.md) and [this](https://github.com/saconswl/Real_time_air_pollution_Mod_Proj-2013-2014/blob/home/working_notes/wn_2014-05/QualitySCHU%20to%20cbe%20air.md) involves editing and querying of json and its formates such as GeoJson and Topojson\n",
    "- In cbe-air web application, topjson is going to act as map element and its editing is required for real time map generation and for map styling\n",
    "- In node.js based web application for visualizing model output, netcdf output from WRF has to converted into geojson and made similar with the [earth wind](https://github.com/cambecc/earth)  data formate.\n",
    "- Moreover, to convert the WRF hourly output into specified location time series data, json output has to queryied with specified location's latitude and longitude variables.\n",
    "- So python script to parse, query and add feture into json would be usefull.\n",
    "\n",
    "**Python script for json editing**\n",
    "\n",
    "- json module of python is useful for editing the json files. It can be used by follwoing commands, bascially converting json elements into python object to process and query\n",
    "- For a GeoJson  file to get the length of feature in it used `print len(obj['features'])`\n",
    "- Better to use firefox json viewer to know before hand the elements in json file. based on [this] to edit a json file or delete a feature in it used \n",
    "```python\n",
    "#!/usr/bin/\t\t\t\t\t\tpython                                                               \n",
    "# Load the JSON module and use it to load your JSON file.                       \n",
    "# I'm assuming that the JSON file contains a list \t\t\t\t\tof objects.                   \n",
    "import json\n",
    "obj  = json.load(open(\"file.json\"))\n",
    "# Iterate through the objects in the JSON and pop \t\t\t\t\t(remove)                      \n",
    "# the obj once we fin it.                                                      \n",
    "for i in xrange(len(obj)):\n",
    "     if obj[i][\"ename\"] == \"mark\":\n",
    "    obj.pop(i)\n",
    "    break\n",
    "# Output the updated file with pretty \t\t\t\tJSON                                      \n",
    "open(\"updated-file.json\", \"w\").write(\n",
    "        json.dumps(obj, sort_keys=True, indent=4, separators=(',', ': '))\n",
    "            )\n",
    "for i in xrange(len(obj['features'])):\n",
    "            enumerate(obj['features'][i]['id']== \"state1\")\n",
    "```\n",
    "1. it is been difficult to delete or edit the nested json files especially based on list, to query these Geojson, it has to be saved into one nest down by\n",
    "```python\n",
    "import json\n",
    "obj  = json.load(open(\"Geojson.json\"))\n",
    "nestD=obj['features']\n",
    "for l in a:\n",
    "            print l['id']\n",
    "```\n",
    "1. after this saving it gives more easy to query the nested json elements, but distorting the orginal geojson file structure\n",
    "1. One usefull tutorila in thsi context is [this](http://www.jroller.com/evans/entry/parsing_json_with_python)\n",
    "http://stackoverflow.com/questions/4859071/editing-existing-json-in-python and https://github.com/arundhaj/d3js_sandbox/tree/master/maps"
   ]
  },
  {
   "cell_type": "code",
   "execution_count": null,
   "metadata": {
    "collapsed": true
   },
   "outputs": [],
   "source": []
  }
 ],
 "metadata": {
  "kernelspec": {
   "display_name": "Python 2",
   "language": "python",
   "name": "python2"
  },
  "language_info": {
   "codemirror_mode": {
    "name": "ipython",
    "version": 2
   },
   "file_extension": ".py",
   "mimetype": "text/x-python",
   "name": "python",
   "nbconvert_exporter": "python",
   "pygments_lexer": "ipython2",
   "version": "2.7.14"
  }
 },
 "nbformat": 4,
 "nbformat_minor": 2
}
