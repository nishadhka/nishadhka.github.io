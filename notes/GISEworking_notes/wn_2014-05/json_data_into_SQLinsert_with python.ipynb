{
 "cells": [
  {
   "cell_type": "markdown",
   "metadata": {
    "collapsed": true
   },
   "source": [
    "**json_data_into_SQLinsert_with python**\n",
    "- to start with json data in python and loop over its elements\n",
    "```\n",
    "import json\n",
    "json_data=open('data.json')\n",
    "data=json.load(json_data)\n",
    "a=data[0]['samples']\n",
    "for rs in a:\n",
    " print rs['wind']\n",
    "```\n",
    "- to join two list as a column in python\n",
    "```\n",
    "to join two list inpython\n",
    "for c1, c2 in zip(de, c):\n",
    "\t\t\tprint \"%-9s %s\" % (c1, c2)\n",
    "```\n",
    "- to append loop items into a array\n",
    "```\n",
    "c=[]\n",
    " for rs in a:\n",
    "c.append(rs['wind'])\n",
    "```\n",
    "- to remove u from list elemnt\n",
    "```\n",
    "de=[]\n",
    "for x in d:\n",
    "de.append(x.encode('ascii','ignore'))\n",
    "```\n",
    "- to join one or more list into sql insert format from json loopable elements, from [this](http://stackoverflow.com/questions/19302612/python-how-to-write-data-from-two-lists-into-columns-in-a-csv)\n",
    "```\n",
    "for i in xrange(len(bins)):\n",
    "...     print(\"('2014-05-23 13:00:00+09:00'{},{}\\n\".format(bins[i], freq[i]))\n",
    "```\n",
    "- So the implementation of converting json into sql insert formate for postgresql is as follows,\n",
    "```\n",
    "import json\n",
    "json_data=open('data.json')\n",
    "data=json.load(json_data)\n",
    "a=data[0]['samples']\n",
    "st=[]\n",
    "for rs in a:\n",
    "\t\tst.append(rs['stationId'])\n",
    "//st will have value with u', to remove this\n",
    "stde=[]\n",
    "for s in st:\n",
    "\t\tstde.append(s.encode('ascii','ignore'))\n",
    "//to get wd from json \n",
    "wd=[]\n",
    "for rs in a:\n",
    "\t\twd.append(rs['wind'][0])\n",
    "//to get second element wv from json\n",
    "wv=[]\n",
    "for rs in a:\n",
    "\t\twv.append(rs['wind'][1])\n",
    "// to join three list into a sql insert statment like this \n",
    "//INSERT INTO samples(date,\"stationId\",wd,wv)\n",
    "//VALUES\n",
    "//   \t('2014-05-23 13:00:00+09:00',101,90,0.7)\n",
    "print \"INSERT INTO samples(date,\"stationId\",wd,wv)\\n VALUES\"\n",
    "for i in xrange(len(wd)):\n",
    "\t\tprint(\"('2014-05-23 13:00:00+09:00',{},{},{}),\\n\".format(stde[i],wv[i],wd[i]))\n",
    "```\n",
    "- to call only the keys of json based on [this](http://stackoverflow.com/questions/15789059/python-json-only-get-keys-in-first-level)\n",
    "```\n",
    "for key in data.keys():\n",
    "     print key\n",
    "```\n"
   ]
  },
  {
   "cell_type": "code",
   "execution_count": null,
   "metadata": {
    "collapsed": true
   },
   "outputs": [],
   "source": []
  }
 ],
 "metadata": {
  "kernelspec": {
   "display_name": "Python 2",
   "language": "python",
   "name": "python2"
  },
  "language_info": {
   "codemirror_mode": {
    "name": "ipython",
    "version": 2
   },
   "file_extension": ".py",
   "mimetype": "text/x-python",
   "name": "python",
   "nbconvert_exporter": "python",
   "pygments_lexer": "ipython2",
   "version": "2.7.14"
  }
 },
 "nbformat": 4,
 "nbformat_minor": 2
}
