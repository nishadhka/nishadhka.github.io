{
 "cells": [
  {
   "cell_type": "markdown",
   "metadata": {
    "collapsed": true
   },
   "source": [
    "**gammu_mysql**\n",
    "\n",
    "- followed [this](http://wammu.eu/docs/manual/smsd/mysql.html),[this](http://wammu.eu/docs/manual/smsd/config.html#gammu-smsdrc)\n",
    "- the running, file based gammu-smsd backend configuration file is as follows\n",
    "```\n",
    "nano /etc/gammu-smsdrc\n",
    "# Configuration file for Gammu SMS Daemon\n",
    "# Gammu library configuration, see gammurc(5)\n",
    "[gammu]\n",
    "# Please configure this!\n",
    "port = /dev/ttyUSB2\n",
    "model =\n",
    "connection = at\n",
    "synchronizetime = yes\n",
    "#logfile = /home/debian/gammulog\n",
    "#logformat = textalldate\n",
    "use_locking =\n",
    "gammuloc =\n",
    "# SMSD configuration, see gammu-smsdrc(5)\n",
    "[smsd]\n",
    "#debuglevel = 255\n",
    "#Service = sql\n",
    "#Driver = sqlite3\n",
    "#database = kalkun.sqlite\n",
    "#PIN = 1234\n",
    "#DriversPath = /usr/bin/sqlite3\n",
    "#DBDir = /usr/bin/sqlite3\n",
    "#Database = /home/Debian/gammu.db\n",
    "#logformat = textall\n",
    "#Logfile = /home/debian/gammu-smsd.log\n",
    "# Increase for debugging information\n",
    "#debuglevel =\n",
    "# Paths where messages are stored\n",
    "Service = files\n",
    "PIN = 1234\n",
    "Logfile = /home/debian/gammu-smsd.log\n",
    "inboxpath = /home/debian/gammu/inbox/\n",
    "outboxpath = /home/debian/gammu/outbox/\n",
    "```\n",
    "- the configureation file is changed to make gammu backend with mysql\n",
    "```\n",
    "nano /etc/gammu-smsdrc\n",
    "# Configuration file for Gammu SMS Daemon\n",
    "# Gammu library configuration, see gammurc(5)\n",
    "[gammu]\n",
    "# Please configure this!\n",
    "port = /dev/ttyUSB2\n",
    "model =\n",
    "connection = at\n",
    "synchronizetime = yes\n",
    "#logfile = /home/debian/gammusmsdlog\n",
    "#logformat = textalldate\n",
    "use_locking =\n",
    "gammuloc =\n",
    "# SMSD configuration, see gammu-smsdrc(5)\n",
    "[smsd]\n",
    "Service = sql\n",
    "Driver = native_mysql\n",
    "PIN = 1234\n",
    "#LogFile = syslog\n",
    "User = root\n",
    "Password = smsd\n",
    "PC = localhost\n",
    "Database = gammu\n",
    "```\n",
    "- to stop or restart gammu-smsd ```/etc/init.d/gammu-smsd stop```\n",
    "- to start gammu-smsd with deamon ```gammu-smsd -d```"
   ]
  },
  {
   "cell_type": "code",
   "execution_count": null,
   "metadata": {
    "collapsed": true
   },
   "outputs": [],
   "source": []
  }
 ],
 "metadata": {
  "kernelspec": {
   "display_name": "Python 2",
   "language": "python",
   "name": "python2"
  },
  "language_info": {
   "codemirror_mode": {
    "name": "ipython",
    "version": 2
   },
   "file_extension": ".py",
   "mimetype": "text/x-python",
   "name": "python",
   "nbconvert_exporter": "python",
   "pygments_lexer": "ipython2",
   "version": "2.7.14"
  }
 },
 "nbformat": 4,
 "nbformat_minor": 2
}
