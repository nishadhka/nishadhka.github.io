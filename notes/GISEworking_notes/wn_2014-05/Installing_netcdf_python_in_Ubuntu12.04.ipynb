{
 "cells": [
  {
   "cell_type": "markdown",
   "metadata": {
    "collapsed": true
   },
   "source": [
    "**Installing_netcdf_python_in_Ubuntu12.04**\n",
    "- to install netcdf-python requiers HDF, based on [this](http://code.google.com/p/netcdf4-python/wiki/UbuntuInstall)\n",
    "- HDF isntallation from source got failed, used synaptic package manager to install HDF5\n",
    "- Downloaded netcdf-python, extracted and run ```python setup.py install```\n",
    "- Failed, saying netcdf is not found in usr/\n",
    "- So follwoed this, downloaded version of netcdf-4.0.1, placed in /usr/local\n",
    "- cd into netcdf-4.0.1, and run the code ```LDFLAGS=-L/usr/local/lib CPPFLAGS=-I/usr/local/include ./configure --enable-netcdf-4 --enable-dap --enable-shared --prefix=/usr/local```\n",
    "- then ```sudo make``` and then ```sudo make install```\n",
    "- seems got installed, then went into netcdf4-python as given in [this](http://code.google.com/p/netcdf4-python/wiki/UbuntuInstall)\n",
    "- and run ```sduo python setup.py install```, without any error, but testing (python>> import netCDF4) shows the error of ```ImportError: /usr/local/lib/python2.7/dist-packages/netCDF4.so: \n",
    "undefined symbol: nc_set_var_chunk_cache```\n",
    "- the error was disccused [here](http://code.google.com/p/netcdf4-python/issues/detail?id=60), saying netcdf newer version hast o install\n",
    "- so downloaded netcdf 4.3.0 and redone the above steps, but in ```sudo make install```, it gives error of ```netcdf isntallation gives error /usr/bin/install: cannot stat `./netcdf.3': No such file or directory```, and was discussed [here](http://archive.ambermd.org/201105/0699.html)\n",
    "- As per that discussion, ```installing sudo apt-get install m4``` solved the error and netcdf 3.4.0 was installed.\n",
    "- Instead of old netcdf4-python package, downloaded its latext from github and follwoed its readme.\n",
    "- Its readme, is followed as per, changed cfg template into cfg, uncomment netcdf and hdf location etc, but test given a error, let see\n",
    "- it seems installation is not that much buggy!, import netCDF4 in python doesn't return error or, running wrfncxnj.py as ```python wrfncxnj.py -h``` also doesn't"
   ]
  },
  {
   "cell_type": "code",
   "execution_count": null,
   "metadata": {
    "collapsed": true
   },
   "outputs": [],
   "source": []
  }
 ],
 "metadata": {
  "kernelspec": {
   "display_name": "Python 2",
   "language": "python",
   "name": "python2"
  },
  "language_info": {
   "codemirror_mode": {
    "name": "ipython",
    "version": 2
   },
   "file_extension": ".py",
   "mimetype": "text/x-python",
   "name": "python",
   "nbconvert_exporter": "python",
   "pygments_lexer": "ipython2",
   "version": "2.7.14"
  }
 },
 "nbformat": 4,
 "nbformat_minor": 2
}
