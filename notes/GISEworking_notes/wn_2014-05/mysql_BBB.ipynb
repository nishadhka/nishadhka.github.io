{
 "cells": [
  {
   "cell_type": "markdown",
   "metadata": {
    "collapsed": true
   },
   "source": [
    "**installing mysql and phpmyadmin in BBB.md**\n",
    "\n",
    "- Based on [this](http://www.debianhelp.co.uk/phpmyadmin.htm) and [this](https://wiki.debian.org/LaMp#MySQL)\n",
    "- ```apt-get install mysql-server```\n",
    "- ```apt-get install phpmyadmin```\n",
    "- phpmyadmin not showing up, so wokring with mysql command line followed [this](http://www.rackspace.com/knowledge_center/article/installing-mysql-server-on-debian) to get into mysql shell `/usr/bin/mysql -u root -p`\n",
    "- to create new data base followed [this](http://www.wikihow.com/Create-a-Database-in-MySQL) by ```create database gammu``` in mysql shell\n",
    "- to excute gammu mysql.sql file to create tables for gammu backend, used this ```mysql -u root -p'passwd' gammu < /home/debian/gammu-1.33.0/docs/sql/mysql.sql``` following [this](http://www.cyberciti.biz/faq/how-do-i-access-mysql-server-from-the-shell-prompt-command-line/) and [this](http://stackoverflow.com/questions/6091077/what-is-the-correct-syntax-for-executing-sql-script-in-mysql-command-line) \n",
    "- to get into a sepcific data base, ```use gammu``` in mysql shell\n",
    "- to view tables in the database, ```SHOW tables```"
   ]
  },
  {
   "cell_type": "code",
   "execution_count": null,
   "metadata": {
    "collapsed": true
   },
   "outputs": [],
   "source": []
  }
 ],
 "metadata": {
  "kernelspec": {
   "display_name": "Python 2",
   "language": "python",
   "name": "python2"
  },
  "language_info": {
   "codemirror_mode": {
    "name": "ipython",
    "version": 2
   },
   "file_extension": ".py",
   "mimetype": "text/x-python",
   "name": "python",
   "nbconvert_exporter": "python",
   "pygments_lexer": "ipython2",
   "version": "2.7.14"
  }
 },
 "nbformat": 4,
 "nbformat_minor": 2
}
