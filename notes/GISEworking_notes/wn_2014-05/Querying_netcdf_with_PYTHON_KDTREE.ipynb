{
 "cells": [
  {
   "cell_type": "markdown",
   "metadata": {
    "collapsed": true
   },
   "source": [
    "**Querying_netcdf_with_PYTHON_KDTREE**\n",
    "- To query a netcdf with latitude and longitude is required for objective three, in which user pointed lat long, revived as SMS from Android app has to parsed and find its model and nearest dylos monitoring station to send replay.\n",
    "- there is very useful [tutorial](http://nbviewer.ipython.org/github/Unidata/tds-python-workshop/blob/master/netcdf-by-coordinates.ipynb) on this with elaboration on different implementations advantages \n",
    "- In which most advanced querying was based on KDtree, this implementation was used to query netcdf generated from WRF model the code is as follows\n",
    "```python\n",
    "import numpy as np\n",
    "import netCDF4\n",
    "from math import pi\n",
    "from numpy import cos, sin\n",
    "from scipy.spatial import cKDTree\n",
    "class Kdtree_fast(object):\n",
    "    def __init__(self, ncfile, latvarname, lonvarname):\n",
    "        self.ncfile = ncfile\n",
    "        self.latvar = self.ncfile.variables[latvarname]\n",
    "        self.lonvar = self.ncfile.variables[lonvarname]        \n",
    "        # Read latitude and longitude from file into numpy arrays\n",
    "        rad_factor = pi/180.0 # for trignometry, need angles in radians\n",
    "        self.latvals = self.latvar[:] * rad_factor\n",
    "        self.lonvals = self.lonvar[:] * rad_factor\n",
    "        self.shape = self.latvals.shape\n",
    "        clat,clon = cos(self.latvals),cos(self.lonvals)\n",
    "        slat,slon = sin(self.latvals),sin(self.lonvals)\n",
    "        clat_clon = clat*clon\n",
    "        clat_slon = clat*slon\n",
    "        triples = zip(np.ravel(clat*clon), np.ravel(clat*slon), np.ravel(slat))\n",
    "        self.kdt = cKDTree(triples)\n",
    "    def query(self,lat0,lon0):\n",
    "        rad_factor = pi/180.0 \n",
    "        lat0_rad = lat0 * rad_factor\n",
    "        lon0_rad = lon0 * rad_factor\n",
    "        clat0,clon0 = cos(lat0_rad),cos(lon0_rad)\n",
    "        slat0,slon0 = sin(lat0_rad),sin(lon0_rad)\n",
    "        dist_sq_min, minindex_1d = self.kdt.query([clat0*clon0,clat0*slon0,slat0])\n",
    "        iy_min, ix_min = np.unravel_index(minindex_1d, self.shape)\n",
    "        return iy_min,ix_min\n",
    "ncfile = netCDF4.Dataset('/home/swl-sacon-dst/Documents/GISE_2013/LAB/GRIBJSON_inst/wrfncxnj-0.1_r2120/wrfout_d04_2014-03-01_01:00:00_tas.nc', 'r')\n",
    "ns = Kdtree_fast(ncfile,'lat','lon')\n",
    "iy,ix = ns.query(8.47, 76.95)\n",
    "tas = ncfile.variables['tas']\n",
    "print 'Closest lat lon:', ns.latvar[iy,ix], ns.lonvar[iy,ix]\n",
    "print 'Temperature:', tas[0, 0, iy, ix], tas.units\n",
    "ncfile.close()\n",
    "```"
   ]
  },
  {
   "cell_type": "code",
   "execution_count": null,
   "metadata": {
    "collapsed": true
   },
   "outputs": [],
   "source": []
  }
 ],
 "metadata": {
  "kernelspec": {
   "display_name": "Python 2",
   "language": "python",
   "name": "python2"
  },
  "language_info": {
   "codemirror_mode": {
    "name": "ipython",
    "version": 2
   },
   "file_extension": ".py",
   "mimetype": "text/x-python",
   "name": "python",
   "nbconvert_exporter": "python",
   "pygments_lexer": "ipython2",
   "version": "2.7.14"
  }
 },
 "nbformat": 4,
 "nbformat_minor": 2
}
