{
 "cells": [
  {
   "cell_type": "markdown",
   "metadata": {
    "collapsed": true
   },
   "source": [
    "**Mount_SDcard_with_BBB.md**\n",
    "- Mounting SD card is not so easy with BBB, it is due to the problem of mysql error, saying sock file is missing and while starting satying /var folder is full\n",
    "- By cheking ```df -h``` shows it is true. So only way to increase the partition is use sd card, but noraml sd card with partiion cannot mount with BBB, due to some kernal inclination\n",
    "- there is work arroun, based on [[this]](http://dev.gentoo.org/~armin76/arm/beagleboneblack/install_emmc.xml) under title code listing 7.2, fromatting microsd card\n",
    "- wget http://dev.gentoo.org/~armin76/arm/beaglebone/mkcard.sh `bash mkcard.sh /dev/mmcblk0`\n",
    "- We need to pass an special environment to U-Boot, for doing so we need to create a file called uEnv.txt with the following contents on it.\n",
    "```\n",
    "Code Listing 7.3: uEnv.txt contents\n",
    "bootpart=1:2\n",
    "mmcroot=/dev/mmcblk1p2\n",
    "Mount the first partition of the microSD card and copy this uEnv.txt file\n",
    "Code Listing 7.4: Copying U-Boot and MLO to the microSD card\n",
    "(Make sure you're root)\n",
    "(Replace mmcblk0p1 with sdd1 if your card showed up as /dev/sdd)\n",
    "# mkdir /mnt/p1 ; mount /dev/mmcblk0p1 /mnt/p1\n",
    "# cp uEnv.txt /mnt/p1\n",
    "(Unmount the partition)\n",
    "# umount /mnt/p1\n",
    "```\n",
    "1. The contents\n",
    "```bash\n",
    "#! /bin/sh\n",
    "# mkcard.sh v0.5\n",
    "# (c) Copyright 2009 Graeme Gregory <dp@xora.org.uk>\n",
    "# Licensed under terms of GPLv2\n",
    "#\n",
    "# Parts of the procudure base on the work of Denys Dmytriyenko\n",
    "# http://wiki.omap.com/index.php/MMC_Boot_Format\n",
    "export LC_ALL=C\n",
    "if [ -z `which bc` ]; then\n",
    "        echo \"no bc binary found\"\n",
    "        exit 1;\n",
    "fi\n",
    "if [ $# -ne 1 ]; then\n",
    "        echo \"Usage: $0 <drive>\"\n",
    "        exit 1;\n",
    "fi\n",
    "DRIVE=$1\n",
    "dd if=/dev/zero of=$DRIVE bs=1024 count=1024\n",
    "SIZE=`fdisk -l $DRIVE | grep Disk | grep bytes | awk '{print $5}'`\n",
    "echo DISK SIZE - $SIZE bytes=\n",
    "CYLINDERS=`echo $SIZE/255/63/512 | bc`\n",
    "echo CYLINDERS - $CYLINDERS\n",
    "{\n",
    "echo ,9,0x0C,*\n",
    "echo ,,,-\n",
    "} | sfdisk -D -H 255 -S 63 -C $CYLINDERS $DRIVE\n",
    "```"
   ]
  },
  {
   "cell_type": "code",
   "execution_count": null,
   "metadata": {
    "collapsed": true
   },
   "outputs": [],
   "source": []
  }
 ],
 "metadata": {
  "kernelspec": {
   "display_name": "Python 2",
   "language": "python",
   "name": "python2"
  },
  "language_info": {
   "codemirror_mode": {
    "name": "ipython",
    "version": 2
   },
   "file_extension": ".py",
   "mimetype": "text/x-python",
   "name": "python",
   "nbconvert_exporter": "python",
   "pygments_lexer": "ipython2",
   "version": "2.7.14"
  }
 },
 "nbformat": 4,
 "nbformat_minor": 2
}
