{
 "cells": [
  {
   "cell_type": "markdown",
   "metadata": {
    "collapsed": true
   },
   "source": [
    "**QualitySCHU to cbe-air**\n",
    "- qualityschu(qs) is a web application coupled with istsos sensor web, it's elegant, simple html with javascript design makes easy to work with it and being educative. It is base code to build particulate matter air quality monitors web application in Coimbatore named cbeair web application. The app's main difference with source(qs) would be its ability to work with github pages\n",
    "- it is basically a html file with map and menu javascript files, main functions it provide is map view, table, chart view and download functions all are coupled with istSOS.\n",
    "- The app is developed in Aptana studio3, without this IDE, it wouldnt be this much easy to work with web application. \n",
    "- to start work, the task can be divisible into sections of functions.   \n",
    "  * Download\n",
    "  * Table\n",
    "  * Chart\n",
    "  * Map\n",
    "- In qs, all these functions are linked as modals, tables and charts, named as overview modal, download modal. Map is linked with overview modal\n",
    "- Most other modals such as getting started, FAQ, about is removed from html file(index.html)\n",
    "- The app is working with two air quality station services, cosm and lannuv\n",
    "- the services realted with lanuv is modified to apt with cbe-air\n",
    "\n",
    "**the download modal is customized as follwos**\n",
    "\n",
    "- IstSOS is installed and populated with dylos data in a micro aws instance\n",
    "- check was made to working of this istsos with url based query etc\n",
    "- In qs, download functins are written in index.html from line 152-221\n",
    "  * download functions is enabled with wizard.js\n",
    "  * the val \n",
    "- In map.js, download functions are wirtten from line 84-103\n",
    "  * in this it is bascially loading a station details files\n",
    "- In menu.js, download functions are written from line 359-571\n",
    "  * main functions of download wizard are coded in this\n",
    "  * most of the cbe-air editing was carried out here for dwonload wizard\n",
    "  * main editing was giving url and editing the time frame of qs +5.50 to 0530 as in IstSOS\n",
    "\n",
    "**table and charts**\n",
    "\n",
    "- in qs, table and charts as overview function is invariablity linked with maps and sensor markers, based on the marker selection these fucntions gets started\n",
    "- IN cbe-air, due to github pages, maping layer is from mapbox and so this depndacny is planned to change as like downalod wizard with drobdown box for selecting stations and viewing staions home, data table and charts\n",
    "\n",
    "**find heavy difficulty in work flow for creating cbe-air outoff qs**\n",
    "\n",
    "- made search to find UML diagram for javascript, found no usable app for that, most suggested mode is draw a sequence diagram outoff it\n",
    "- I thought sequence diagram is minmal usage in this case, other cool tool found during this search was [js sequence diagram](http://bramp.github.io/js-sequence-diagrams/)\n",
    "- what I want is graphically visualize variuos function and its linkages to get a glimpse, most useful commant found is use pen and paper\n",
    "- Aptana, is apt tool in this case also, use its command close (+ or -) option and gives glimpse of available comamnd and do customization\n",
    "- so coding has found a tool to get glimpse of js and workflow IDE for making cbe-air app\n",
    "\n",
    "**variable tranfer from one function to another**\n",
    "\n",
    "- Found difficult n tranfering one variable to another function\n",
    "- It is tried to make station overview dropdown in home page, in which each station selection gives rise to over view modal \n",
    "- Hence overview modal gives all requiered varibales(url etc) for resepctive stations.\n",
    "- Sevral try made failure of ariable transfer methods such as [here](http://stackoverflow.com/questions/10579713/passing-a-local-variable-from-one-function-to-another) [here](http://stackoverflow.com/questions/407048/accessing-variables-from-other-functions-without-using-global-variables)\n",
    "- But try with [this](http://stackoverflow.com/questions/2788159/turn-javascript-local-variable-into-global-variable) method fetched result, it is of declaring a global vraible as null and storing the function return vraible value into it, simple!\n",
    "- for example , gives the consile log correctly exectuted by another funciton.\n",
    "```javascript\n",
    "var chooseStation = null; \n",
    "$('#svnc').click(function(){\n",
    "\t//var selectedService = \"cbed\";\n",
    "    chooseStation = \"SVNC\";\n",
    "    console.log(chooseStation);\n",
    "\t$('#overviewModal').bigmodal(\"show\");\n",
    "})\n",
    "console.log(chooseStation+\"outside\");\n",
    "//If the modal is completly loaded add information\n",
    "$('#overviewModal').on('shown', function(){\n",
    "      console.log('Testing console');\n",
    "      //var checkedStation = chooseStation;\n",
    "      console.log(chooseStation);\n",
    "```\n",
    "\n",
    "\n",
    "\n",
    "\n",
    "\n",
    "\n",
    "\n",
    "\n",
    "\n",
    "\n"
   ]
  },
  {
   "cell_type": "code",
   "execution_count": null,
   "metadata": {
    "collapsed": true
   },
   "outputs": [],
   "source": []
  }
 ],
 "metadata": {
  "kernelspec": {
   "display_name": "Python 2",
   "language": "python",
   "name": "python2"
  },
  "language_info": {
   "codemirror_mode": {
    "name": "ipython",
    "version": 2
   },
   "file_extension": ".py",
   "mimetype": "text/x-python",
   "name": "python",
   "nbconvert_exporter": "python",
   "pygments_lexer": "ipython2",
   "version": "2.7.14"
  }
 },
 "nbformat": 4,
 "nbformat_minor": 2
}
