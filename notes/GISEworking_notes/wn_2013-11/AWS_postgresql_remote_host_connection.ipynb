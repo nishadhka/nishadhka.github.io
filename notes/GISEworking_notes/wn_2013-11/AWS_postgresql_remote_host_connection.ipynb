{
 "cells": [
  {
   "cell_type": "markdown",
   "metadata": {
    "collapsed": true
   },
   "source": [
    " **AWS_postgresql_remote_host_connection**\n",
    "\n",
    "1. To connect and run pstgresql database for istsos in aws ubunut 12.04. As per istsos tutorial, specifying localhost in database credentials says the database is inactive and subsequent service creation will be end up in error, saying wrong database\n",
    "1. the postgresql TCP/IP connection and access credentials has to changed. have to edit\n",
    "```bash\n",
    "sudo nano /etc/postgresql/9.1/main/postgresql.conf\n",
    "```\n",
    "1. file line listen_addresses ‘localhost’ to listen_addresses ‘*’ and\n",
    "```bash\n",
    "sudo nano /etc/postgresql/9.1/main/pg_hba.conf\n",
    "```\n",
    "1. file ipv4 section IP address to\n",
    "```bash\n",
    "host    all      all        0.0.0.0/0            md5\n",
    "```\n",
    "1. the line\n",
    "```bash\n",
    "#host    all     all       127.0.0.1/32            md5\n",
    "```\n",
    "1. has to be un comment as above.\n",
    "1. then postgreql has to be restarted by this comment\n",
    "```bash\n",
    "/etc/init.d/postgresql restart \n",
    "```\n",
    "1. the aws security group also has to be changed for credential for port number 5432 with allowable ip address. and the port for postgrsql is the aws instance name given by aws \n",
    "1. based on\n",
    "    1. https://github.com/snowplow/snowplow/wiki/Setting-up-PostgreSQL\n",
    "    1. http://hackgeo.com/cloud-computing/amazon-web-services/configuring-postgresql-9-1-and-postgis-2-on-ubuntu-12-04-in-amazon-aws\n",
    "    1. http://askubuntu.com/questions/50621/cannot-connect-to-postgresql-on-port-5432\n",
    "    1. http://www.cyberciti.biz/faq/postgresql-remote-access-or-connection/"
   ]
  },
  {
   "cell_type": "code",
   "execution_count": null,
   "metadata": {
    "collapsed": true
   },
   "outputs": [],
   "source": []
  }
 ],
 "metadata": {
  "kernelspec": {
   "display_name": "Python 2",
   "language": "python",
   "name": "python2"
  },
  "language_info": {
   "codemirror_mode": {
    "name": "ipython",
    "version": 2
   },
   "file_extension": ".py",
   "mimetype": "text/x-python",
   "name": "python",
   "nbconvert_exporter": "python",
   "pygments_lexer": "ipython2",
   "version": "2.7.14"
  }
 },
 "nbformat": 4,
 "nbformat_minor": 2
}
