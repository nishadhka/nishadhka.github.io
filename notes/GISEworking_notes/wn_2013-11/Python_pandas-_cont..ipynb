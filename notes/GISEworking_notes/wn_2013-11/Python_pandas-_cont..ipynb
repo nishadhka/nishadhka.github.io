{
 "cells": [
  {
   "cell_type": "markdown",
   "metadata": {
    "collapsed": true
   },
   "source": [
    "**Python_pandas-_cont.**\n",
    "1. To call specific column in data frame \n",
    "```python\n",
    "df[df.columns[2:4]]\n",
    "```\n",
    "1. To join called rows, in concatenating fashion \n",
    "```python\n",
    "df[“DateTime”] = [’ ’.join(row) for row in df[df.columns[2:4]].values]\n",
    "```\n",
    "1. To speifiy the date time foramte in data frame of DPCC \n",
    "```python\n",
    "dMDI_DT= pa.to_datetime(Time, format=‘%A, %B %d, %Y %H:%M:%S’)\n",
    "```\n",
    "1. based on http://www.cyberciti.biz/faq/howto-get-current-date-time-in-python/\n",
    "http://stackoverflow.com/questions/12030398/concatenate-multiple-columns-based-on-index-in-pandas\n",
    "1. A best tutorial for visualization in pyhton\n",
    "http://nbviewer.ipython.org/urls/raw.github.com/bolhovsky/notebooks/master/earth-day-data-challenge.ipynb"
   ]
  },
  {
   "cell_type": "code",
   "execution_count": null,
   "metadata": {
    "collapsed": true
   },
   "outputs": [],
   "source": []
  }
 ],
 "metadata": {
  "kernelspec": {
   "display_name": "Python 2",
   "language": "python",
   "name": "python2"
  },
  "language_info": {
   "codemirror_mode": {
    "name": "ipython",
    "version": 2
   },
   "file_extension": ".py",
   "mimetype": "text/x-python",
   "name": "python",
   "nbconvert_exporter": "python",
   "pygments_lexer": "ipython2",
   "version": "2.7.14"
  }
 },
 "nbformat": 4,
 "nbformat_minor": 2
}
