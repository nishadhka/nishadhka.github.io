{
 "cells": [
  {
   "cell_type": "markdown",
   "metadata": {
    "collapsed": true
   },
   "source": [
    "**Screen_for_remote_head_less_sever**\n",
    "\n",
    "1. To run multiple programs simultaneously in terminal, the program screen is useful. based on http://askubuntu.com/questions/163567/start-program-from-terminal and http://www.howtoforge.com/linux_screen\n",
    "1. ```screen -r``` : to view any running screen\n",
    "2. If there is no running screen, by this command a new terminal will be open and any commands can be run here, such as to get a file using sftp can be run here\n",
    "3. To get out of the screen type CTRL +A+D\n",
    "4. after this the cursor goes to the base terminal\n",
    "1. based on http://askubuntu.com/questions/8653/how-to-keep-processes-running-after-ending-ssh-session and http://askubuntu.com/questions/17211/how-to-send-sftp-file-download-to-background \n",
    "1. for working with SFTP http://www.usc.edu/its/sftp/cline.html\n"
   ]
  },
  {
   "cell_type": "code",
   "execution_count": null,
   "metadata": {
    "collapsed": true
   },
   "outputs": [],
   "source": []
  }
 ],
 "metadata": {
  "kernelspec": {
   "display_name": "Python 2",
   "language": "python",
   "name": "python2"
  },
  "language_info": {
   "codemirror_mode": {
    "name": "ipython",
    "version": 2
   },
   "file_extension": ".py",
   "mimetype": "text/x-python",
   "name": "python",
   "nbconvert_exporter": "python",
   "pygments_lexer": "ipython2",
   "version": "2.7.14"
  }
 },
 "nbformat": 4,
 "nbformat_minor": 2
}
