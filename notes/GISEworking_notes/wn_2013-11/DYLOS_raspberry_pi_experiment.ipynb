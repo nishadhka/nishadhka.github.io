{
 "cells": [
  {
   "cell_type": "markdown",
   "metadata": {
    "collapsed": true
   },
   "source": [
    "**DYLOS_raspberry_pi_experiment**\n",
    "\n",
    "1. The Dylos air quality monitor with serial to USB port was connected tot the raspberry pi, raspberry pi is connected through mini usb for power, LAN is connected to RPi, for SD card preparation followed this\n",
    "1. using DD already had .img file of old raspberry pi SD card linux files\n",
    "1. then to make fresh SD card for RPi, SD card is formated with FAT file formate and then run\n",
    "```bash\n",
    "df -h\n",
    "```\n",
    "1. to view the currently mounted devices,\n",
    "1. it shows the presence of “/dev/mmcblk0p1”\n",
    "1. then unmounted the /dev/mmcblk0p1\n",
    "1. then ran this command\n",
    "```bash\n",
    "dd bs=4M if=~/2012-12-16-wheezy-raspbian.img of=/dev/mmcblk0\n",
    "```\n",
    "1. it took several hours to perform\n",
    "1. then remove cache by\n",
    "```bash\n",
    "sudo sync\n",
    "```\n",
    "1. and safely removed the card\n",
    "1. Now raspberry pi is working from the SD card based on http://elinux.org/RPi_Easy_SD_Card_Setup"
   ]
  },
  {
   "cell_type": "code",
   "execution_count": null,
   "metadata": {
    "collapsed": true
   },
   "outputs": [],
   "source": []
  }
 ],
 "metadata": {
  "kernelspec": {
   "display_name": "Python 2",
   "language": "python",
   "name": "python2"
  },
  "language_info": {
   "codemirror_mode": {
    "name": "ipython",
    "version": 2
   },
   "file_extension": ".py",
   "mimetype": "text/x-python",
   "name": "python",
   "nbconvert_exporter": "python",
   "pygments_lexer": "ipython2",
   "version": "2.7.14"
  }
 },
 "nbformat": 4,
 "nbformat_minor": 2
}
