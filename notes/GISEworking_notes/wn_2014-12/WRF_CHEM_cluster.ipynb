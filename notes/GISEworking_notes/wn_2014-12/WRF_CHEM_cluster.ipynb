{
 "cells": [
  {
   "cell_type": "markdown",
   "metadata": {
    "collapsed": true
   },
   "source": [
    "####WRF_CHEM_simluation by cluster####\n",
    "\n",
    "1.  To Do\n",
    "    1. write the script, lazywrfchem\n",
    "    1. draw computational inventory of the cluster comparision experiment, and libnrary program needed\n",
    "    1. compile the library\n",
    "    1. do the experiment\n",
    "    1. single computer HP laptop, parallell execution, three cores\n",
    "1. The statsics as follows\n",
    "```bash\n",
    "Domain four:\n",
    "onehour=12:16 to 08:43, 8.5 hours\n",
    "so for 6 hours simulation= 48+24=72 hours\n",
    "Domain Three:\n",
    "one hour=01:24 to 02:24, 1 hour\n",
    "so for 6 hours simulation= 6 hours\n",
    "Domain two:\n",
    "onehour=9:10 to 9:23, 13 minutes\n",
    "so for 6 hours simulation=13minx6=1.25 hour\n",
    "Domain One:\n",
    "sixhour=11:01 to 11:40, 39 minutes\n",
    "```"
   ]
  },
  {
   "cell_type": "code",
   "execution_count": null,
   "metadata": {
    "collapsed": true
   },
   "outputs": [],
   "source": []
  }
 ],
 "metadata": {
  "kernelspec": {
   "display_name": "Python 2",
   "language": "python",
   "name": "python2"
  },
  "language_info": {
   "codemirror_mode": {
    "name": "ipython",
    "version": 2
   },
   "file_extension": ".py",
   "mimetype": "text/x-python",
   "name": "python",
   "nbconvert_exporter": "python",
   "pygments_lexer": "ipython2",
   "version": "2.7.14"
  }
 },
 "nbformat": 4,
 "nbformat_minor": 2
}
