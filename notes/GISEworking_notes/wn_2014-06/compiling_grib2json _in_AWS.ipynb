{
 "cells": [
  {
   "cell_type": "markdown",
   "metadata": {
    "collapsed": true
   },
   "source": [
    "## compiling_grib2json _in_AWS\n",
    "- Install latest java and jdk follow this (http://askubuntu.com/questions/117189/apt-get-install-openjdk-7-jdk-doesnt-install-javac-why) \n",
    "- Install latest maven\n",
    "```\n",
    "wget http://archive.apache.org/dist/maven/binaries/apache-maven-3.0.4-bin.tar.gz \n",
    "tar -zxf apache-maven-3.0.4-bin.tar.gz \n",
    "sudo cp -R apache-maven-3.0.4 /usr/local \n",
    "sudo ln -s /usr/local/apache-maven-3.0.4/bin/mvn /usr/bin/mvn \n",
    "```\n",
    "- then edit .bashrc file and add this line, not working, don't do this\n",
    "```\n",
    "nano .bashrc >>>JAVA_HOME=/usr/lib/jvm/java-1.7.0-openjdk-amd64\n",
    "```\n",
    "- check installation with ```mvn version``` and ```mvn package``` gives spurious errors\n",
    "- Never mind the error, download the grib2json as told [here](https://github.com/cambecc/grib2json)\n",
    "- No need to install git in aws, instead use https with wget and get the folder, unzip, have to install unzip, then follow the readME.\n",
    "- after mvn package and extracting the tar, running\n",
    "- ```sh grib2json``` gives error saying no java specified, so follwoed [this](http://superuser.com/questions/225328/setting-java-home-on-ubuntu-10-x)\n",
    "```\n",
    "export JAVA_HOME=/path/to/java\n",
    "export PATH=$PATH:$JAVA_HOME/bin`\n",
    "```\n",
    "- to find the java, give ```whereis JAVA```, it gives the path."
   ]
  },
  {
   "cell_type": "code",
   "execution_count": null,
   "metadata": {
    "collapsed": true
   },
   "outputs": [],
   "source": []
  }
 ],
 "metadata": {
  "kernelspec": {
   "display_name": "Python 2",
   "language": "python",
   "name": "python2"
  },
  "language_info": {
   "codemirror_mode": {
    "name": "ipython",
    "version": 2
   },
   "file_extension": ".py",
   "mimetype": "text/x-python",
   "name": "python",
   "nbconvert_exporter": "python",
   "pygments_lexer": "ipython2",
   "version": "2.7.14"
  }
 },
 "nbformat": 4,
 "nbformat_minor": 2
}
