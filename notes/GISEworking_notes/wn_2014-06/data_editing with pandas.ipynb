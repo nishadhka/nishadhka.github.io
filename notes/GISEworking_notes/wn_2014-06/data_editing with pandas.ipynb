{
 "cells": [
  {
   "cell_type": "markdown",
   "metadata": {
    "collapsed": true
   },
   "source": [
    "## data editing with pandas\n",
    "- to import data into python\n",
    "```\n",
    "import pandas as pd\n",
    "data=pd.read_csv('value.txt')\n",
    "```\n",
    "- to view dat ahead or sepcified rows\n",
    "```\n",
    "data.iloc[:5, :4]\n",
    "```\n",
    "- to sort data based on specific oclumn, here data column\n",
    "```\n",
    "d2=d1.sort(['observation_time'])\n",
    "```\n",
    "- to make a dataetime column recognized as date column in padnas dataframe\n",
    "```\n",
    "d1['SamplingDate'] = pd.to_datetime(d1['SamplingDate'])\n",
    "```\n",
    "- to remove NaN valued rows in any of the columns of dataframe\n",
    "```\n",
    " d1=data.dropna()\n",
    "```\n",
    "- to reindex dataframne with datetime columns\n",
    "```\n",
    "data2 = d23.set_index('SamplingDate')\n",
    "```\n",
    "- to query datfarme with specified date range\n",
    "```\n",
    "d2s2=data2.ix['20060701':'20060625']\n",
    "```\n",
    "- to get a arbitrary year quarter\n",
    "```\n",
    "data2.ix[data2.index.quarter == 4]\n",
    "```\n",
    "- to query month quarter in single command tryed with lot of iterations but not found understandable one! the idea is to group cpcb data based on India's season, Dec to Mar, Apr to June, Julty to Sep, Oct to Nov. It is very easy is in't, but ican't find, last three hours!!!!\n",
    "- after a long haul, finally settled that, it has to do it in old fashio as in EXCEL, make a new column with season flag and group the datframe based on the seasnon flag\n",
    "- a good tutorial on python dataframe groupingh [this](http://stackoverflow.com/questions/18677271/grouping-daily-data-by-month-in-python-pandas-and-then-normalising)"
   ]
  },
  {
   "cell_type": "code",
   "execution_count": null,
   "metadata": {
    "collapsed": true
   },
   "outputs": [],
   "source": []
  }
 ],
 "metadata": {
  "kernelspec": {
   "display_name": "Python 2",
   "language": "python",
   "name": "python2"
  },
  "language_info": {
   "codemirror_mode": {
    "name": "ipython",
    "version": 2
   },
   "file_extension": ".py",
   "mimetype": "text/x-python",
   "name": "python",
   "nbconvert_exporter": "python",
   "pygments_lexer": "ipython2",
   "version": "2.7.14"
  }
 },
 "nbformat": 4,
 "nbformat_minor": 2
}
