{
 "cells": [
  {
   "cell_type": "markdown",
   "metadata": {
    "collapsed": true
   },
   "source": [
    "## Installing_R_and_Openair_in_Ubuntu1204\n",
    "- installation of R in ubuntu 12.04, there are deb packages available for R from its source page [here](http://cran.rstudio.com/)\n",
    "- But after installation it shows error in installing openair package, and depndancy chain goes from 2 to 10 and much more package with \n",
    "  version mismacth problem, starting from lattice saying ```Error: package ‘lattice’ was built before R 3.0.0: please re-install it```\n",
    "- Even calling package by ```library(lattice') thoughed error\n",
    "- So installation in apt-get library might be problem solving, followed these\n",
    "```\n",
    "sudo nano /etc/apt/sources.list\n",
    "```\n",
    "addedd\n",
    "```\n",
    "deb http://cran.stat.ucla.edu/bin/linux/ubuntu precise/\n",
    "```\n",
    "and run\n",
    "```\n",
    "gpg --keyserver keyserver.ubuntu.com --recv-key E084DAB9\n",
    "gpg -a --export E084DAB9 | sudo apt-key add -\n",
    "```\n",
    "then doing\n",
    "```\n",
    "sudo apt-get update\n",
    "sudo apt-get install r-base\n",
    "```\n",
    "But met with error \n",
    "```\n",
    " python-rpy : Breaks: r-base-core (>= 2.15.0) but 3.0.3.20140328-1precise0 is to be installed\n",
    " r-base : Depends: r-base-core (>= 3.1.0-1precise0) but 3.0.3.20140328-1precise0 is to be installed\n",
    "          Depends: r-recommended (= 3.1.0-1precise0) but 2.14.1-1 is to be installed\n",
    "E: Unmet dependencies. Try 'apt-get -f install' with no packages (or specify a solution).\n",
    "```\n",
    "of depndancy problem asking to run ```apt-get -f install```, after doing this, run again r-base install, this time R was installed succesfulluy\n",
    "\n",
    "- for installation of openair package, first made a test by ```libarry('lattice')```, it thorughed a error saying the former lattice problem\n",
    "- this time ```install.packages('lattice')``` installed lattice without any error\n",
    "- so tryed to install openair by ```install.packages('openair')``` but got a error saying that problem with Rcpp packegs\n",
    "- so intalled Rcpp by ```install.packegs('Rcpp')``` got erro saying codetools packages is old version\n",
    "- so installed codetools by ```install.packages('codetools')``` this insatlled without error and so\n",
    "- once agin installed Rcpp by ```install.packegs('Rcpp')``, no error now\n",
    "- so installign open air, this error was ```Error : package ‘cluster’ was built before R 3.0.0: please re-install it```\n",
    "- so installing cluster, no error for cluster, so again installing openair, but this time error fiwth ```mgcv`` old version\n",
    "- so installign mgcv, which has problme in ```nlme```, so installing nlme\n",
    "- so again installign mgcv, which now gives error in Matrix,so installing Matrix, took long time, but installed wihout any error\n",
    "- again installed mgcv, now with out any error, so installingopen air\n",
    "- now scuess, openair installed without errors, checked with running ```library('openair')``` no problem!\n"
   ]
  },
  {
   "cell_type": "code",
   "execution_count": null,
   "metadata": {
    "collapsed": true
   },
   "outputs": [],
   "source": []
  }
 ],
 "metadata": {
  "kernelspec": {
   "display_name": "Python 2",
   "language": "python",
   "name": "python2"
  },
  "language_info": {
   "codemirror_mode": {
    "name": "ipython",
    "version": 2
   },
   "file_extension": ".py",
   "mimetype": "text/x-python",
   "name": "python",
   "nbconvert_exporter": "python",
   "pygments_lexer": "ipython2",
   "version": "2.7.14"
  }
 },
 "nbformat": 4,
 "nbformat_minor": 2
}
