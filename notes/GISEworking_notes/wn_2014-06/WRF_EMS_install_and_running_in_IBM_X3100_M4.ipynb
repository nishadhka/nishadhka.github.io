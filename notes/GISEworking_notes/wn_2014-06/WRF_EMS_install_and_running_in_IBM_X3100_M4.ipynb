{
 "cells": [
  {
   "cell_type": "markdown",
   "metadata": {
    "collapsed": true
   },
   "source": [
    "## WRF_EMS_install_and_running_in_IBM_X3100_M4\n",
    "\n",
    "- Working in HP i5 system with quad core processor and 8GB memory, memory limit error was getting for 1km resolution domains.\n",
    "- So made a try to make a cluster with another HP laptop with same configuration, this step also returen EXIT file9, memeory limit error.\n",
    "- changed domain to make it 3 km resoliotn and ran in cluster steup and it took 1 hour for four doamins from 81km to 3km at 3 hour interval, so for 48 hour simurlaiotn it would be taking a 16 hour model running.\n",
    "- without using cluster, HP desktop never completed the WRF real execution. feels use of cluster!\n",
    "- with anticipation to reduce this time lag, a try was made with IBM server X3100 M4 system, WRF EMS was installed in this system using WRF EMS peral script, provided on request\n",
    "- the installtion was strght forward with this command ```perl ems_install.pl --install```, it took six - eight hours to complete the installtion, the insatll foder size become 21GB.\n",
    "- After getting the install succesfful result, the testing of installion by running ```cd $EMS``` was a failure, not cding into EMS directory.\n",
    "- after a short google the problem was identitifed as due to non avaialblity of ```tcsh``` in the server[ref](http://www.wrfems.info/viewtopic.php?f=4&t=501), so it was installed by ```sudo apt-get install tcsh``` and   checked to find which shell was being used by the server by ```echo $SHELL``` and it returned ```/bin/bash```, ascertaining usage of bash shell, EMS requieres tcsh, so doing ```chsh -s /bin/tcsh``` and relogin resolved this problem and now the cd $EMS was doing its job. [this](http://wxjoe.com/2011/07/10/how-to-installing-the-wrf-ems-on-a-virtual-machine/) link is useful for correct wrf ems isntallation \n",
    "- a test case of cbe-6 domain run in hp dekstop and hp cluster was copied into EMS runs directory and then executed ems_prep, but it gives error of no file in grib folder, it was looking different file name, so edited the file fnl_gribinfo.conf in girbinfo folder of EMS conf folder, with naming convetion as per the gfs downloaded data ```LOCFIL = YYMMDDCC.fnl_YYYY-MM-DD_CC```\n",
    "- without any cluster it gives performance of 1 hour model run for four doamins from 81km to 3km at 3 hour interval, smae as of hp cluster. \n",
    "- to view the size of file with date and time of creation\n",
    "```stat -c \"%y %s %n\" *``` based on [this](http://unix.stackexchange.com/questions/22218/linux-ls-to-show-only-filename-date-and-size)\n",
    "- without any cluster x3100, get memory full for 1km domains\n",
    "- So tryed with chunking the doamin with 81 to 27 as one part and 27 to 1km as another part.\n",
    "- In this the ems_post can be used to convert the netcdf output into grib2 and second part can be intialized with wrf_grib as specified in wrf_grib.conf in parent ems directory, there the time step also can be specified as one hout by 00,01,02,... so on.\n",
    "- then in ems_prep, --dset can be spefcied as wrf"
   ]
  },
  {
   "cell_type": "code",
   "execution_count": null,
   "metadata": {
    "collapsed": true
   },
   "outputs": [],
   "source": []
  }
 ],
 "metadata": {
  "kernelspec": {
   "display_name": "Python 2",
   "language": "python",
   "name": "python2"
  },
  "language_info": {
   "codemirror_mode": {
    "name": "ipython",
    "version": 2
   },
   "file_extension": ".py",
   "mimetype": "text/x-python",
   "name": "python",
   "nbconvert_exporter": "python",
   "pygments_lexer": "ipython2",
   "version": "2.7.14"
  }
 },
 "nbformat": 4,
 "nbformat_minor": 2
}
