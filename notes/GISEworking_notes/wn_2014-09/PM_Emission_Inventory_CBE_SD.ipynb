{
 "cells": [
  {
   "cell_type": "markdown",
   "metadata": {
    "collapsed": true
   },
   "source": [
    "#### PM_Emission_Inventory_Coimbatore_Study design\n",
    "\n",
    "Particulate pollution level and vehicular count sample\n",
    "1. A sample consist of 3 minutes PM pollution monitoring(1 minute particle count mode, 2 minute mass mode) and 2 minute video recording.\n",
    "1. Sampling carried on a CNG auto rickshaw, equipped with hand held PM monitor and a web camera based video recorder attached to right side at 0.75 meter from ground of Auto rickshaw.     \n",
    "1. Sixty random points in Coimbatore urban limits, sampling every 4th day for 20 sampling days. Out of sixty random points, thirty random points covered in every alternative days\n",
    "1. Video records reviewed for number of vehicle passing at sampling point and counting vehicle types as of heavy, light utility, cars and two wheelers. \n",
    "\n",
    "### D & D of mobile monitor\n",
    "1. corruption f SD card RPi\n",
    "1. physical computing, switch press to sample and record viddeo\n",
    "based on [this](https://www.cl.cam.ac.uk/projects/raspberrypi/tutorials/robot/components/custom_pi_shield/), [this](https://www.cl.cam.ac.uk/projects/raspberrypi/tutorials/robot/buttons_and_switches/), [this](\n",
    "1. suitability of pi face for that\n",
    "1. open cv based python script to record the video\n",
    "1. need of iron box and deisgn of it \n",
    "1. Current supplay to the mobile montor by 12V battery, 3A current supplier, \n",
    "1. collocated calibration of dylos using aeroset, placing along with aeroset\n",
    "\n",
    "### Specification for mobile monitor design\n",
    "1. Need of height to get distance from two wheeler engine heat for temp and humidity sampling. s the a531s has to be placed in top of the iron box.\n",
    "1. full ventilation for dylos is required, \n",
    "1. required to check weather dylos would work with 3 A input current from \n",
    "\n",
    "\n",
    "### Past studies\n",
    "1. Studies done with aerocet monitor\n",
    "http://www.ncbi.nlm.nih.gov/pmc/articles/PMC3068847/\n",
    "http://www.mdpi.com/2305-6304/1/1/60/htm\n",
    "http://www.ccs.miami.edu/~nkumar/AirPollutinHelth_Del.pdf\n",
    "http://www.ccs.miami.edu/~nkumar/Manuscripts/NK_Andy_DAQ.pdf\n",
    "\n",
    "\n"
   ]
  },
  {
   "cell_type": "code",
   "execution_count": null,
   "metadata": {
    "collapsed": true
   },
   "outputs": [],
   "source": []
  }
 ],
 "metadata": {
  "kernelspec": {
   "display_name": "Python 2",
   "language": "python",
   "name": "python2"
  },
  "language_info": {
   "codemirror_mode": {
    "name": "ipython",
    "version": 2
   },
   "file_extension": ".py",
   "mimetype": "text/x-python",
   "name": "python",
   "nbconvert_exporter": "python",
   "pygments_lexer": "ipython2",
   "version": "2.7.14"
  }
 },
 "nbformat": 4,
 "nbformat_minor": 2
}
