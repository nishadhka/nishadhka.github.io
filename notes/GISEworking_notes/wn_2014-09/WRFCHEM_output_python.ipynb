{
 "cells": [
  {
   "cell_type": "markdown",
   "metadata": {
    "collapsed": true
   },
   "source": [
    "### WRFCHEM_output pythonic\n",
    "\n",
    "1. Related to the last note on getting txt time series data from wrf output [here](wn_2014-06/Textfile_from_WRFoutput_pythonic.md). This note details  getting numpy array from wrf output and plotting data in python.\n",
    "1. The variables requiered from wrfoutput are Temperature, Realtive humidity, Wind direction, wind speed, PM2.5 and PM 10. Numpy array from these variables will be used for air earth application, to insert the grid data into Postgresql. Data plots is for quick view of the wrf output. \n",
    "1. The nummpy array creaytion is based on [this](https://github.com/johnrobertlawson/WEM/blob/master/postWRF/postWRF/wrfout.py), [this](https://github.com/rveciana/geoexamples/blob/master/python/wrf-NetCDF/read_netcdf.py) and [this](https://gist.github.com/jbeezley/944049). \n",
    "1. The plotting is primarly based on [this](https://github.com/muellermichel/pyWRF-NMM) and [this](http://www.hydro.washington.edu/~jhamman/hydro-logic/blog/2013/10/12/plot-netcdf-data/).\n",
    "1. The numpy array creation and plotting for each wrf output variables is attempted as follows\n",
    "###Temperature###\n",
    "1. From [this](https://github.com/johnrobertlawson/WEM/blob/master/postWRF/postWRF/wrfout.py), it is requiered to post process wrfoutput using ```p_interp``` utility to get pressure correction for varioables such RH.\n",
    "1. For this, the source code was downloaded and compiled using the command ```gfortran p_interp.F90 -L/usr/local/lib -lnetcdf -lnetcdff -lm  \\\n",
    "      -I/usr/local/include  -Mfree  -o p_interp```, with this p_interp got compiled and a executable of the same name is created. "
   ]
  },
  {
   "cell_type": "code",
   "execution_count": null,
   "metadata": {
    "collapsed": true
   },
   "outputs": [],
   "source": []
  }
 ],
 "metadata": {
  "kernelspec": {
   "display_name": "Python 2",
   "language": "python",
   "name": "python2"
  },
  "language_info": {
   "codemirror_mode": {
    "name": "ipython",
    "version": 2
   },
   "file_extension": ".py",
   "mimetype": "text/x-python",
   "name": "python",
   "nbconvert_exporter": "python",
   "pygments_lexer": "ipython2",
   "version": "2.7.14"
  }
 },
 "nbformat": 4,
 "nbformat_minor": 2
}
