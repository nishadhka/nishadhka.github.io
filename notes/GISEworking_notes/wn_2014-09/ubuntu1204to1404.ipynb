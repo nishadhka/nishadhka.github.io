{
 "cells": [
  {
   "cell_type": "markdown",
   "metadata": {
    "collapsed": true
   },
   "source": [
    "#### Ubuntu 12.04 to Ubunut 14.04 upgradation\n",
    "\n",
    "```bash\n",
    "fellow@dhcppc3:~$ lsb_release -a\n",
    "No LSB modules are available.\n",
    "Distributor ID:\tUbuntu\n",
    "Description:\tUbuntu 12.04.3 LTS\n",
    "Release:\t12.04\n",
    "Codename:\tprecise\n",
    "fellow@dhcppc3:~$ uname -r\n",
    "3.5.0-44-generic\n",
    "```\n",
    "- /boot foldeer is full, free some space to continue upgrade. This isssue was solved by [this](http://askubuntu.com/questions/142926/cant-upgrade-due-to-low-disk-space-on-boot). Importatnly the command ```dpkg -l 'linux-*' | sed '/^ii/!d;/'\"$(uname -r | sed \"s/\\(.*\\)-\\([^0-9]\\+\\)/\\1/\")\"'/d;s/^[^ ]* [^ ]* \\([^ ]*\\).*/\\1/;/[0-9]/!d'``` shows the absolute kernals in /boot to be removed. \n",
    "- There is a bug related with samba expalined [here](https://bugs.launchpad.net/ubuntu/+source/samba/+bug/1257186)"
   ]
  },
  {
   "cell_type": "code",
   "execution_count": null,
   "metadata": {
    "collapsed": true
   },
   "outputs": [],
   "source": []
  }
 ],
 "metadata": {
  "kernelspec": {
   "display_name": "Python 2",
   "language": "python",
   "name": "python2"
  },
  "language_info": {
   "codemirror_mode": {
    "name": "ipython",
    "version": 2
   },
   "file_extension": ".py",
   "mimetype": "text/x-python",
   "name": "python",
   "nbconvert_exporter": "python",
   "pygments_lexer": "ipython2",
   "version": "2.7.14"
  }
 },
 "nbformat": 4,
 "nbformat_minor": 2
}
