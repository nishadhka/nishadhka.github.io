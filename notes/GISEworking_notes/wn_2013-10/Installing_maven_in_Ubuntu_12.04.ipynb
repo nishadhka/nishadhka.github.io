{
 "cells": [
  {
   "cell_type": "markdown",
   "metadata": {
    "collapsed": true
   },
   "source": [
    " **Installing_maven_in_Ubuntu_12.04**\n",
    "\n",
    "1. Based on links\n",
    "http://docs.geotools.org/latest/userguide/build/install/mvn.html http://www.mkyong.com/maven/how-to-install-maven-in-ubuntu/ http://lukieb.wordpress.com/2011/02/15/installing-maven-3-on-ubuntu-10-04-lts-server/\n",
    "1. Download, untar and copy maven in /usr/local/\n",
    "```bash\n",
    "wget http://archive.apache.org/dist/maven/binaries/apache-maven-3.0.4-bin.tar.gz\n",
    "tar -zxf apache-maven-3.0.4-bin.tar.gz\n",
    "sudo cp -R apache-maven-3.0.4 /usr/local\n",
    "```\n",
    "1. then link with bin folder\n",
    "```bash\n",
    "sudo ln -s /usr/local/apache-maven-3.0.4/bin/mvn /usr/bin/mvn \n",
    "```\n",
    "\n",
    "* Then add java home link in the .bashrc\n",
    "```bash\n",
    "sudo nano .bashrc \n",
    "---JAVA_HOME=/usr/lib/jvm/java-1.7.0-openjdk-amd64 Thats it maven is installed Test it\n",
    "mvn –version\n",
    "```\n",
    "* Seems every think ok but there will be issue while mvn install, error of below and javac – version in terminal it will say no javac in computer\n",
    "```bash\n",
    "javac\": java.io.IOException: error=2, No such file or directory javac not found\n",
    "type\n",
    "javac --version \n",
    "The program 'javac' can be found in the following packages:\n",
    " * default-jdk\n",
    " * ecj\n",
    " * gcj-4.6-jdk\n",
    " * openjdk-6-jdk\n",
    " * gcj-4.5-jdk\n",
    " * openjdk-7-jdk\n",
    "```\n",
    "1. So do, the error goes away \n",
    "\n",
    "```bash\n",
    "sudo apt-get install default-jdk\n",
    "```\n",
    " "
   ]
  },
  {
   "cell_type": "code",
   "execution_count": null,
   "metadata": {
    "collapsed": true
   },
   "outputs": [],
   "source": []
  }
 ],
 "metadata": {
  "kernelspec": {
   "display_name": "Python 2",
   "language": "python",
   "name": "python2"
  },
  "language_info": {
   "codemirror_mode": {
    "name": "ipython",
    "version": 2
   },
   "file_extension": ".py",
   "mimetype": "text/x-python",
   "name": "python",
   "nbconvert_exporter": "python",
   "pygments_lexer": "ipython2",
   "version": "2.7.14"
  }
 },
 "nbformat": 4,
 "nbformat_minor": 2
}
