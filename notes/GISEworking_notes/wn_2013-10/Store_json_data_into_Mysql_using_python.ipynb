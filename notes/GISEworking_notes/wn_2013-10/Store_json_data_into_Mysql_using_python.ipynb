{
 "cells": [
  {
   "cell_type": "markdown",
   "metadata": {
    "collapsed": true
   },
   "source": [
    "**Store_json_data_into_Mysql_using_python**\n",
    "\n",
    "1. Web services APIs such as weather underground data provided in json format is stored in Mysql table using this python script.\n",
    "1. It is based on stack overflow answers, http://stackoverflow.com/questions/1640715/get-json-data-via-url-and-use-in-python-simplejson and http://stackoverflow.com/questions/5687718/python-mysql-insert-data\n",
    "```python\n",
    "import urllib2\n",
    "import json\n",
    "import MySQLdb\n",
    "req = urllib2.Request(\"http://api.wunderground.com/api/YOUR API key/conditions/q/country/town.json\")\n",
    "opener = urllib2.build_opener()\n",
    "f = opener.open(req)\n",
    "data = json.load(f)\n",
    "print data['current_observation']['observation_location']['city'],data['current_observation']['observation_time_rfc822']\n",
    "conn = MySQLdb.connect(host= \"localhost\",\n",
    "                  user=\"YOUR username\",\n",
    "                  passwd=\"YOUR password\",\n",
    "                  db=\"database\")\n",
    "x = conn.cursor()\n",
    "try:\n",
    "   x.execute(\n",
    "   \"INSERT INTO CBE_meterology (Station, DateAP)\" \n",
    "   \"VALUES (%s,%s)\",(data['current_observation']['observation_location']['city'],data['current_observation']['observation_time_rfc822']))\n",
    "   conn.commit()\n",
    "except:\n",
    "   conn.rollback()\n",
    "conn.close()\n",
    "```\n",
    "1. the script collect json from url and then convert into python object and feed into mysql table using sql command."
   ]
  },
  {
   "cell_type": "code",
   "execution_count": null,
   "metadata": {
    "collapsed": true
   },
   "outputs": [],
   "source": []
  }
 ],
 "metadata": {
  "kernelspec": {
   "display_name": "Python 2",
   "language": "python",
   "name": "python2"
  },
  "language_info": {
   "codemirror_mode": {
    "name": "ipython",
    "version": 2
   },
   "file_extension": ".py",
   "mimetype": "text/x-python",
   "name": "python",
   "nbconvert_exporter": "python",
   "pygments_lexer": "ipython2",
   "version": "2.7.14"
  }
 },
 "nbformat": 4,
 "nbformat_minor": 2
}
