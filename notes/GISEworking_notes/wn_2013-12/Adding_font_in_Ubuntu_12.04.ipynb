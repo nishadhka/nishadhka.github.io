{
 "cells": [
  {
   "cell_type": "markdown",
   "metadata": {
    "collapsed": true
   },
   "source": [
    "**Adding_font_in_Ubuntu_12.04**\n",
    "\n",
    "To add font\n",
    "1. move the ttf file into the folder `usr/share/fonts/ttf`\n",
    "1. then remove fonts cache by `rm -f /usr/share/fonts/*fonts.cache-1`\n",
    "1. then create the cache again `sudo fc-cache`\n",
    "1. that's it, added ttf can be seen in all the text editors."
   ]
  },
  {
   "cell_type": "code",
   "execution_count": null,
   "metadata": {
    "collapsed": true
   },
   "outputs": [],
   "source": []
  }
 ],
 "metadata": {
  "kernelspec": {
   "display_name": "Python 2",
   "language": "python",
   "name": "python2"
  },
  "language_info": {
   "codemirror_mode": {
    "name": "ipython",
    "version": 2
   },
   "file_extension": ".py",
   "mimetype": "text/x-python",
   "name": "python",
   "nbconvert_exporter": "python",
   "pygments_lexer": "ipython2",
   "version": "2.7.14"
  }
 },
 "nbformat": 4,
 "nbformat_minor": 2
}
