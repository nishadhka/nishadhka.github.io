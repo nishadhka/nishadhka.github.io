{
 "cells": [
  {
   "cell_type": "markdown",
   "metadata": {
    "collapsed": true
   },
   "source": [
    "**WIND_POWER_FORECASTING_MAP_FOR_COIMBATORE_REGION_OF_TAMIL_NADU**\n",
    "\n",
    "* Problem statement\n",
    "\n",
    "In Tamil Nadu, electricity is significantly relying of wind power based renewable energy source. If much wind is there, there will be minimal power cuts and vice versa. Especially second tier urban area like Coimbatore, this dependence is much visible and so one of the simple predicator of long power cuts is lack of adequate wind power in nearby wind park area for example. On the other hand operators of wind mills or power transmission sector if they know much early about the forecast of wind power in their area, they have much advantages in preparing for storing the surplus energy source or find alternatives in the situation of low wind power.\n",
    "\n",
    "Predicting the wind power is problem of multi domain variables especially of meteorological predictions and engineering variables from the specific wind turbine used to generate the energy using wind power. One of the solution is to use the existing empirical observation data from similar wind mills or park to see how the variable are changing in the wind speed or meteorological domain of our area of interest (AOI).\n",
    "\n",
    "* Computations\n",
    "\n",
    "Wind power is third power of the wind speed. Based on this equation wind power can be calculated\n",
    "\n",
    "```\n",
    "w = 1/2 r A v3 where w is power, r is air density, A is the rotor area, and v is the wind speed.\n",
    "r = (1.325 x P) / T where T is the temperature in Fahrenheit + 459.69 and P is the pressure in inches of Mercury adjusted for elevation\n",
    "```\n",
    "\n",
    "Based on //www.iowaenergycenter.org/wind-energy-manual/wind-and-wind-power/wind-speed-and-power/#sthash.4UBSpEQx.dpuf\n",
    "\n",
    "* Algorithm\n",
    "\n",
    "    1. Collect Numerical weather prediction (NWP) data of AOI. Mostly in the form of netCDF.\n",
    "    1. Convert netCDF into geotiff for the wind speed variable band. While conversion made it into array object and execute the wind power calculation equations in the array.\n",
    "    1. Convert the wind power calculated array into geotiff and visualize it in webGIS and implement query interface for common public user and operator user.\n",
    "    1. Make a vector of urban locality and nearby wind park with points of wind turbine.\n",
    "    1. Based on the use case query, \n",
    "        1. if a common public is querying how much energy would be nearby wind park is producing, calculate a vector polygon of (wind park area) calculation using the geotiff (array) of wind power from number of wind turbine in the park.\n",
    "        1. If a operator is asking for a specific turbine energy production, calculate point vector calculation using the the geotiff (array) of wind power\n",
    "    1. Iterate the steps 1 to 4 for daily dynamic mapping of the wind power or based on the time frame availability of NWP data.\n",
    "* After review presentation\n",
    "the points raised  are\n",
    "    1. Use the wind prediction map for establishing wind mills, so done site suitability analysis.\n",
    "    1. the problem addresses already established wind mills, there were few GIS components involved as a solution, even though a visualization part is involved it is minimal use here, how the user going to be interested in dynamic entity of weather.\n",
    "1. So the problem is restated as Wind power forecasting map: a lightweight, event detection subscribable web application, based on work of http://earth.nullschool.net/about.html and https://github.com/cambecc/air"
   ]
  },
  {
   "cell_type": "code",
   "execution_count": null,
   "metadata": {
    "collapsed": true
   },
   "outputs": [],
   "source": []
  }
 ],
 "metadata": {
  "kernelspec": {
   "display_name": "Python 2",
   "language": "python",
   "name": "python2"
  },
  "language_info": {
   "codemirror_mode": {
    "name": "ipython",
    "version": 2
   },
   "file_extension": ".py",
   "mimetype": "text/x-python",
   "name": "python",
   "nbconvert_exporter": "python",
   "pygments_lexer": "ipython2",
   "version": "2.7.14"
  }
 },
 "nbformat": 4,
 "nbformat_minor": 2
}
