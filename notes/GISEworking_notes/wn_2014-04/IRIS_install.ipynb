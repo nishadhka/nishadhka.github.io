{
 "cells": [
  {
   "cell_type": "markdown",
   "metadata": {
    "collapsed": true
   },
   "source": [
    "**Installing_IRIS**\n",
    "1. IRIS is a python tool for working with netcdf and grib files.\n",
    "1. It is installed to convert WRF output in netCDF to grib2 formate, which is need for grib2json tool.\n",
    "1. IRIS is dependent of large number of python scientific libraries.\n",
    "1. Most of the libraries are python and it can be isntalled though \n",
    "```bash\n",
    "pip install libarry\n",
    "```\n",
    "1. based on the failure report\n",
    "1. It's installation further gets erroneous due to unavailability of netcdf, HDF5, netcdf-python packages.\n",
    "1. Has to follow this note (http://code.google.com/p/netcdf4-python/wiki/UbuntuInstall) \n",
    "1. Has to install other dependencies such as udunits through synaptic package manager \n",
    "1. From its note, copied here as such\n",
    "```\n",
    "Read on for instructions on how to install netcdf4-python on an Ubuntu Jaunty machine. The same instructions should work as well on previous versions.\n",
    "Installing the required dependencies\n",
    "There are only two dependencies to install, HDF5 (>=1.8.2) and netCDF4. The version of HDF5 shipped with Karmic is 1.6.6, so you'll need to compile from source. Lucid will ship with 1.8.3 so that won't be necessary, but until then, read on.\n",
    "HDF5\n",
    "    Download the current HDF5 source release.\n",
    "    Unpack, go into the directory and execute:\n",
    "    ./configure --prefix=/usr/local --enable-shared --enable-hl\n",
    "    make \n",
    "    sudo make install\n",
    "To speed things up, compile on more than one processor using\n",
    "make -j n \n",
    "where n is the number of processes to be launched.\n",
    "netCDF4\n",
    "    Download the current netCDF4 source release.\n",
    "    Unpack, go into the directory and execute:\n",
    "    LDFLAGS=-L/usr/local/lib CPPFLAGS=-I/usr/local/include ./configure --enable-netcdf-4 --enable-dap --enable-shared --prefix=/usr/local\n",
    "    make \n",
    "    make install\n",
    "Installing netcdf4-python\n",
    "When both HDF5 and netCDF4 are in /usr/local, make sure the linker will be able to find those libraries by executing\n",
    "sudo ldconfig\n",
    "then installing netcdf4-python is just a matter of doing\n",
    "python setup.py install\n",
    "```\n",
    "1. the installed machine already having netcdf 3.6.4, the conflict has to assessed.  "
   ]
  },
  {
   "cell_type": "code",
   "execution_count": null,
   "metadata": {
    "collapsed": true
   },
   "outputs": [],
   "source": []
  }
 ],
 "metadata": {
  "kernelspec": {
   "display_name": "Python 2",
   "language": "python",
   "name": "python2"
  },
  "language_info": {
   "codemirror_mode": {
    "name": "ipython",
    "version": 2
   },
   "file_extension": ".py",
   "mimetype": "text/x-python",
   "name": "python",
   "nbconvert_exporter": "python",
   "pygments_lexer": "ipython2",
   "version": "2.7.14"
  }
 },
 "nbformat": 4,
 "nbformat_minor": 2
}
