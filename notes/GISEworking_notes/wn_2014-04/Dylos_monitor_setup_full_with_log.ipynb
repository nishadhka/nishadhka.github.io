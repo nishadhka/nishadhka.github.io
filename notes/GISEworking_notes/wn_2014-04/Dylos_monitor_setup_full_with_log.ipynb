{
 "cells": [
  {
   "cell_type": "markdown",
   "metadata": {
    "collapsed": true
   },
   "source": [
    "**Dylos_monitor_setup_full_with_log**\n",
    "\n",
    "1. Following http://hintshop.ludvig.co.nz/show/persistent-names-usb-serial-devices/ and Udev_rules_for_USB's_attached_to_RPi, create a udev rule for RPI, edited the file /etc/udev/rules.d using command\n",
    "```\n",
    "sudo nano /etc/udev/rules.d/90-phone.rules\n",
    "```\n",
    "1. and add follwoing lines to giving persistant name for USB data card (HUWAEI E303F) and USB to serial cable for Dylos monitor.\n",
    "```\n",
    "KERNEL==\"ttyUSB*\", ATTRS{idVendor}==\"12d1\", ATTRS{idProduct}==\"1506\", NAME=\"phone\", MODE=\"0666\",SYMLINK+=\"mobile\"\n",
    "KERNEL==\"ttyUSB*\", ATTRS{idVendor}==\"067b\", ATTRS{idProduct}==\"2303\", NAME=\"dylos\", MODE=\"0666\",SYMLINK+=\"dylos\"\n",
    "```\n",
    "1. by this, while connecting these two devices, the folder /dev shows the files for USB data card and USB to serial cable for Dylos monitor. By this, these device can be refered in python script or gammu-config etc.\n",
    "\n",
    "**Gammu installation**\n",
    "1. `gammu-config`, with /dev/phone `gammu --identify`, hangs whole computer, no pinging, and RPI has to be restarted, this is the problem with BBB also, inw hich it even non detect the usb in lsusb.\n",
    "1. Found gammu makes problem with RPi, alternative is use it as inetrnet based data tranfer following http://bigcowpi.blogspot.in/2013/03/raspberry-pi-as-3g-huawei-e303-wireless.html\n",
    "1. Internet gets connected with hipuchs, any how try,\n",
    "1. Use github as data repository, a alternative to xylos.```cron with git push```.\n",
    "1. Writing code for collecting serial and save it as csv file, Use logging module to save the exception and info into a file. \n",
    "2. Exception hanlder for serial connection and data base problem was addressed by follwoing \n",
    "http://stackoverflow.com/questions/4508849/how-to-log-python-exception executing this\n",
    "\n",
    "```python\n",
    "import logging \n",
    "def foo():\n",
    "    try:\n",
    "        some_code()\n",
    "    except:\n",
    "        logging.exception('')\n",
    "```\n",
    "1. This makes the python command to run silent and error and exception recorded in log file. exception for SERIAl, database was made.\n",
    "3. The data coming from serial has to be cleaned to remove unwanted chareterc and spaces. used this command\n",
    "```python\n",
    "a= '2014-04-10T09:35,4941,513    '\n",
    ">>> b = a.strip( ' \\r\\n' )\n",
    "```\n",
    "Still in sqlite a special chrecters is seen.\n",
    "4. There is a problem in csv file it is not getting updated, instead overwritten. follwoed this and changed the flag from 'w' to 'a'\n",
    "5. In csv file there is a \" in each line has to see, finally found a old script written for this and used instead, the script is as follows\n",
    "```python\n",
    "#!/usr/bin/env python\n",
    "import serial\n",
    "import time\n",
    "ser = serial.Serial('/dev/ttyUSB0', 9600, timeout=60)\n",
    "time.sleep(60)\n",
    "logfile = open('DYLOS_log.csv', 'a')\n",
    "while 1:\n",
    "\tline = ser.readline() \n",
    "\tnow = time.strftime(\"%Y-%m-%dT%H:%M:%S:00.000000+0530\", time.localtime())\n",
    "\ta =  \"%s,%s\" % (now,line)\n",
    "\t#print a\t\n",
    "\tlogfile.write(a)\n",
    "        logfile.flush()    \n",
    "logfile.close()\n",
    "ser.close()\n",
    "```\n",
    "**giving github access to RPi** \n",
    "\n",
    "1. followed this to genrate a key https://help.github.com/articles/generating-ssh-keys\n",
    "1. followed this subprocess based python script to make git push \n",
    "1. ##adding crontab properly with python script itself  followed http://stackoverflow.com/questions/8727935/execute-python-script-on-crontab\n",
    "1. Sqlite database was cleaned by follwoing  http://stackoverflow.com/questions/4245714/select-numbers-between-a-range-1-to-100-in-sqlite  and executed the command of http://stackoverflow.com/questions/4245714/select-numbers-between-a-range-1-to-100-in-sqlite"
   ]
  },
  {
   "cell_type": "markdown",
   "metadata": {},
   "source": []
  }
 ],
 "metadata": {
  "kernelspec": {
   "display_name": "Python 2",
   "language": "python",
   "name": "python2"
  },
  "language_info": {
   "codemirror_mode": {
    "name": "ipython",
    "version": 2
   },
   "file_extension": ".py",
   "mimetype": "text/x-python",
   "name": "python",
   "nbconvert_exporter": "python",
   "pygments_lexer": "ipython2",
   "version": "2.7.14"
  }
 },
 "nbformat": 4,
 "nbformat_minor": 2
}
