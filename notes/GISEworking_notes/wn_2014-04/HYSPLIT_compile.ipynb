{
 "cells": [
  {
   "cell_type": "markdown",
   "metadata": {
    "collapsed": true
   },
   "source": [
    "**HYSPLIT_compile**\n",
    "        \n",
    "1. Compiling HYSPLIT in Ubuntu 12.04 was hurdled by a error related with netcdf.\n",
    "    - Installation of netcdf is through compiling and package installation from synaptic package manager.\n",
    "    - Synaptic and latest source download compilation gives error of \"no netcdf.inc\" in hysplit compile. \n",
    "    - It is due to a fortran binding lapse in latest verision. \n",
    "    - So used a old version of the netcdf 3.6.3 and compiled following this-- http://code.google.com/p/netcdf4-python/wiki/UbuntuInstall\n",
    "    - has to give sudo in make and make install, with the first comment disable-shared\n",
    "    LDFLAGS=-L/usr/local/lib CPPFLAGS=-I/usr/local/include ./configure --enable-netcdf-4 --enable-dap --disable-shared --prefix=/usr/local\n",
    "    - with enable-shared (as given in python-netcdf instalation) gives error of shared libraries for example using version view command for netcdf\n",
    "```\n",
    "ncdump --version\n",
    "```\n",
    "gives error.\n",
    "1. Using above method comiplation of HYSPLIT complted without any error and tcl (it is GUI) is working fine."
   ]
  },
  {
   "cell_type": "code",
   "execution_count": null,
   "metadata": {
    "collapsed": true
   },
   "outputs": [],
   "source": []
  }
 ],
 "metadata": {
  "kernelspec": {
   "display_name": "Python 2",
   "language": "python",
   "name": "python2"
  },
  "language_info": {
   "codemirror_mode": {
    "name": "ipython",
    "version": 2
   },
   "file_extension": ".py",
   "mimetype": "text/x-python",
   "name": "python",
   "nbconvert_exporter": "python",
   "pygments_lexer": "ipython2",
   "version": "2.7.14"
  }
 },
 "nbformat": 4,
 "nbformat_minor": 2
}
