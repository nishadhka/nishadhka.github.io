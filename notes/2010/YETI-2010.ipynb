{
 "cells": [
  {
   "cell_type": "markdown",
   "metadata": {},
   "source": [
    "<h1><center>Tree Hole Aquatic Habitat a Bonsai Ecosystem.</center></h1>\n",
    "<h3><center>K.A. Nishadh<sup>2,3</sup> , K. S. Anoop Das<sup>1,2</sup> and P A Azeez<sup>3</sup></center>\n",
    "<center>1-Department of Zoology and Centre for Conservation Ecology, M.E.S Mampad College, Malappuram, Kerala\n",
    "676 542, India</center>\n",
    "<center>2-Wildlife Research and Conservation Trust, Anupallavi, Chungathara, Malappuram, Kerala 679334, India</center>\n",
    "<center>3-Environmental Impact Assessment Division,Sálim Ali Center for Ornithology and Natural History (SACON), Anaikatty (PO), Coimbatore – 641108.</center></h3>\n",
    "\n",
    "**Research Area and Question:**\n",
    "\n",
    "Tree hole aquatic habitats are considered as efficient natural microcosm largely because of ‘small scale-bonsai ecosystem’ functionalizing in it. The present study enquires the basics of this ecosystem such as community composition in it and influence of varies environmental factors on it\n",
    "\n",
    "**Objectives and Methodology:**\n",
    "\n",
    "The study is carried out in Silent Valley National Park and New Amarambalam Reserve forest of Kerala. The sampling effort comprised of searching for water filled tree holes in the study area. It is followed by collection of environmental variables such as GBH, Height of the tree hole from ground, opening area of tree hole, water holding capacity, aspect of tree hole, percentage shrub, herb and tree coverage around the tree hole. Water in the container habitat will be collected through siphoning and filtered through mesh after determining the volume of water. The aquatic organism retained in the mesh is collected. The water samples are analyzed for varies physiochemical variables and nutrients in it. The dry weight of leaf litter if any present in the tree hole is considered as source of nutrient.\n",
    "\n",
    "**Results:**\n",
    "\n",
    "The sampled  tree holes in the study area shows communities ranging from  litter decomposing oligochaetes, surface feeding decomposing depterans, coleopterans, Trichopterans, crustaceans to top predators like zygopterans and frogs. The water chemistry and litter quantity in each tree holes is much variable between them. \n",
    "\n",
    "**Discussion:**\n",
    "From the preliminary results it is observed that tree hole aquatic habitat in the study area is much more complex ecosystem than ever thought.\n",
    "\n",
    "**Keywords**:\n",
    "Tree hole aquatic habitat, Natural microcosm, community composition, environmental factors."
   ]
  },
  {
   "cell_type": "code",
   "execution_count": null,
   "metadata": {
    "collapsed": true
   },
   "outputs": [],
   "source": []
  }
 ],
 "metadata": {
  "kernelspec": {
   "display_name": "Python 2",
   "language": "python",
   "name": "python2"
  },
  "language_info": {
   "codemirror_mode": {
    "name": "ipython",
    "version": 2
   },
   "file_extension": ".py",
   "mimetype": "text/x-python",
   "name": "python",
   "nbconvert_exporter": "python",
   "pygments_lexer": "ipython2",
   "version": "2.7.14"
  }
 },
 "nbformat": 4,
 "nbformat_minor": 2
}
