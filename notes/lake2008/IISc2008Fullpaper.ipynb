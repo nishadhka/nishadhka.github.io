{
 "cells": [
  {
   "cell_type": "markdown",
   "metadata": {},
   "source": [
    "<h1><center>Pollution Status and Conservation of Lakes in Coimbatore, Tamil Nadu, India</center></h1>\n",
    "<h3><center>K.A. Nishadh<sup>1</sup>, Rachna Chandra<sup>2</sup> and P.A. Azeez<sup>2</sup></center>\n",
    "<center>1-Department of Environmental Sciences, Bharathiar University, Coimbatore-641046.</center>\n",
    "<center>2-Environmental Impact Assessment Division,Sálim Ali Center for Ornithology and Natural History (SACON), Anaikatty (PO), Coimbatore – 641108.</center></h3>\n",
    "\n",
    "**Abstract:** Economic development is accelerating the changes in the land use pattern and land-cover conversion almost throughout India at an unprecedented rate. Wetlands and lakes especially those situated in the vicinity of urban centres have been facing rapid degradation due to liquid or solid waste disposal, filling and reclamation, real-estate ventures and industrial development. Coimbatore, a rapidly developing city in the western part of Tamil Nadu, has several wetlands and lakes in and around its limits. This city wanting facilities for treatment of industrial, municipal, domestic and hospital waste has open drainage and sewerage systems without any prior treatment joining these lakes. The present study undertaken in Coimbatore during May 2008 on four urban lakes / wetlands namely Ukkadam, Perur, Kurchi and Chinnakulam reports the water quality of these water bodies with reference to the pollution from various sources. The pH for water samples ranged between 7.64 and 8.62. EC and TDS ranged from 303.67 - 4456.7 μS/cm and 169 - 2079.3 mg/L respectively and were positively correlated with chloride and sulphate (P < 0.05). Ukkadam lake, surrounded by textile dyeing industries, municipal markets, dumped domestic wastes was the most polluted among the lakes studied. This lake receives sewage waste along with effluents from dyeing industries through various channels. In view of the findings, recognizing the various ecological services these wetlands offer to the city and its environs regular monitoring of disposal of solid / liquid wastes and sewage discharge is imperative for their conservation.\n",
    "\n",
    "**Keywords:** Lakes, wetlands, Coimbatore, pollution, water quality\n",
    "\n",
    "## Introduction\n",
    "Rivers, wetlands, lakes and other water bodies are important resources in close association with human existence for centuries. They have made enormous contributions in human development; industries, agriculture and culture. However, the same crucial contributions that they made to human kind have become a major cause of their degradation and decimation. Lakes and wetlands, appreciated for their water resources, ground water recharges, habitats of wide variety of fauna and flora, are facing varying degrees of pressures and consequently environmental degradation throughout the country. Such degradation is caused due to the urban, industrial, agricultural effluent discharges and hydro geomorphic changes of canals and rivers linking these lakes. Due to anthropogenic pressure of several types and magnitudes and also inflow of wastewater from several sources wetlands are gradually enriched by nutrients exceeding their assimilation and carrying capacity (Prusty 2008). Several pollutants play a major role in environmental degradation ranging from oxygen demanding organic pollutants, nutrients, heavy metals to increased siltation. These pollutants affect the dissolved oxygen level, turbidity, and chemical contents of the lake environment thus directly affecting its auto regulating capacity, buffering capacity, and biotic inhabitants. Sediment dwelling organisms, their environment being the final deposition of pollutants, are overmuch subject to these pressures (Gupta and Sharma 2005). \n",
    "\n",
    "Coimbatore, the second largest city in Tamil Nadu, has 36,579 industrial units of which 2,462 units are within city limits. The growing industrialization and rise in population pose considerable strain on basic amenities of the city. The city faces serious scarcity of water, is drought prone and has maximum number of bore wells in the country. The river Noyyal, formerly a perennial one, flows through the city. Currently, there are 22 lakes present in and around the city largely fed by river Noyyal, and act as storage and percolation tanks. The prevailing drainage and sewers in the city are open type joining these lakes and river Noyyal without any prior treatment (Mathew et al. 2002, Mathew et al. 2003, Prusty et al. 2006). Canals feeding the lakes prodigally acted as natural drainage courses and served as storm water drains for the city. However, currently many of these channels are dysfunctional for encroachments and unauthorized constructions. The river, a monsoonal one, during lean months goes dry thus, serving as a dumping yard for garbage and industrial wastes. Moreover, many of these wetlands are also in part being used as garbage dumping yard, and in the danger of complete filling in due course. The present study was undertaken to assess the pollution status of wetlands in Coimbatore which are facing the pressure of varying degrees of urbanization. It was also aimed to check the changes that have happened in water quality since  an earlier study conducted on the lakes by Mohanraj et al. (2000). \n",
    "\n",
    "Materials and Methods\n",
    "To assess the pollution status of Coimbatore, four lakes viz. Ukkadam lake (L1), Perur lake (L2), Kuruchi lake (L3) and Chinnakulam lake (L4) in and around the city limits were selected for water quality evaluation (Figure 1). Of these, two lakes (L1 and L2) were addressed during the earlier studies by Mohanraj et al. (2000) and the other two (L3 and L4), whose pollution status was not known were included in the present study. Ukkadam lake (L1) having the largest water spread area among Coimbatore lakes and situated very near to municipal market and one of the busiest bus terminals, receives effluents from industries involved in electroplating, dyeing and jewel making foundries, urban sewage and other municipal waste including solids and garbage. Weed species such as Eichhornia crassipes and also other hydrophytes occupy a large area of this lake seasonally forming thick mats over the water column. The second lake, the Perur lake (L2) has a water spread area of 264.8 acres and attracts several avian species (Palaniappan 2008) and is surrounded by agricultural land, villages and roads. One third of this lake is occupied by Acacia growth facilitating nesting of many birds. This wetland is proposed to be developed as a bird sanctuary. The third lake, the Kuruchi lake (L3) with a water spread area of 343.96 acres, receives municipal sewage and is being used for garbage dumping from residential colonies around its vicinity. This lake has least water storage capacity although it was desilted some years back. Chinnakulam Lake (L4) has a shallow long stretch of water spread forming a discontinuous wetland during lean months. \n",
    "\n",
    "Water samples from the above four lakes were collected in triplicates during May 2008. The samples were collected in pre cleaned bottles, labeled, and immediately transferred to ice boxes. The samples were then transferred to the laboratory, stored at 4°C in dark till further processing and analysis. Physico-chemical parameters namely pH, Electrical Conductivity (EC, µS/cm), Total Dissolved Solids (TDS, mg/L), Biological Oxygen Demand (BOD, mg/L), Chemical Oxygen Demand (COD, mg/L), alkalinity (mg/L), chlorides (mg/L), phosphates (mg/L), sulphate (mg/L), ammonia nitrogen (mg/L) and nitrite nitrogen (mg/L) were examined following standard methods (APHA 1992, Tandon 2001). \n",
    "\n",
    "## Results and Discussion\n",
    "The pH of the lakes varied from 7.64 - 8.62 (Table 1). The highest pH was seen in the case of Ukkadam (L1) lake and exceeded the WHO (1997) permissible limits (6.5 - 8.5). Conductivity and Total Dissolved Solids ranged between 303.67 and 4456.7 μS/cm and 169 - 2079.3 mg/L and were also highest in Ukkadam lake (L1). The TDS values exceeded the WHO (1997) permissible limits of 1000 mg/L in L1. The high TDS in Ukkadam lake is associated with the effluents from dyeing and bleaching industries which contain very high salt (Senthilnathan and Azeez 1999) and are being discharged into the lake.\n",
    "\n",
    "Dissolved Oxygen (DO) did not vary much and was in the range from 4.21 - 5.56 mg/L. The lowest DO was recorded in Kurchi lake (L3). This lake is surrounded by much household / domestic waste and sewage from its vicinity flow down which would have lead to the low DO content. The Biological Oxygen Demand (BOD) in the lake waters varied from 2.1 - 4.96 mg/L. BOD was highest in the waters of L3 and might be due to release of higher levels of oxygen demanding waste from the near by residential colonies. The Chemical Oxygen Demand (COD) varied from 60 - 430 mg/L and was highest in Ukkadam lake (L1). This could be associated with higher levels of inorganic wastes being discharged into the lake inducing the COD level. However, the COD levels in all the lakes were well within the permissible limits. The values for alkalinity ranged from 23.3 – 470 mg/L. However, the phenolphthalein alkalinity was absent in L3 and L4. The highest value for alkalinity was seen in Ukkadam lake (L1). The values for chloride varied from 70.9 - 964.4 mg/L. The value for chloride in Ukkadam (L1) exceeded the permissible limits of 250 mg/L (WHO 1997), probably due to the effluents from bleaching industries which join the lake. \n",
    "\n",
    "The nutrients i.e., phosphate and sulphate varied from 0.12 - 1.6 mg/L and 9.3 - 102.9 mg/L respectively. The high phosphate and sulphate values were recorded in Chinnakulam lake (L3) and Ukkadam lake (L1) respectively which may be due to the additional input from agricultural runoff. The high levels of phosphate may also be attributed to the animal waste. Ukkadam lake is located besides one of the biggest fish market of the city and many slaughter houses are also available in its immediate territory. The phosphate values exceeded the permissible limit (0.1 mg/L) of United States Public Health Standards (De 2002). The usage of diammonium phosphate (DAP) fertilizers for agricultural purposes in the adjoining areas are a major source of high phosphate levels. However, the sulphate levels in the waters were within the permissible limits. The ammonia nitrogen and nitrite nitrogen ranged from 1.7 - 3.6 and 0.02 - 0.17 mg/L and were highest in Perur lake (L2) and Ukkadam lake (L1) respectively. The concentrations of ammonia were reported to be higher than the permissible limits of WHO (1.5 mg/L) for all the lakes sampled. High concentrations of ammonia and nitrite may be attributed to sewage and domestic discharges (Mohanraj et al. 2000). \n",
    "\n",
    "The Pearson’s correlation performed among the parameters using the software SPSS (Version: 11) showed that pH was positively correlated with EC, TDS and chloride. EC and TDS were positively correlated with chloride and sulphate. Chloride was positively correlated with sulphate (P < 0.05). The waters of the four lake studied are mainly used for irrigation purposes. Their polluted condition is of serious concern and poses considerable impact on aquatic biota, public health and ground water quality. Although the river Noyyal during rainy season gets flooded, during drier months it carries enormous amount of sewage waste. This affects the water quality of these wetlands. As hinted above, the deterioration of the lakes was mostly caused due to discharge of effluent from industries like dyeing, jewel making foundries, urban sewage, and municipal solid waste dumping. Release of organic pollutants and nutrients induce cultural eutrophication and municipal garbage dumping catalyses the process of filling of these scarce resource. Much of the lakes boundaries are used for dumping municipal garbage. The wetlands provide the city with valuable ecosystem services and goods and their conservation is very essential for the city scope and the population in the area. For conservation of the wetlands regular water quality monitoring, control of weed growth, stopping dumping of solid wastes, clearing the encroachments and prevention of release of untreated effluents and sewage is necessary. Treatment of the effluents before discharging into lakes and creating waste stabilization ponds in the vicinity of lakes may reduce the impacts from effluents. Low cost algal and bacteria based treatment methods for the effluents should be employed. The raw sewage also must be treated to prevent weed colonization. Establishment of buffer area around the lakes as protected sites especially in the case of Perur and Ukkadam which are potential bird habitats would reduce the anthropogenic pressures and augment the natural purification processes in these systems. \n",
    "\n",
    "## Acknowledgement\n",
    "We are thankful to the Director, SACON for the facilities. The authors are thankful to Dr. BAK Prusty for commenting on the previous version of the manuscript. The authors are thankful to Mr. Udhaya Kumar, Laboratory assistant, SACON for assistance in laboratory analysis. \n",
    "\n",
    "## References\n",
    "1. B.A.K. Prusty, (2008), Role of detritus in trace metal dynamics of a wetland system: a case study of Keoladeo National Park, Bharatpur, Final Report submitted to Council of Scientific and Industrial Research, New Delhi, (April 2006 – March 2008).\n",
    "2. B.A.K. Prusty, V. Jayalakshmi, and P.A. Azeez (2006), “Distribution of select transition metals in monsoon fed urban wetland sediments”, SETAC Asia/Pacific 2006 – Growth with a limit: the integration of ecosystem protection for human health benefits, Peking University, Beijing, China, 18th -20th September, pp. Oral C2-2.\n",
    "3. A.K. De, (2002), Environmental chemistry (4th edn.), New Delhi, India: New Age International Publishers.\n",
    "4. M. Mathew, R. Mohanraj, P.A. Azeez, S. Pattabhi, (2003), “Speciation of heavy metals in bed sediments of wetlands in urban Coimbatore”, Bulletin of Environmental Contamination and Toxicology, Springer, 70: 800-808.\n",
    "5. M. Mathew, M. SatishKumar, P.A. Azeez, R. SivaKumar, and S. Pattabi, (2002), “Sediment quality of wetlands in Coimbatore, Tamil Nadu, India”, Bulletin of Environmental Contamination and Toxicology, Springer, 68: 389-393.\n",
    "1. K. Gupta, and A. Sharma (2005), “Macro invertebrates as indicators of pollution”, Journal of Environmental Biology, 261(2): 205-211.   \n",
    "1. APHA, (1992), “Standard methods for the Examination of water and waste water”, 18th edition. American Public Health Association, American Water Works Association and Environment Federation, Washington. \n",
    "1. R. Mohanraj, M. Sathishkumar, P.A. Azeez, and R. Sivakumar (2000), “Pollution Status of Wetlands in Urban Coimbatore, Tamil Nadu, India”, Bulletin of Environmental Contamination and Toxicology, Springer, 64, pp. 638-643.\n",
    "1. V.S. Palaniappan (2008), “Proposal to turn lake into bird sanctuary”, The Hindu, date 8-9-2008.\n",
    "1. H.L.S. Tandon (2001), “Methods of analysis of soils, plants, water and fertilizers”, Fertilizer Development and Consultation Organisation (FDCO), New Delhi, India. \n",
    "1. World Health Organization (1997). Guidelines for drinking water quality (vol. 1) recommendations. Geneva: World Health Organization.\n",
    "\n",
    "<center>Table 1. Physico-chemical parameters of the lakes studied.</center>\n",
    "\n",
    "Sites|Ukkadam (L1)|Perur (L2)|Kurchi (L3)|Chinnakulam (L4)\n",
    "-----|-----|-----|-----|-----\n",
    "pH|8.62|7.88|7.64|7.73\n",
    "EC|4456.67|303.67|689.33|402\n",
    "TDS (mg/L)|2079.33|169|372.67|208\n",
    "DO (mg/L)|5.26|5.56|4.21|5.26\n",
    "BOD (mg/L)|2.1|4.51|4.96|2.14\n",
    "COD (mg/L)|430|216.67|300|60\n",
    "Alkalinity (mg/L)|470|23.33|238.67|88\n",
    "Cl (mg/L)|964.43|75.64|99.28|70.91\n",
    "PO4 (mg/L)|0.67|0.12|0.17|1.6\n",
    "SO4 (mg/L)|102.86|9.26|26.74|25.91\n",
    "Ammonia (mg/L)|1.95|3.64|2.11|1.71\n",
    "Nitrite (mg/L)|0.17|0.02|0.03|0.11\n",
    "\n",
    "\n",
    "\n",
    "<img src=\"./img1.png\",width=600,height=800>\n",
    "<center>Figure:1 Study area map with location of sample wetlands </center>\n",
    "\n"
   ]
  },
  {
   "cell_type": "code",
   "execution_count": null,
   "metadata": {
    "collapsed": true
   },
   "outputs": [],
   "source": []
  }
 ],
 "metadata": {
  "kernelspec": {
   "display_name": "Python 2",
   "language": "python",
   "name": "python2"
  },
  "language_info": {
   "codemirror_mode": {
    "name": "ipython",
    "version": 2
   },
   "file_extension": ".py",
   "mimetype": "text/x-python",
   "name": "python",
   "nbconvert_exporter": "python",
   "pygments_lexer": "ipython2",
   "version": "2.7.14"
  }
 },
 "nbformat": 4,
 "nbformat_minor": 2
}
