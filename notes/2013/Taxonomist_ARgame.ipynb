{
 "cells": [
  {
   "cell_type": "markdown",
   "metadata": {
    "collapsed": true
   },
   "source": [
    "## Taxonomist: augmented reality game for Taxonomic identification and classification through environmental observation\n",
    "\n",
    "## Introduction:\n",
    "Taxonomy plays a major role in understanding the nature and its system through its descriptiveness and systematic organization of the nature components(Rogers 1958). It greatly helps in sustainable usage and informed interaction by human society towards nature and its resources. Historically the practice of taxonomy has great implication to our society starting from medicinal important plants description in De Materia Medica by Descordies of 1st century to 10th century agriculture taxonomy work of Ibn Washiya in Al Filaha Nabatiya and to 17 th century seminal work of Carl Linnaeus's Systema Naturae. All these works largely facilitated the identification of plants or other living organisms for societal beneficial usage through diagrammatic and verbal description. In modern days filed guides comprised of pictorial and verbal dichotomous description of the organisms were the major way for lowest possible taxonomic class identification of organisms. In environmental education, knowledge and expertise in taxonomy is set to be important skill set. It basically encourage the environmental observation and apprehension of importance of  living organisms to the functioning of the ecosystem. Though filed guides are largely used, it has severe drawbacks in case of user friendly and requirement of huge learning curve and other technical difficulties of taxonomic description. It is quite visible for the case of even expertise professional(Kumar 2012). These drawbacks has severely deterred the involvement of ammeter and encouragement to young people for a taxonomy profession and created a huge knowledge gap in application of taxonomy in environmental protection and biodiversity conservation. \n",
    "\n",
    "Development in computer vision, image processing and other computational technology has largely considered as the important solution for this problem. Automatic photograph recognition, image and sound  processing for identifying the plant or other living organisms were increasingly started to practice for taxonomic species level identification especially for floral groups. In great extent these tools were alleviating the intrinsic difficulties of manual dichotomous key, field guide based identification which were tiresome and time consuming. But the intrinsic limitation in these technology largely prohibits wide adoption of these tools in the filed especially because of higher error prone and development cost. The human vision based identification named as Mechanical Turk were increasingly used in these cases where the capability of human pattern identification is used for complex pattern recognition. It is also used for attribute deduction during the pattern identification process which has very limited functionality using technological intervention if it is used.\n",
    "\n",
    "The computational tools developed in this cause especially focusing on hand held computers or mobile phone has great implications in develop the augmented reality game (ARG) related with Taxonomy. The advantages of ARGs in terms of providing challenge, fun and long lasting interest with educative platform can be significantly used in the cause of popularizing taxonomic skill for environmental education. Aim of the game Taxnomist is to impart encouragement in taxonomic skill using the simple mechanical turk based attribute identification algorithm for plant species in SACON campus. Instead of using the complex and under development computational vision technology it intended to utilize the efficiency of mechanical turk based attribute identification for improved outcome.\n",
    "\n",
    "## Background:\n",
    "The related work carried out in the aspect of taxonomy most specifically fall under two categories of automatic or manual pattern identification. In the case of augmented reality field guides, AR museum guides are increasingly used as a field guide in museum setups. Though it is not working as game it provides the rich multimedia content about the museum specimen using the AR location based information(Damala 2007). In the case of automatic taxonomy field guides, leaf snap is one of the well developed and  most successful algorithm in identifying the plants up to species level(Kumar et al 2012). The database of this iPhone based application currently covers 143 tree from New York state of USA. Based on the computer vision technology, the algorithm used in the application identifies the shape of the leaf which were photographed. Based on the classification and pattern recognition techniques, the software suggest the number of most suited plant species from the leaf structure and gives more content on other parts of plant species to initiate the correct identification of the plant species. The leaf snap application also provides an associated game related to the automatic plant species identification. In the case of full fledged game related with taxonomy the game “Find the oddleaf” recognize the need of human interventions in computational pattern recognition(Hansen 2011). The game task is usually in a web based game platform asks player to identity the odd leaf pattern from a set of six leaf pictures and correct identification fetch the points for players. The game pocket plant guide gives similar experience with filed experience(Inoue 2012), in a semi ARG setup it asks the players to identify the six indicator species in the real field to understand the succession pattern from another indoor game.   \n",
    "\n",
    "## Game Overview\n",
    "The game play revolves around identifying the plant species by observing it in field. The identification will be carried out by undergoing dichotomous quiz format in Tablet. The design of the quiz is in such a way that necessitates field observation and referring the observation with\n",
    " field guide to derive the answer.\n",
    " By covering the more number of plant identification player gets more points in the competition.\n",
    "\n",
    "## Reference\n",
    "\n",
    "Damala, A, P Houiler, and I Marchal. 2007. “Crafting the Mobile Augmented Reality Museum Guide.” In VRIC LAVAL Virtual Proceedings, 303–306.\n",
    "\n",
    "Hansen, Derek, Darcy Lewis, Dana Rotman, David Jacobs, and Arijit Biswas. 2011. Odd Leaf Out Improving visual recognition with games, 1-9.\n",
    "\n",
    "Inoue, H., Kusunoki, F., Takeda, Y., Yamaguchi, E., Inagaki, S., Mizoguchi, H., Sugimoto, M.: Evaluation of a Mobile Plant-Identification System to Support the Study of Vegetation Succession, In Proceedings of ICCE 2012, Singapore (2012, to appear). \n",
    "\n",
    "Kumar, Neeraj, PeterN. Belhumeur, Arijit Biswas, DavidW. Jacobs, W.John Kress, IdaC. Lopez, and JoãoV.B. Soares. 2012. “Leafsnap: A Computer Vision System for Automatic Plant Species Identification.” In Computer Vision – ECCV 2012, ed. Andrew Fitzgibbon, Svetlana Lazebnik, Pietro Perona, Yoichi Sato, and Cordelia Schmid, 502–516. Springer Berlin Heidelberg. \n",
    "\n",
    "Rogers, Donald P. 1958. “The Philosophy of Taxonomy.” Mycologia 50 (3): 326–332.Rogers, Donald P. 1958. “The Philosophy of Taxonomy.” Mycologia 50 (3): 326–332.\n",
    "\n"
   ]
  },
  {
   "cell_type": "code",
   "execution_count": null,
   "metadata": {
    "collapsed": true
   },
   "outputs": [],
   "source": []
  }
 ],
 "metadata": {
  "kernelspec": {
   "display_name": "Python 2",
   "language": "python",
   "name": "python2"
  },
  "language_info": {
   "codemirror_mode": {
    "name": "ipython",
    "version": 2
   },
   "file_extension": ".py",
   "mimetype": "text/x-python",
   "name": "python",
   "nbconvert_exporter": "python",
   "pygments_lexer": "ipython2",
   "version": "2.7.14"
  }
 },
 "nbformat": 4,
 "nbformat_minor": 2
}
