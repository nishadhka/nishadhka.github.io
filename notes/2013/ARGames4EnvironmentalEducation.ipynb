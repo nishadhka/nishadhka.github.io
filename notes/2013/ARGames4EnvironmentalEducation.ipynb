{
 "cells": [
  {
   "cell_type": "markdown",
   "metadata": {
    "collapsed": true
   },
   "source": [
    "## Augmented Reality Games for Environmental Education\n",
    "\n",
    "1. What and Why is this document?\n",
    "This document discuss about the aims and objectives of the  Rajat Jayanti Vigyan Sancharak Fellowship project “Augmented Reality Games for Environmental Education”. The current project objective is considerably evolved from the earlier version proposal and this documents could supplement the gap of change in it.  This documents explains the evolution from that proposal to current state of the project and discuss its objectives and aims to consult in evaluation of project success. It also set forth direction and content of forthcoming working paper on this project. \n",
    "\n",
    "2. What is environmental education?\n",
    "Tbilisi declaration defines environmental education (EE) as a learning processes for knowledge on environment and its challenges, develop the skills for address those challenges and impart behavioral change towards informed decision and responsible action. Inspired from nature observation and appreciation for functioning of environment, EE has always necessitated the need of field observational skills and analytical thought processing for comprehending the intricate mechanism and complex interaction of environment and its associative challenges. This makes the filed observation and hands on practical learnings/ participatory simulation are major components in environmental education. So any enhancements in these two components can significantly improve the efficacy and aspiration of environmental education.   \n",
    "\n",
    "3. What is augmented reality game?\n",
    "The term augmented reality indicates the enhancement of user perception about reality with computer assistance. The processes of augmentation is initiated by the aid of input modes which can be recognized by the computer program such as motion, sound or location specificity (GPS coordinates). This initiation resultant in presentation of information about the real world element or simulation about the element's dynamics.  The inclusion of gaming elements such as challenges, curiosity and fantasy in that processes give rise to the augmented reality games. It is a offshoot of augmented reality simulations where the imaginary complex problem modeled in real physical world is undergone for various simulation to find its various facets of outcome with contextual location awareness. Giving rise to a unique learning opportunity where the learners can potentially practice the content for learning or learning by doing.  \n",
    "\n",
    "4. Why the augmented reality game in environmental education?\n",
    "In terms of technicality and game dynamics the ARG improvise the teaching efficacy of field based environmental observation and participatory simulation components of EE. Largely it is by increasing the appeal, motivation and involvement in those activities along with improving the processes of learning by doing among the learners. Moreover by location specificity and extension to integrate with real world elements by supplementing the information base, it furthers the promise of developments in technology for educational environment. Instead of the mere role of technology in education sector as improved information/educational content delivery system, ARG can generate a challenging environment of fresh thought, solution for simulated problems, learning by trail and error.  \n",
    "\n",
    "5. What is this project all about?\n",
    "The earlier proposal for this project submitted during the fellowship selection procedure was dealing with SMS based games. Its title was “ Interactive SMS mobile game to enhance interest in environmental education for school students”. Its objective was  \n",
    "To create an interactive SMS quiz game based on imaginary scenario of inquiry into interactions between components of ecosystem such as birds and plants in the thorny forests of 55 acre SACON campus. \n",
    "To implement the game as an environmental education tool for school students visiting SACON campus for nature field trips\n",
    "To evaluate the efficiency of SMS based game for environmental education and its future development and sustainability. \n",
    "In that proposal SMS were proposed to use as a mode of communication means between the knowledge base (computer server), player and with location specificity of player to explore the real world using mobile phones. From the literature review and review of the available similar games made to re-categorize the intended game into Augmented reality game. It also generate the need for improved communication means rather than only SMS to use it in scenario of Augmented Reality Game. Along with this the developments  in the mean time particularly in huge cost reduction in tablet computers greatly facilitated this evolution to use tablet computer as principle gaming tool rather than SMS and mobile phone.  Hence the objective and aim of the project is rewritten as \n",
    "Aim:\n",
    "Explore the role of ARG as Environmental Educational tool.\n",
    "Objective:\n",
    "To experiment the usability of ARG as a environmental education tool in the thorny forests of 55 acre SACON campus.\n",
    "To implement the game as an environmental education tool for school students visiting SACON campus for nature field trips.\n",
    "To evaluate the usability of ARG  for environmental education and its future development and sustainability.\n",
    "\n",
    "The exploration includes development of playable ARG named as Taxonomist, Environmentalist and Chipko wetlands. In which the first two games are related with ARG and last on is related with participatory simulation\n",
    "\n",
    "6. How it can improve the environmental education?\n",
    "It can improve the currently practiced presentation based nature or environmental education by more problem solving based ARG module.\n",
    "It can improve the currently practiced assistance based field trails into more intuitive, information rich and observation skill based field trips.\n",
    "It can improve the involvement and motivation among the learners by including the gaming elements of fun, curiosity and challenges.\n",
    "\n",
    "7. What are all the research questions?\n",
    "How far the ARG is augmenting the environmental education and current practices in SACON nature education trails?\n",
    "What design part attributes to the better playability and learning experience in ARG \n",
    "\n",
    "8. What techniques are going to be used?\n",
    "The ARG based on the Table computers and light weight web based offline application which can be improved or updated by the connection with Internet.\n",
    "Taleblazer, the location based ARG platform will be used for the development of game and its mechanics.\n",
    "GeoSMS, the location awareness in the game mechanics will be used for including multilayer and collaborative game play in ARG. It will be used for knowing the location of other players in the map and associated game mechanics.\n",
    "\n",
    "9. What are all the steps in the project or specific games?\n",
    "The games will be developed in two subsequent iteration each one satisfying the necessity of ARG for EE. First iteration will be for field based observation in which as a initial step the faunal identification will be the objective of ARG named as Taxonomist. The second iteration will be of for participatory simulation in which the simulated scenario of EIA will be designed to give the real world scenario of assessing the environmental impact and related decision making by the players. Named as Environmentalist it intended to impart the problem solving and decision making skill pertaining to environmental challenges among the users of this ARG. \n",
    "\n",
    "10. How it is par with objective of the DST RJVSF science communication fellowship?\n",
    "The project is of application oriented education technology development research. The objectives of the RJVSF to better communicate the science can only be achieved by successful implementation of the ARG and continuous usage in the nature field trails or other environmental education related activities. \n",
    "\n",
    "11. What are all its anticipated outcome?\n",
    "The payable games on ARG's and its sustained implementation in the environmental education activity.\n",
    "The model for developing similar games in environmental education.\n",
    "\n",
    "12. What are all its success indicators?\n",
    "Short term success indicator is playable game and its efficacy evaluation \n",
    "Long term success indicator is continuity of its usage in environmental education activity.\n",
    "\n",
    "13. What are all its risks?\n",
    "Technical problem, minimal coding experience that may lead to delay in rapid prototyping and evaluation of the game. \n",
    "Design problem and technical limitation related with geo location could reduce the full potential of ARG in implementing it in SACON scenario.\n"
   ]
  },
  {
   "cell_type": "code",
   "execution_count": null,
   "metadata": {
    "collapsed": true
   },
   "outputs": [],
   "source": []
  }
 ],
 "metadata": {
  "kernelspec": {
   "display_name": "Python 2",
   "language": "python",
   "name": "python2"
  },
  "language_info": {
   "codemirror_mode": {
    "name": "ipython",
    "version": 2
   },
   "file_extension": ".py",
   "mimetype": "text/x-python",
   "name": "python",
   "nbconvert_exporter": "python",
   "pygments_lexer": "ipython2",
   "version": "2.7.14"
  }
 },
 "nbformat": 4,
 "nbformat_minor": 2
}
