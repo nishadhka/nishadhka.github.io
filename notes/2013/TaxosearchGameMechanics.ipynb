{
 "cells": [
  {
   "cell_type": "markdown",
   "metadata": {
    "collapsed": true
   },
   "source": [
    "## Taxosearch game mechanics \n",
    "Taxosearch is a field based quiz game, the field reality (here the player's location specific question related with tree species) is augmented by location specific information to clear the questions. The quiz question is triggered by touching the marker in location map shown in the tablet running the game application. The marker is to be near to player current locality, the current locality is shown in the tablet either by tablet GPS or based on manual identification through map overlay depicting the location details. The trigger (touching of the marker) generate image of a tree located within 5 meter distance of the player. The player has to identify the leaf bearing tree and has to answer subsequent objective type quiz question regarding the tree. The quiz question is open book type and the player has the choice to search for the answers available through links given along with the questions. Time taken and right questions entered by the player gives the game point and intimate to the next level or other challenges.\n",
    "\n",
    "### Android application \n",
    "\n",
    "Every android application is comprised of number of activity, the taxosearch android tablet application comprised of two activities namely. \n",
    "Welcome screen \n",
    "This will be the first activity in the game. This activity shows three buttons namely play button, about button, high score button and exit button. The play button starts the game, high score button shows the earlier players game score and challenges completed, about button shows the page with information on the game play tutorials and secondary information related to the game, exit button to exit the game.\n",
    "play activity \n",
    "The play activity comprised of three activities \n",
    "\n",
    "### Augmented reality activity \n",
    "\n",
    "This activity is a offline map activity with location marker to start the tree identification quiz. By touching the location marker, it gives rise to the quiz activity. \n",
    "The offline map is created using Google earth imagery and MOBILE ATLAS CREATOR software. it generate the tile images of the location boundary selected in png formate within a sqlite database which can be used in making offline map application in android software. \n",
    "\n",
    "### Quiz activity \n",
    "\n",
    "The quiz activity is a template connected to quiz database and is comprised of leaf image to locate the tree or plant and 5 questions related with the tree each from tree identification category explained before. \n",
    "The quiz activity is tracked by chronometer android app which gives the amount of time spend by players in answering the quiz. This activity has one OK button to start the result activity and cancel button to cancel th quiz activity \n",
    "The quiz activity comprise of search engine sub activity which starts a html page in web browser with links for various contents of glossary terms, suggested tree species information page, images etc. This activity acts as a open book for the quiz questions. \n",
    "\n",
    "### Result activity \n",
    "\n",
    "Result activity calculate the game points from number of correct answers and time spend on the quiz activity. This activity is connected with high score activity of welcome screen options. "
   ]
  }
 ],
 "metadata": {
  "kernelspec": {
   "display_name": "Python 2",
   "language": "python",
   "name": "python2"
  },
  "language_info": {
   "codemirror_mode": {
    "name": "ipython",
    "version": 2
   },
   "file_extension": ".py",
   "mimetype": "text/x-python",
   "name": "python",
   "nbconvert_exporter": "python",
   "pygments_lexer": "ipython2",
   "version": "2.7.14"
  }
 },
 "nbformat": 4,
 "nbformat_minor": 2
}
