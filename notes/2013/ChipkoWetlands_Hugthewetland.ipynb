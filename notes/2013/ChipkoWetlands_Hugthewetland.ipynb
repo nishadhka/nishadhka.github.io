{
 "cells": [
  {
   "cell_type": "markdown",
   "metadata": {
    "collapsed": true
   },
   "source": [
    "## Chipko wetlands (Hug the wetlands) \n",
    "\n",
    "A virtual globe based simulation game for awareness on potential adaptive and  mitigation capacity of wetlands in urban spaces\n",
    "\n",
    "## Summary:\n",
    "\n",
    "Wetlands ecosystems such as rivers, lakes, marshes, riced fields and coastal areas are important carbon reservoirs. Covering about 6% of earth's land surface area, it stores 12% of global carbon pool  influencing the carbon cycle(1). These systems are highly dynamic, having complex multilevel interactions and undergoes rapid fluctuation of carbon sink or source duality based on major hydrological regime. The ongoing massive destruction and degradation of these systems further aggravate those characteristics and made them as important driver and uncertainty element in climate change predictions and assessment. Hence it is increasingly stressed out for wider understanding of these systems through continuous monitoring and assessment for better management(2).  \n",
    "\n",
    "Historically the services provided by wetlands has played important role in sustenance and well being of urban spaces. Especially services like fresh water, food source, ground water recharge, carbon reserve, flood control, moderating storm surges and habitat for wildlife. In the scenario of climate change these services can act as adaptation tools against increased flood or drought conditions and as low cost mitigation effort in urban spaces. Generally this requires the alleviation of public or policy level consideration of wetlands systems as inferior to economic activity which critically destroys these precious resources in terms of urban development. For better effectiveness, adaptation potential of wetlands has to be integrated into urban management or ongoing wetland management plan. Most importantly it has to be put forward for participatory or multi stakeholder management practices considering the complexity and uncertain features of these resources. Mass awareness and appreciation of wetlands' potential could generate the needed public opinion for above said policy change. \n",
    "\n",
    "Simulation games are increasingly used as a education tools for explaining the complex phenomenons. Blended with problem solving of real life feature and motivations of play, simulation games are great tools to create awareness and apprehension about the features like wetland ecosystems and its innumerable interactions(3). The integration of the simulation with virtual globe such as world wind, it could facilitate the comprehension of wetland ecosystems with its all real world interactions and complexity. Virtual globe provides extensive and fine scale satellite imageries of earth at free of cost for non commercial purposes. It offers open source code to develop applications above that as well as different overlays especially topographic data (Digital Elevation Models) most useful for the simulation game with wetlands. \n",
    "\n",
    "## The game:\n",
    "Chipko wetlands is an environmental simulation game in virtual globe (VG). The goal of the game is of two task, one is to increase the adaptation and mitigation capacity of urban area from wetland and second is to found the maladaptation and bogus/ inferior mitigation claims around the game VG. The task revolves around demarcate wetland  - draw a polygon shape around wetland (Hugging of the wetland is happens in this way) in VG and simulate the adaptation and mitigation potential for the players urban area from the demarcated wetland. The wetland can be on site of the players urban area or can be remote. The virtual globe of the game is having a different set of law, main one is ownership in VG is  limited to a urban circle of area 40-50 Sq Km. Instead of owning the land, players can adopt unlimited land (here wetlands) for the sake of players urban area, also the single wetland can be adopted by multiple players linked to particular urban area. Second task of finding maladaptation can be carried out by reviewing the other players urban and adopted wetland status by proving the real facts. From both the task player gets power to sustain her/his urban area against the all odds of ongoing different climate change scenario in VG.  \n",
    "\n",
    "## Objectives \n",
    "1. To give an understanding to the player about potential of wetland as adaptation and mitigation tools against climate change.\n",
    "2. To explore the usability of game play for science, usability of tags, pattern identification made during the game play for better understanding of these ecosystems.\n",
    "  \n",
    "## Key benefits\n",
    "\n",
    "**Resource Monitoring**\n",
    "The game can be act as an resource monitoring tool. The virtual globe satellite imageries are updated frequently and it also shows the archived imageries, which can be act as mechanical turk based monitoring of the earth surface emphasizing the wetlands ecosystems. There is a chance to augment the ongoing algorithm  based automatic change detection monitoring of earth surface such as Planetary skin initiatives. \n",
    "\n",
    "**Participatory modeling**\n",
    "It can give free participatory modeling tool for wetland management. Especially in the case of restoration and flood control modification practices in wetlands. The participatory nature with awareness creation feature of the game can provide critical tool for the data scarce and multi stakeholder involvement scenario. It can give open source tool for the currently available property software(4).\n",
    "\n",
    "**Legal actions**\n",
    "One of the major challenges of wetlands  facing is the progressive encroachments. The main activity of game- demarcation and simulation of the wetland ecosystem features give important tool for temporal monitoring of the wetland boundary encroachment. It gives further opportunity to take legal action with monitoring evidence against encroacher.                                                            \n",
    "\n",
    "**Ecological engineering**\n",
    "It can give tools for generating new ecological engineering options which can be simulated in the game console and have deliberation of the stakeholders to try it out in the field.                         \n",
    "\n",
    "## References\n",
    "\n",
    "1. Erwin, Kevin L. 2009. “Wetlands and Global Climate Change : the Role of Wetland Restoration in a Changing World.” WETLANDS ECOLOGY AND MANAGEMENT 17: 71–84. doi:10.1007/s11273-008-9119-1.\n",
    "2. Millennium Ecosystem Assessment, . ECOSYSTEMS AND HUMAN WELL-BEING: WETLANDS AND WATER Synthesis. World Resources Institute, Washington, DC\n",
    "3. Göknur, Kaplan Akilli. 2007. “Games and Simulations: A New Approach in Education?” In Games and Simulations in Online Learning : Research and Development Framework, ed. David Gibson, Clark Aldrich, and Marc Prensky, 1–421. Information Science Publishing.\n",
    "4. Ritzema, Henk, Jochen Froebrich, Ramakrishna Raju, Ch. Sreenivas, and Rob Kselik. 2010. “Using Participatory Modelling to Compensate for Data Scarcity in Environmental Planning: A Case Study from India.” Environmental Modelling & Software 25 (11) (November): 1450–1458. "
   ]
  },
  {
   "cell_type": "code",
   "execution_count": null,
   "metadata": {
    "collapsed": true
   },
   "outputs": [],
   "source": []
  }
 ],
 "metadata": {
  "kernelspec": {
   "display_name": "Python 2",
   "language": "python",
   "name": "python2"
  },
  "language_info": {
   "codemirror_mode": {
    "name": "ipython",
    "version": 2
   },
   "file_extension": ".py",
   "mimetype": "text/x-python",
   "name": "python",
   "nbconvert_exporter": "python",
   "pygments_lexer": "ipython2",
   "version": "2.7.14"
  }
 },
 "nbformat": 4,
 "nbformat_minor": 2
}
