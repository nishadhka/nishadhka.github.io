{
 "cells": [
  {
   "cell_type": "markdown",
   "metadata": {
    "collapsed": true
   },
   "source": [
    " **Python_for_data_frame_editing_using_pandas**\n",
    "\n",
    "1. Pandas is a library for data frame manipulation and analysis, it gives ability to python as R like functionality.\n",
    "1. This is for converting a CSV file into the form to import into istsos as a tutorial sensor observations.\n",
    "1. The steps need to be done is\n",
    " 1. remove the unwanted column in csv file\n",
    " 2. filter each stations readings\n",
    " 3. remove duplicates\n",
    " 4. convert the date and time formate into ISO standards as demo data\n",
    "1. to read csv\n",
    "```python\n",
    "import pandas \n",
    "df = read_csv('the path/CBE_TNAU.csv')\n",
    "to remove duplicates\n",
    "STPT_ND= df.drop_duplicates('column heading')\n",
    "To remove certain columns, first view the available columns in the data frame then call only needed columns\n",
    "df=pa.DataFrame(df,columns=['needed column 1','needed column 2', etc])\n",
    "To save the data frames as csv\n",
    "df.to_csv('path/file.csv')\n",
    "To select rows with specific entry \n",
    "df1 = df[df.columnname == \"row entry\"]\n",
    "```\n",
    "1. To work with the date and time format of the istsos\n",
    "1. Based on the answer http://stackoverflow.com/questions/9632336/change-string-containing-datetime-to-another-format-of-datetime and http://stackoverflow.com/questions/1398674/python-display-the-time-in-a-different-time-zone\n",
    "```python\n",
    "dateS = \"28-08-2013 09:00\" \n",
    "from datetime import datetime \n",
    "my_date = datetime.strptime(dateS, '%d-%m-%Y %H:%M')\n",
    "my_new_string = my_date.strftime('%Y-%m-%dT%H:%M:%S.000000+0530')\n",
    ">>>'2013-08-28T09:00:00.000000+0530'\n",
    "```\n",
    "1. Another code for date time editing using pandas\n",
    "```\n",
    "from pytz import timezone\n",
    "from datetime import datetime\n",
    "India = timezone('Asia/Kolkata')\n",
    "in_time = datetime.now(India)\n",
    "print in_time.strftime('%Y-%m-%d_%H-%M-%S')\n",
    "```\n",
    "1. to know python packages version for example for pandas\n",
    "```python\n",
    "pandas.__version__\n",
    "```\n",
    "1. the to_datetime to edit whole column date and time, based on http://stackoverflow.com/questions/17134716/convert-dataframe-column-type-from-string-to-datetime and for strftime http://stackoverflow.com/questions/13999850/how-to-specify-date-format-when-using-pandas-to-csv\n",
    "```python\n",
    "Dt = pa.to_datetime(df[‘Time’], format=‘%Y-%m-%dT%H:%M:%S.000000+0530’) \n",
    "Dt2 = df[‘Time’].apply(lambda x: x.strftime(‘`%Y-%m-%dT%H:%M:%S.000000+0530’))\n",
    "```\n",
    "1. Setting index for the date time column\n",
    "```python\n",
    "df = pa.read_csv(‘csv file’,index_col=‘Time’)\n",
    "```"
   ]
  },
  {
   "cell_type": "code",
   "execution_count": null,
   "metadata": {
    "collapsed": true
   },
   "outputs": [],
   "source": []
  }
 ],
 "metadata": {
  "kernelspec": {
   "display_name": "Python 2",
   "language": "python",
   "name": "python2"
  },
  "language_info": {
   "codemirror_mode": {
    "name": "ipython",
    "version": 2
   },
   "file_extension": ".py",
   "mimetype": "text/x-python",
   "name": "python",
   "nbconvert_exporter": "python",
   "pygments_lexer": "ipython2",
   "version": "2.7.14"
  }
 },
 "nbformat": 4,
 "nbformat_minor": 2
}
