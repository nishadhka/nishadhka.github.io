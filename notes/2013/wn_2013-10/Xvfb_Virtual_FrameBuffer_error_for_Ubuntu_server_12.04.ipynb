{
 "cells": [
  {
   "cell_type": "markdown",
   "metadata": {
    "collapsed": true
   },
   "source": [
    "**Xvfb_Virtual_FrameBuffer_error_for_Ubuntu_server_12.04**\n",
    "\n",
    "1. Frame buffer is a hardware portion in memory to provide display. X window systems are the the basic display setup for computers, remember in computer every display is organized as bitmap windows. In head less Ubuntu servers virtual framebuffers are used for the application which specifically requires the display such as Firefox or other browsers.\n",
    "1. Xvfb provides virtual display for those application. In Ubuntu headless server (server without any GUI) I installed for mainly running Selenium scripts which requires browser to run and browser requires display. It is installed in Ubuntu 12.04 following this, http://www.installationpage.com/selenium/how-to-run-selenium-headless-firefox-in-ubuntu/ and followed the commands\n",
    "```bash\n",
    "sudo apt-get install xvfb\n",
    "sudo Xvfb :10 -ac\n",
    "firefox\n",
    "export DISPLAY=:10\n",
    "```\n",
    "1. But somehow after a reboot, it shows error\n",
    "```bash\n",
    "[dix] Could not init font path element /usr/share/fonts/X11/misc, removing from\n",
    "list!\n",
    "Could not init font path element /usr/share/fonts/X11/cyrillic, removing from\n",
    "[dix]\n",
    " list!\n",
    "[dix] Could not init font path element /usr/share/fonts/X11/100dpi/:unscaled,\n",
    "/:unscaled, removin\n",
    "removing from list!\n",
    "[dix] Could not init font path element /usr/share/fonts/X11/75dp\n",
    "ig from list!\n",
    "[dix] Could not init font path element /usr/share/fonts/X11/Type1, removing\n",
    "from list!\n",
    "ot init font path element /usr/share/fonts/X11/75dpi, removing from list!\n",
    "[dix] Could not init font path element /usr/share/fonts/X11/100dpi, removing\n",
    "from list!\n",
    "[dix] Could \n",
    "```\n",
    "1. I thought it is not working but after waiting for sometime it seems actually starting the display, any how I move forward to the error and installed following package to resolve the error based on http://blog.martin-lyness.com/tag/xvfb\n",
    "```bash\n",
    "sudo apt-get install xfonts-100dpi xfonts-75dpi xfonts-scalable xfonts-cyrillic\n",
    "sudo apt-get install xserver-xorg-core\n",
    "```\n",
    "1. and followed this for final touch up http://www.guguncube.com/2733/python-spynner-installation-in-ubuntu and installed\n",
    "```bash\n",
    "sudo apt-get install -y x11-xkb-utils\n",
    "sudo apt-get install -y xfonts-100dpi xfonts-75dpi xfonts-scalable xfonts-cyrillic\n",
    "sudo apt-get install -y x-ttcidfont-conf cabextract ttf-mscorefonts-installer\n",
    "sudo dpkg-reconfigure --default-priority x-ttcidfont-conf\n",
    "```\n",
    "1. then in a different terminal ssh’d to run the display and then the Firefox, now it working nice, other wise it gets lot of error. like  RAND is not working etc.\n",
    "1. Another tips: to show the hidden file by cmd, use\n",
    "```bash\n",
    "ls -a\n",
    "```\n",
    "\n",
    "**References**\n",
    "\n",
    "1. http://stackoverflow.com/questions/17944234/xlib-extension-randr-missing-on-display-21-trying-to-run-headless-googl\n",
    "1. http://askubuntu.com/questions/131051/how-to-kill-and-to-start-the-x-server\n",
    "1. http://permalink.gmane.org/gmane.comp.multimedia.puredata.general/88691\n",
    "1. http://www.guguncube.com/2733/python-spynner-installation-in-ubuntu\n",
    "1. http://veeraramkumar.blogspot.in/2011_06_01_archive.html\n",
    "1. https://github.com/daneroo/phantom-test\n",
    "1. http://serverfault.com/questions/239597/xvfb-error-on-ubuntu\n",
    "1. http://ubuntuforums.org/archive/index.php/t-1956577.html\n",
    "1. http://ivanvillareal.com/linux/xvfb-and-firefox-headles-screenshot-generator/\n",
    "1. http://blog.martin-lyness.com/tag/xvfb\n",
    "1. http://www.installationpage.com/selenium/how-to-run-selenium-headless-firefox-in-ubuntu/"
   ]
  },
  {
   "cell_type": "code",
   "execution_count": null,
   "metadata": {
    "collapsed": true
   },
   "outputs": [],
   "source": []
  }
 ],
 "metadata": {
  "kernelspec": {
   "display_name": "Python 2",
   "language": "python",
   "name": "python2"
  },
  "language_info": {
   "codemirror_mode": {
    "name": "ipython",
    "version": 2
   },
   "file_extension": ".py",
   "mimetype": "text/x-python",
   "name": "python",
   "nbconvert_exporter": "python",
   "pygments_lexer": "ipython2",
   "version": "2.7.14"
  }
 },
 "nbformat": 4,
 "nbformat_minor": 2
}
