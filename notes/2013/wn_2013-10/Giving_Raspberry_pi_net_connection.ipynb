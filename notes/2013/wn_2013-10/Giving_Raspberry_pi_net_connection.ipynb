{
 "cells": [
  {
   "cell_type": "markdown",
   "metadata": {
    "collapsed": true
   },
   "source": [
    "**Giving_Raspberry_pi_net_connection**\n",
    "\n",
    "The static IP address addition on SD card seems not connecting RPi (Raspberry Pi) to Internet (1)\n",
    "\n",
    "1. Possible way is DHCP was removed and static is invoked\n",
    "2. So the the command netstat -nr will show up only the\n",
    "```bash\n",
    "Destination     Gateway         Genmask         Flags   MSS \n",
    "192.168.1.0     0.0.0.0         255.255.255.0   U         0\n",
    "Window  irtt   Iface\n",
    " 0          0        eth0\n",
    "```\n",
    "1. Since the above is without UG flag (from http://raspberrypi.stackexchange.com/questions/7146/static-local-ip-gateway-config-on-startup-issues), so no gateway, no way to access Internet\n",
    "3. Solution is to add following entries\n",
    "\n",
    "```bash\n",
    "pi@raspberrypi ~ $ cat /etc/network/interfaces\n",
    "auto lo\n",
    "\n",
    "iface lo inet loopback\n",
    "iface eth0 inet static\n",
    "address 192.168.1.104\n",
    "netmask 255.255.255.0\n",
    "gateway 192.168.1.1\n",
    "\n",
    "\n",
    "allow-hotplug wlan0\n",
    "iface wlan0 inet manual\n",
    "wpa-roam /etc/wpa_supplicant/wpa_supplicant.conf\n",
    "iface default inet dhcp\n",
    "```\n",
    "\n",
    "and\n",
    "\n",
    "```bash\n",
    "pi@raspberrypi ~ $ cat /etc/resolv.conf\n",
    "DNS 218.248.240.179\n",
    "nameserver 218.248.240.179\n",
    "```\n",
    "\n",
    "and\n",
    "\n",
    "```bash\n",
    "sudo /sbin/route add -net 0.0.0.0 gw 192.168.1.254 eth0\n",
    "sudo /sbin/route add -net 0.0.0.0 gw 192.168.1.1 eth0\n",
    "```\n",
    "4. it makes three line in netstat table with these gatway address, after this the Internet will be getting. now the  netstat -nr will looks like\n",
    "```bash\n",
    "pi@raspberrypi ~ $ netstat -nr\n",
    "Kernel IP routing table\n",
    "Destination     Gateway         Genmask         Flags   MSS Window  irtt Iface\n",
    "0.0.0.0         192.168.1.1     0.0.0.0         UG        0 0          0 eth0\n",
    "0.0.0.0         192.168.1.254   0.0.0.0         UG        0 0          0 eth0\n",
    "192.168.1.0     0.0.0.0         255.255.255.0   U         0 0          0 eth0\n",
    "```\n",
    "\n",
    "References:\n",
    "1. http://raspberrypi.stackexchange.com/questions/7624/setting-a-static-eth0-ip\n",
    "2. http://raspberrypi.stackexchange.com/questions/7146/static-local-ip-gateway-config-on-startup-issues\n",
    "3. http://www.soslug.org/wiki/getting_your_raspberry_pi_to_run_on_a_static_ip_with_internet\n",
    "4. http://www.penguintutor.com/linux/raspberrypi-webserver\n",
    "5. http://pihw.wordpress.com/guides/direct-network-connection/\n",
    "6. http://www.penguintutor.com/linux/raspberrypi-headless"
   ]
  },
  {
   "cell_type": "code",
   "execution_count": null,
   "metadata": {
    "collapsed": true
   },
   "outputs": [],
   "source": []
  }
 ],
 "metadata": {
  "kernelspec": {
   "display_name": "Python 2",
   "language": "python",
   "name": "python2"
  },
  "language_info": {
   "codemirror_mode": {
    "name": "ipython",
    "version": 2
   },
   "file_extension": ".py",
   "mimetype": "text/x-python",
   "name": "python",
   "nbconvert_exporter": "python",
   "pygments_lexer": "ipython2",
   "version": "2.7.14"
  }
 },
 "nbformat": 4,
 "nbformat_minor": 2
}
