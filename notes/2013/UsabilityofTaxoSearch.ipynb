{
 "cells": [
  {
   "cell_type": "markdown",
   "metadata": {
    "collapsed": true
   },
   "source": [
    "## Usability of TaxoSearch, an augmented reality game for improving plant identification and observation skills \n",
    "\n",
    "The Internet search engines has changed the landscape of information access. Using a set of key words, to search for indexed key words of stored information, it facilitate to narrow down the task of information retrieval to the most specific content the user is querying for. This has generated far reaching implication in usage and production of information in day to day life of common public. The greatest implications can be see it in educational sector especially in individual learning of simple to sophisticated skills. In this aspect the process of learning to do some task of day to day life has considerably simplified. The developments in search engine technology has far reached to even provide the semantic search results where the results are modified intelligently to the users' background. These developments has necessitated a new set of skills to optimally use the search engines. Being computer became more and more hand held the process of information retrieval through search engines has became largely ubiquitous and so its real life applications. \n",
    "Search engines has immense applications in the field identification of living organisms. The ever increasing availability of indexed, tagged- meta and location information of living organisms with its taxonomically identity paws the simplified way for learning the skill of identifying living organisms. The increasingly being digitized scientific filed of taxonomy is immensely simplifying the tedious processes of field identification of plant species. The point is came that with prior knowledge on the various parts of organism as keywords which are easily observable or recognizable, it is very much easier to find even the species level identification of organisms especially the tree species. In environmental education, the best identification of common living organisms for its better comprehension of its role and importance in ecosystems is at most important skill. The development of this skill in Internet age needs to be revamped and has to be associated with advantages provided with search engine setup.\n",
    "The augmented reality game Taxosearch is intended to provide a similar field based platform of acquiring the plant identification skill for a search engine based Internet age Taxonomy. The main aim of the game is two fold, one is to impart the necessary skills, encouragement to acquire the skills of plant identification. Second one is related with improving the observational skill among players on environmental monitoring in terms of recognize the various ecological cycles. As a field based observation quiz game pattern the objective of the game is related with plant  parts recognition, relating it with commonly used terms of taxonomy, nomenclature of the plant species, evolutionary lineage identification and recognition of ecological cycle on the plant.  \n",
    "It basically improves the plant identification  skill among the players in terms of \n",
    "1. Plant part recognition, which helps to differentiate the parts of organisms and found the underlying structural pattern in it\n",
    "2. Plant morphological / taxonomic term recognition which helps to identify the parts of a plant  and used for search query\n",
    "3. Skills related with nomenclature, taxonomic systematic name its relation with common vernacular name with real world correlation which helps in understanding / appreciate the nomenclature behind plant naming  \n",
    "4. Skills related with classification, evolutionary lineage, choose the correct pedigree tree which helpful in appreciating the evolutionary significance and system interrelationship, \n",
    "5. Skills related with environmental monitoring to the observe the characters of plant and rationalize the character with various penology and prevailing environmental condition. \n"
   ]
  },
  {
   "cell_type": "code",
   "execution_count": null,
   "metadata": {
    "collapsed": true
   },
   "outputs": [],
   "source": []
  }
 ],
 "metadata": {
  "kernelspec": {
   "display_name": "Python 2",
   "language": "python",
   "name": "python2"
  },
  "language_info": {
   "codemirror_mode": {
    "name": "ipython",
    "version": 2
   },
   "file_extension": ".py",
   "mimetype": "text/x-python",
   "name": "python",
   "nbconvert_exporter": "python",
   "pygments_lexer": "ipython2",
   "version": "2.7.14"
  }
 },
 "nbformat": 4,
 "nbformat_minor": 2
}
