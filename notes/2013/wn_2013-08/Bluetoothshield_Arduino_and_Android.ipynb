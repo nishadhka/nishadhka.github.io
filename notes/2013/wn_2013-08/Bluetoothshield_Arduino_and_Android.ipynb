{
 "cells": [
  {
   "cell_type": "markdown",
   "metadata": {
    "collapsed": true
   },
   "source": [
    "**Bluetoothshield_Arduino_and_Android**\n",
    "\n",
    "For building a mobile particulate matter pollution monitoring. Fusing a Arduino controlling Shenyi dust sensor and am Android tablet.\n",
    "\n",
    "Alternatives:\n",
    "1. Tried with Amarino library and apps\n",
    "2. App inventor and Arduino with blue tooth shield\n",
    "3. Crude code and android app\n",
    "\n",
    "following links were most useful for error free slave connection between Android and Arduino with seed studio blue tooth shield.\n",
    "\n",
    "http://forum.arduino.cc/index.php?PHPSESSID=n80llfhki75ufb2ne0e8158u47&topic=120113.30\n",
    "\n",
    "http://www.rjanick.com/2012/11/26/seeed-studio-bluetooth-shield/\n",
    "\n",
    "http://arduinobasics.blogspot.in/2013/01/arduino-basics-bluetooth-tutorial.html\n",
    "\n",
    "http://jondontdoit.blogspot.com.au/2011/11/bluetooth-mate-tutorial.html\n",
    "\n",
    "For seeing the blue tooth serial in Android\n",
    "\n",
    "http://askubuntu.com/questions/190779/is-there-any-way-to-see-data-coming-from-bluetooth\n",
    "\n",
    "http://bellcode.wordpress.com/2012/01/02/android-and-arduino-bluetooth-communication/\n",
    "\n",
    "Alternative 2:\n",
    "App inventor as given in this link\n",
    "\n",
    "http://forum.arduino.cc/index.php?topic=148853.0\n",
    "\n",
    "is working based on master blue-tooth communication, but master communication was not yet established.\n",
    "\n",
    "But found a app inventor source with able to work with slave communication,\n",
    "\n",
    "http://ai.kittywolf.net/index.php/BTArduinoLED1\n",
    "\n",
    "So now in this direction."
   ]
  },
  {
   "cell_type": "code",
   "execution_count": null,
   "metadata": {
    "collapsed": true
   },
   "outputs": [],
   "source": []
  }
 ],
 "metadata": {
  "kernelspec": {
   "display_name": "Python 2",
   "language": "python",
   "name": "python2"
  },
  "language_info": {
   "codemirror_mode": {
    "name": "ipython",
    "version": 2
   },
   "file_extension": ".py",
   "mimetype": "text/x-python",
   "name": "python",
   "nbconvert_exporter": "python",
   "pygments_lexer": "ipython2",
   "version": "2.7.14"
  }
 },
 "nbformat": 4,
 "nbformat_minor": 2
}
