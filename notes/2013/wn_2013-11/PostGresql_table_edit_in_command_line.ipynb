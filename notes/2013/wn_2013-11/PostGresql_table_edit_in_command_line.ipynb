{
 "cells": [
  {
   "cell_type": "markdown",
   "metadata": {
    "collapsed": true
   },
   "source": [
    " **PostGresql_table_edit_in_command_line**\n",
    "\n",
    "1. To edit the istsos data base table “measures” in postgresql it is to over come the error in istsos import saying the the dylos reading is exceeding the digit limit of the column val_meas in the table. normally it is easy to change column digit size through pgadmin. But for command line it requires following commands.\n",
    "1. Get access to postgresql\n",
    "```bash\n",
    "sudo -u postres psql\n",
    "```\n",
    "2. To view the datbase in postgresql\n",
    "```bash\n",
    "\\dt\n",
    "```\n",
    "3. To connect with particular database\n",
    "```bash\n",
    "\\c istsos      here istsos is data base\n",
    "```\n",
    "4. To display the details of table\n",
    "```bash\n",
    "\\d dlyosecbe.measrues        here dlyosecbe.measrues is the table name\n",
    "```\n",
    "5. To change the columns digit size use the SQl command got from pgadmin\n",
    "```bash\n",
    "ALTER TABLE dyloscbe.measures k ALTER COLUMN val_msr TYPE numeric(14,6);\n",
    "```\n"
   ]
  },
  {
   "cell_type": "code",
   "execution_count": null,
   "metadata": {
    "collapsed": true
   },
   "outputs": [],
   "source": []
  }
 ],
 "metadata": {
  "kernelspec": {
   "display_name": "Python 2",
   "language": "python",
   "name": "python2"
  },
  "language_info": {
   "codemirror_mode": {
    "name": "ipython",
    "version": 2
   },
   "file_extension": ".py",
   "mimetype": "text/x-python",
   "name": "python",
   "nbconvert_exporter": "python",
   "pygments_lexer": "ipython2",
   "version": "2.7.14"
  }
 },
 "nbformat": 4,
 "nbformat_minor": 2
}
