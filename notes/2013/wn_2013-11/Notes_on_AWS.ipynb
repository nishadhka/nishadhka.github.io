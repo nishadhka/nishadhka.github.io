{
 "cells": [
  {
   "cell_type": "markdown",
   "metadata": {
    "collapsed": true
   },
   "source": [
    "**Notes_on_AWS**\n",
    "1. To start up AWS notes on getting started is too good notes\n",
    "1. For know about EBS for AWS and its role in data storage https://spruce.it/noise/setting-up-a-proper-lamp-stack-on-aws-ec2-ebs/\n",
    "1. For mounting the EBS volume to cloud http://stackoverflow.com/questions/11535617/add-ebs-to-ubuntu-ec2-instance http://maplpro.blogspot.in/ A best visualization for pyhton turoail\n",
    "1. For more comphrehensive understanding of AWS follow this\n",
    "http://serverfault.com/questions/315123/difference-between-rebooting-and-stop-starting-an-amazon-ec2-instance"
   ]
  },
  {
   "cell_type": "code",
   "execution_count": null,
   "metadata": {
    "collapsed": true
   },
   "outputs": [],
   "source": []
  }
 ],
 "metadata": {
  "kernelspec": {
   "display_name": "Python 2",
   "language": "python",
   "name": "python2"
  },
  "language_info": {
   "codemirror_mode": {
    "name": "ipython",
    "version": 2
   },
   "file_extension": ".py",
   "mimetype": "text/x-python",
   "name": "python",
   "nbconvert_exporter": "python",
   "pygments_lexer": "ipython2",
   "version": "2.7.14"
  }
 },
 "nbformat": 4,
 "nbformat_minor": 2
}
