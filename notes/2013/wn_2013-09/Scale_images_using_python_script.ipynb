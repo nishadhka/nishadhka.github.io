{
 "cells": [
  {
   "cell_type": "markdown",
   "metadata": {
    "collapsed": true
   },
   "source": [
    "**Scale_images_using_python_script**\n",
    "\n",
    "* For scaling jpeg image files in bulk, there is a python script from this link\n",
    "\n",
    "http://united-coders.com/christian-harms/image-resizing-tips-every-coder-should-know/\n",
    "\n",
    "```python\n",
    "import Image, os, sys\n",
    "for filename in sys.argv[1:]:\n",
    "    img = Image.open(filename).resize( (200,200) )\n",
    "    out = file(os.path.splitext(filename)[0]+\"_thumb.jpg\", \"w\")\n",
    "    try:\n",
    "        img.save(out, \"JPEG\")\n",
    "    finally:\n",
    "        out.close()\n",
    "```\n",
    "It is only some 8 lines of code, but doing huge job. Another important think to learn is use of finding and regex to feed the files into python script. This is the find and python feeder code to make the script work on all the files inside a directory.\n",
    "```bash\n",
    "find . -regex .*jpg | xargs python resize.py\n",
    "```"
   ]
  }
 ],
 "metadata": {
  "kernelspec": {
   "display_name": "Python 2",
   "language": "python",
   "name": "python2"
  },
  "language_info": {
   "codemirror_mode": {
    "name": "ipython",
    "version": 2
   },
   "file_extension": ".py",
   "mimetype": "text/x-python",
   "name": "python",
   "nbconvert_exporter": "python",
   "pygments_lexer": "ipython2",
   "version": "2.7.14"
  }
 },
 "nbformat": 4,
 "nbformat_minor": 2
}
