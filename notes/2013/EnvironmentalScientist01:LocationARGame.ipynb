{
 "cells": [
  {
   "cell_type": "markdown",
   "metadata": {
    "collapsed": true
   },
   "source": [
    "## Environmental Scientist 0.1: location based augmented reality game to enhance interest in environmental education for school students, project overview\n",
    "\n",
    "## Introduction\n",
    "\n",
    "Environmental education aims to improve the knowledge and awareness about environment, its associative challenges, develop skills to address those challenges and motivate to take informed decision and responsible action among the learners (UNESCO, Tbilisi Declaration, 1978). Thus inculcating the understanding of  environmental issues complexity, its multicomponent interrelationship and uncertain trajectories with motivation to took part and take corrective actions are to be the at most  important in achieving the aims of environmental education. In general these needs where felt as basic skills to be acquired in overall educational objectives which greatly reflects the work and citizenship of 21st century(Rosenbaum 2007). It is generally aimed to acquire skills to deal with knowledge based economy and society such as to work with incomplete or scattered information, adapt to changing conditions, manage complexity, instantly create and share the knowledge. In this context education based on participatory experience based learning which provides moderate authentic or lite reality experience of solving real problem as learning exercise is considered as the best medium (Klopfer 2008). Enriched with tools, intellectual processes, motivations and consequencesexperiance of science practice for problem solving, it can give the essential ingredient for achieving objectives of thatenvironemntal education. \n",
    "\n",
    "Recent developments in computer technology, in wider prevalence of computing and Internet resources, compactness and ubiquitousness of those resources with location aware systems are providing basic resources for participatory experience based learning. The wide popularity  of computer games with its characteristics of easy provision of fantasy, challenges and curiosity among the players have widely felt as important tool in educational technology (Tiensyrjä 2010). New genre pervasive computer games are widely gaining importance as it is providing simulation and location based gaming experience for participatory experience learning. Augmented reality games are one among the five different classes of pervasive games. Smart toys, effective gaming, augmented table top games, location aware games are the other classes of games in this genre. By integrating virtual reality object in real world environment which were modeled and simulated in gaming platform, augmented reality games are creating authentic experience of real world objects in game. It requires the game participant to solve real problems in day to day life in semi realistic manner with necessary tools, models and simulations of problem which were embedded location specifically with digital interface in the game. The tablet computers in the hands of players  will be acting as a interface for the game and real world in which the game is augmented with informations, simulations with location specific challenges to tackle (Tiensyrjä 2010).       \n",
    "\n",
    "## Background\n",
    "\n",
    "Dramatic cost reduction with improved specifications in mobile computers facilitate a great leap in augmented realty games with location based systems. There is a proliferation of augmented reality games which were specifically integrating with formal education. \n",
    "Virus game is to be an pioneer attempt in this aspect in which it looks for simulation of virus spreading in a class room setup with participatory involvement of students. The students having the hand held computers are acting as game interface with simulation running in it based on the wireless connectivity between the computers. The objectivity of game is to meet as much as players having computer with wireless connection to gets its access in players computers through wireless beam, so that they have to approach the other players with computer to get the wireless beaming but without get infected by virus. So the game play dramatically changes from prime objective of obtaining the wireless beam to find how the virus is spreading, from where it spreading like basic education questions among players (Collela 2000).  \n",
    "Outbreak @ institute is participatory reality game, in which players have to role play different role of medical practitioners, technicians, and common public who came for an conference to find out bird flu in the gaming location. With underlaying dynamical model and simulation with limitations for each player role it generate the learning experience of using different tools in problem context, analyze the situation and collaboratively work together towards a problem. It intends to provide authentic experience of real problem as gaming interface (Rosenbaum et al 2007). \n",
    "Environmental detectives is a augmented reality simulation game in which players have to investigate and find a solution for a simulated problem with real location specific environment context and hand held computers where the simulation and location aware system are running. In a scenario of  environmental emergency of toxin spill over in ground water the players have to role play as environmental engineers by using different simulated tools to unravel the problem and find the solution. The challenge of this game is the players have to work with different set of data such as primary data collected by environmental samplers, secondary data by interviewing virtual characters and with other form of stored digital data to analyze and interpret (Klopfer and Squire 2008).\n",
    "Visions of Sara is a location based game with design goals of interact with real object in the surroundings, group the players into field workers and guiding players in base station. Using physical space, object in a urban setup, the story line of the game motivate the players to participate the objectives of the game and generate the different perspective of the surrounding. The game story line is to find the visionary places of Sara who was haunted by a ghost to find different story line in land marks of a historical urban setup(Ejsing-Duun 2011).    \n",
    "\n",
    "## Research questions\n",
    "\n",
    "Environmental education is requiring set of objectives to impart in learners, the augmented reality  game based on  participatory simulations and location based contextual game play could impart greater interest in participant along with giving necessary knowledge on the problem. The research questions intended to ask is what is the difference in motivation level between conventional text book, field visit based environmental education and augmented reality game based environmental education?. As necessary to address the first question the sub question such as what is the level of learning in both these methods? Will also be raised. \n",
    "\n",
    "## Game Overview\n",
    "### Scenario\n",
    "In the game environmental scientist players has to participate in a fictional scenario of  Environmental Impact Assessment processes in which they are assigned to prepare a checklist of  fauna and flora in the field which is going to be destroyed for other development purposes. The challenges faced in the normal process will be reflected in the game play in which they have to encounter different kind of data sources such as visual observation, camera trapped photographs, sound records, virtual character interview etc in simulation. These different kind of data sources as virtual object will be scattered around in the field and by seeing from the map players have to find its location and solve the challenges in the particular object to further move forward in the game. The players must work as environmental scientist to tackle the issues in converting the forest land into some other form and report their observation and suggestion as solution. \n",
    "\n",
    "### Technology\n",
    "The game will be played in Aakash tablet computers, group of maximum 6 students will get a tablet installed with game. Field map and virtual objects are the two component which enable the game play. \n",
    "The augmented reality game platform TaleBlazer will be used to develop the basic components of the game. TaleBlazer is having a requirement of GPS for embedding the location context in the game, the non availability of GPS in Aakash will be taken care by inputing the geocode in the game platform.  \n",
    "\n",
    "### Research Methods\n",
    "To address the research questions the survey method will be followed in which the effectiveness of the conventional and game based environmental education level will be assessed by the pre and post survey questionnaires. The evaluation will be carried out from the design based research on the game to make necessary corrections by playing it, from the feedbacks of nature education personals and teachers in testing phase of the game. To address the sub research questions, evaluation metrics will be developed for players participating in the game. It will focus on awareness created about nature, its interconnectedness and effectiveness in eliciting environmental information relevant to scientist through playing the game. \n",
    "\n",
    "## Reference:\n",
    "1. Colella, V. 2000. Participatory simulations: building collaborative understanding through immersive dynamic modeling. Journal of the Learning Sciences 9(4): 471–500.\n",
    "1. Klopfer, E. and K. Squire. 2008. Environmental Detectives – The Development of an Augmented Reality Platform for Environmental Simulations. Educational Technology Research and Development.\n",
    "1. Rosenbaum Eric, Eric Klopfer, and Judy Perry. 2007. “On Location Learning : Authentic Applied Science with Networked Augmented Realities.” Journal of Science, Education and Technology 16 (1): 31–45. doi:10.1007/s10956-006-9036-0.\n",
    "1. Stine Ejsing-Duun. 2011. Location Based games: from screen to street. PhD Thesis. Aarhus University.\n",
    "1. Tiensyrjä J. (2010) “panOULU Conqueror” - a Pervasive Location-based Game for the panOULU Network. Department of Electrical and Information Engineering, University of Oulu, Oulu, Finland. Master’s thesis, 105 p.\n"
   ]
  },
  {
   "cell_type": "code",
   "execution_count": null,
   "metadata": {
    "collapsed": true
   },
   "outputs": [],
   "source": []
  }
 ],
 "metadata": {
  "kernelspec": {
   "display_name": "Python 2",
   "language": "python",
   "name": "python2"
  },
  "language_info": {
   "codemirror_mode": {
    "name": "ipython",
    "version": 2
   },
   "file_extension": ".py",
   "mimetype": "text/x-python",
   "name": "python",
   "nbconvert_exporter": "python",
   "pygments_lexer": "ipython2",
   "version": "2.7.14"
  }
 },
 "nbformat": 4,
 "nbformat_minor": 2
}
