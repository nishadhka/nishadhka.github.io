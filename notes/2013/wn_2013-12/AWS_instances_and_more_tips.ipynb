{
 "cells": [
  {
   "cell_type": "markdown",
   "metadata": {
    "collapsed": true
   },
   "source": [
    "**AWS_instances_and_more_tips**\n",
    "\n",
    "1. Medium instances was created, it showed error or not getting into the ssh, due to non availability of ssh port in the security group.\n",
    "1. some command line tips to rename a file or folder `mv old_name new_name`\n",
    "* to install git `sudo apt-get install git-core`\n",
    "* postgresql reference\n",
    "[http://www.thegeekstuff.com/2009/04/15-practical-postgresql-database-adminstration-commands/]\n",
    "* to use filezilla with AWS\n",
    "[http://glidingphenomena.blogspot.in/2011/03/using-filezilla-to-login-into-amazon.html]"
   ]
  },
  {
   "cell_type": "code",
   "execution_count": null,
   "metadata": {
    "collapsed": true
   },
   "outputs": [],
   "source": []
  }
 ],
 "metadata": {
  "kernelspec": {
   "display_name": "Python 2",
   "language": "python",
   "name": "python2"
  },
  "language_info": {
   "codemirror_mode": {
    "name": "ipython",
    "version": 2
   },
   "file_extension": ".py",
   "mimetype": "text/x-python",
   "name": "python",
   "nbconvert_exporter": "python",
   "pygments_lexer": "ipython2",
   "version": "2.7.14"
  }
 },
 "nbformat": 4,
 "nbformat_minor": 2
}
