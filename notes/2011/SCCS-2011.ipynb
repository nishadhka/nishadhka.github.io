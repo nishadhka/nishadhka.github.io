{
 "cells": [
  {
   "cell_type": "markdown",
   "metadata": {},
   "source": [
    "<h1><center>Enviro-cloud: Share your perception on environment</center></h1>\n",
    "<h3><center>Nishadh.K.A., Mathew K Sebastian and Azeez.P.A.</center>\n",
    "<center>Environmental Impact Assessment Division,Sálim Ali Center for Ornithology and Natural History (SACON), Anaikatty (PO), Coimbatore – 641108.</center></h3>\n",
    "\n",
    "Availability of Environmental data is crucial in environmental management and conservation. Currently a large quantum of man power (volunteered or assigned) and sensors are deployed for procuring that. But due to its inherent variability in procurement objectives, mode of storage and publishing the data, it severely adjusts and restrains the full potential of those efforts. Hindrance in interoperability, delayed knowledge generation and informed decisions making are the some of the results of that adjustment.  Sensor web concept is considered as better way to reduce this hindrance. It basically envisages reducing the gap between physical-digital worlds. It create a widely accessible spatial data infrastructure of environment by making web of various sensors and sensor networks deployed to monitor the environment with different objectives and specification. The main aim of the present project is to develop and demonstrate a web based application, which can provide a facility to receive real time environmental data from citizen scientists possessing the most available mobile information technology. Thus it aims to create a data repository of georeferenced real time environment data collected by volunteers and to appropriately disseminate it.     \n",
    "\n",
    "Poster address a web based environmental monitoring system, which can provide a facility to receive real time environmental data from citizen scientists possessing the most available mobile information technology. It aims to involve the community participation and reduce the hindrances of delayed knowledge generation and decision making for conservation.                              \n",
    "\n",
    "\n",
    "As a pilot project the area of interest of the web application was delimited to SACON campus, Coimbatore, India. A geocoded data table of the area of interest is created using Google earth.  The web application was developed using XAMPP free and open source web server solution package.  Commercial SMSEnabler was used as SMS gateway software, which receives the SMS through a 3G modem and route it to an Apache HTTP server of XAMPP. The PHP script was executed for storing the routed SMS into a database in MySQL.   Server side script was executed to process the received geocoded comprising SMS. It was then subject to call the geocoded table imported into the database. By this SMS message comprising an occurrence of animal or event could be pointed into the map of area of interest using Google Maps Javascript API V3.\n",
    "The web application was developed using XAMPP package. Software SMSEnabler was used as SMS gateway software. PHP script was used for receive, process and store the SMS describing environment in certain format from the volunteers, which also contain geocode of the area in it. MySQL was used as storage database.  \n",
    "\n",
    "\n",
    "The project was in initial stage and currently the web application has the facility to receive the SMS and plot the received SMS message based on geo code provided in the message. The processes of implementing the sensor web enablement (SWE) standards are ongoing. \n",
    "\n",
    "At present the web applications Enviro-cloud has potential usability in retrieving the geocoded environmental observations, curate and publish. It is presumed that by integrating the SWE standards, the application can be extended as a tool for synchronized citizen scientist based environmental monitoring initiatives, early warning system in men animal conflict regions, as a platform for integrating volunteered sensors such as climate stations and personal sensor networks."
   ]
  },
  {
   "cell_type": "code",
   "execution_count": null,
   "metadata": {
    "collapsed": true
   },
   "outputs": [],
   "source": []
  }
 ],
 "metadata": {
  "kernelspec": {
   "display_name": "Python 2",
   "language": "python",
   "name": "python2"
  },
  "language_info": {
   "codemirror_mode": {
    "name": "ipython",
    "version": 2
   },
   "file_extension": ".py",
   "mimetype": "text/x-python",
   "name": "python",
   "nbconvert_exporter": "python",
   "pygments_lexer": "ipython2",
   "version": "2.7.14"
  }
 },
 "nbformat": 4,
 "nbformat_minor": 2
}
