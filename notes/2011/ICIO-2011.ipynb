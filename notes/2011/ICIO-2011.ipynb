{
 "cells": [
  {
   "cell_type": "markdown",
   "metadata": {},
   "source": [
    "<h1><center>Envirocloud: a web application for citizen science bird watching.</center></h1>\n",
    "<h3><center>Nishadh K A, Sheeba Nanjan, Mathew K Sebastian and Azeez P A<sup>1</sup></center>\n",
    "<center>Salim Ali Centre for Ornithology and Natural History, Anaikatty Post, Coimbatore-641108- Tamil Nadu, India</center></h3>\n",
    "\n",
    "**Introduction:**\n",
    "Ornithology as a field of science having a long practice in involving citizen scientist in knowledge generation (Dickinson et al 2010). Due to the immense pleasure and joy in bird watching, It always free to avail a large quantum of volunteered amateurs in its observational and monitoring research. The involvement of citizen scientist in ornithology can be traced well back to the start of 20th century from the initiatives like Christmas Bird Count (Dickinson et al 2010). Research accounts on motivation behind bird watching shows the influence of four factors such as appreciation, conservation, achievement and affiliation for motivating volunteer in bird watching endeavors (McFarlane 1994). In north America the greater part of the knowledge on distribution and abundance of birds are gathered from the observation of citizen scientist (Bonter and Hochachka 2008). The involvement of amateurs significantly developed the understanding of geographical distribution of birds in India (Urfi 2005). While comparing with other parts of world, in India the involvement of public participation in bird watching was yet to reach the breadth and the depth of the society (Shyamal 2007).  Widely available information technology tools such as mobile phones has to be networked to reach the volunteers of bird watching to improve the quantity and quality of bird observations for long term and landscape level studies (Shyamal 2007). The objective of the present study was to create a web application for bird watchers to easily store and visualize their observation through sending SMS. By this it could improve the interest of public's participation in bird watching.  \n",
    "**Materials and Methods:**\n",
    "\n",
    "As a pilot project, the area of interest of the web application was delimited to SACON campus, Coimbatore, India. A geocoded data table of the area of interest is created using Google earth.  The web application was developed using XAMPP free and open source web server solution package. FrontlineSMS was used as an SMS gateway software, which receives the SMS through a 3G modem and route it to an Apache HTTP server of XAMPP. The PHP script was executed for storing the routed SMS into a database in MySQL. Server side script was executed to process the received geocoded SMS. It was then subject to call the geocoded table imported into the database. By this, SMS message comprising an occurrence of bird or event could be pointed into the map of area of interest using Google Maps Javascript API V3. The SMS message also stored into the Relation Database Management System MySQL.\n",
    "\t\tThe location of nest sites in SACON campus was recorded using envirocloud web application by sending the observation through SMS. Nests were systematically searched in and around building. Nest position and location, nest height and status such as active and inactive nest were recorded. \n",
    "\n",
    "**Results and Discussion:**\n",
    "\n",
    "The web application envirocloud was in initial stage and currently the web application has the facility to receive the SMS and plot the received SMS message based on geo code provided in the message (Figure-1). The  received geocoded SMS comprising the location of nest sites and varies bird watching observation was shown in the figure-1. Through Envirocloud the position and diversity of nest in SACON building were studied. Total of 23 nests were recorded in three main buildings viz., office, lab, canteen and hostel (Table-1) . Nests were identified by their material and species activities. Highest number of nest were observed of Squirrel nests (Family:Sciuridae) in which 8 were inactive and 6 were active nests. Among bird species 6 Bulbul nests (Family:Pycnonotidae) and each nest of Purple-rumped Sunbird (Leptocoma zeylonica), House Sparrow (Passer domesticus) and Common Myna nest (Acridotheres tristis) were found (Table-2). Out of 6 Bulbul nests one was found in dome of the building and 5 nests were found in plant Duranta repens (Table-3). Common Myna and Squirrel nests were occupied in window ventilators of buildings. Occupation of Squirrel nests were also found in old nest boxes, dome and windows. House Sparrow nest were found in light box. Purple-rumped Sunbird nest on rope. To exactly locate the nest site navigational technique of bearing measurement was taken using the distance and angle readings from geocode of SACON field handbook. In further development of web application bearing measurement has to be combined with Javascript of Google Maps using m.cogo  command of GRASS to convert it into latitude and longitude (Miller 2009). \n",
    "\n",
    "**Acknowledgment:**\n",
    "We are thank full to Mr.A.Sreenivasan for his valuable suggestions rendered during the  designing of web application. We are thank full to Mr. Ramesh, Anbarasu, Nehru Prabakaran for sending their SMS observation.\n",
    "     \n",
    "**References:**\n",
    "1. J. Dickinson, B. Zuckerberg, and D.N. Bonter, “Citizen science as an ecological research tool: challenges and benefits,” Annual Review of Ecology, Evolution, and Systematics 41, no. 1 (2010): 150-172.\n",
    "1. B.L. McFarlane, “Specialization and motivations of birdwatchers,” Wildlife Society Bulletin 22, no.  (1994): 361–370. \n",
    "1. D.N. Bonter and W.M. Hochachka, “A citizen science approach to Ornithological research: Twenty years of watching backyard birds,” In proceedings of fourth international parterns in flight conference: thundra to tropics,(2008) 453-458.\n",
    "1. Shyamal, “Opinion: Taking Indian ornithology into the Information Age,” Indian Birds 3, no. 4 (2007): 122–137.\n",
    "1. A.J. Urfi,  M. Sen, A. Kalam, and T. Meganathan. “Counting birds in India: Methodologies and trends.” Current Science 89, no. 12 (2005): 1997–2003.\n",
    "1. E.G.Miller, “GRASS GIS manual: m.cogo”, 2009. http://grass.wodgik.malopolska.pl/manuals/html70_user/m.cogo.html.\n",
    "\n",
    "\n",
    "\n",
    "<img src=\"./img1.png\",width=600,height=800>\n",
    "<center>Figure:1 The figure showing the web application Envirocloud with geocode and visualized observations. </center>\n",
    "\n",
    "<center>Table 1.  Nests location in the buildings.</center>\n",
    "\n",
    "**Species**|**Inside**|**Outside**\n",
    ":-----:|:-----:|:-----:\n",
    "Bulbull |6| \n",
    "Myna | |1\n",
    "Sparrow | |1\n",
    "Sunbird | |1\n",
    "Squirrel | |14\n",
    "Total|6|17\n",
    "\n",
    "<center>Table 2. Nests status .</center>\n",
    "\n",
    "**Species**|**Non active**|**Active**|**Total**\n",
    ":-----:|:-----:|:-----:|:-----:\n",
    "Bulbul|6|0|6\n",
    "Myna|1|0|1\n",
    "Sparrow|0|1|1\n",
    "Sunbird|0|1|1\n",
    "Squirrel|8|6|14\n",
    "Total| | |23\n",
    "\n",
    "<center>Table 3. Nest location and species preference.</center>\n",
    "\n",
    "**Nest location**|**Bulbul**|**Sparrow**|**Purple-rumped Sun bird **|**Myna **|**Squirrel **\n",
    ":-----:|:-----:|:-----:|:-----:|:-----:|:-----:\n",
    "Nest box|-|-|-|-|2\n",
    "Closed window|-|-|-|-|1\n",
    "Dome|1|-|-|-|1\n",
    "Light box|-|1|-|-|-\n",
    "Rope|-|-|1|-|-\n",
    "Shrub|5|-|-|-|-\n",
    "Ventilator window|-|-|-|1|10\n",
    "\n",
    "\n"
   ]
  },
  {
   "cell_type": "code",
   "execution_count": null,
   "metadata": {
    "collapsed": true
   },
   "outputs": [],
   "source": []
  }
 ],
 "metadata": {
  "kernelspec": {
   "display_name": "Python 2",
   "language": "python",
   "name": "python2"
  },
  "language_info": {
   "codemirror_mode": {
    "name": "ipython",
    "version": 2
   },
   "file_extension": ".py",
   "mimetype": "text/x-python",
   "name": "python",
   "nbconvert_exporter": "python",
   "pygments_lexer": "ipython2",
   "version": "2.7.14"
  }
 },
 "nbformat": 4,
 "nbformat_minor": 2
}
