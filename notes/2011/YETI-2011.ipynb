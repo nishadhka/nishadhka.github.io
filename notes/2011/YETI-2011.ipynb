{
 "cells": [
  {
   "cell_type": "markdown",
   "metadata": {},
   "source": [
    "<h1><center>Envirocloud: community environmental monitoring system </center></h1>\n",
    "<h3><center>K.A. Nishadh, M.K. Sebastian and P.A. Azeez</center>\n",
    "<center>Environmental Impact Assessment Division,Sálim Ali Center for Ornithology and Natural History (SACON), Anaikatty (PO), Coimbatore – 641108.</center></h3>\n",
    "\n",
    "\n",
    "Availability of environmental data is crucial in environmental management and conservation. Currently a large quantum of man power (volunteered or assigned) and sensors are deployed for procuring that. But due to its inherent variability in procurement objectives, mode of storage and data publishing, it severely adjusts and restrains the full potential of those efforts. Hindrance in interoperability, delayed knowledge generation and informed decision-making are some of the results of that adjustment.  Sensor web concept is considered as better way to reduce this hindrance. It basically envisages reducing the gap between physical-digital worlds. It creates a widely accessible spatial data infrastructure of environment by making web of various sensors and sensor networks deployed to monitor the environment with different objectives and specification. The main aim of the present project is to develop a web-based application, which can provide a facility to receive real time environmental data from citizen scientists possessing the most available mobile information technology. Thus it aims to create a data repository of real time environment data collected by volunteers.\n",
    "\n",
    "The web application was developed using Ushahidi as Crowd sourcing platform. Software FrontlineSMS was used as SMS gateway software. PHP script was used for receive, process and store the SMS describing environment in certain format from the volunteers, which also contain geocode of the area in it. Google Maps Javascript API V3 was used to spatial visualization of the received information.\n",
    "\n",
    "At present Envirocloud has potential usability in retrieving, curating and publishing the geocoded environmental observations. It is presumed that by integrating the SWE standards, the application can be extended as a tool for synchronized citizen scientist based environmental monitoring initiatives, early warning system in man-animal conflict regions, as a platform for integrating volunteered sensors such as climate stations and personal mobile sensors.\n"
   ]
  },
  {
   "cell_type": "code",
   "execution_count": null,
   "metadata": {
    "collapsed": true
   },
   "outputs": [],
   "source": []
  }
 ],
 "metadata": {
  "kernelspec": {
   "display_name": "Python 2",
   "language": "python",
   "name": "python2"
  },
  "language_info": {
   "codemirror_mode": {
    "name": "ipython",
    "version": 2
   },
   "file_extension": ".py",
   "mimetype": "text/x-python",
   "name": "python",
   "nbconvert_exporter": "python",
   "pygments_lexer": "ipython2",
   "version": "2.7.14"
  }
 },
 "nbformat": 4,
 "nbformat_minor": 2
}
