{
 "cells": [
  {
   "cell_type": "markdown",
   "metadata": {},
   "source": [
    "<h1><center>Tree Hole Aquatic Habitat a Bonsai Ecosystem.</center></h1>\n",
    "<h3><center>K. S. Anoop Das<sup>1</sup>,<sup>2</sup> and K.A. Nishadh<sup>2</sup>,<sup>3</sup></center>\n",
    "<center>1-Department of Zoology and Centre for Conservation Ecology, M.E.S Mampad College, Malappuram, Kerala\n",
    "676 542, India</center>\n",
    "<center>2-Wildlife Research and Conservation Trust, Anupallavi, Chungathara, Malappuram, Kerala 679334, India</center>\n",
    "<center>3-Environmental Impact Assessment Division,Sálim Ali Center for Ornithology and Natural History (SACON), Anaikatty (PO), Coimbatore – 641108.</center></h3>\n",
    "\n",
    "Experiments are essential part in ecological research. It gives greater insight about the influence of anthropogenic perturbations on ecosystem processes and response towards the impact1. Thus it gives essential insights into device management options, to use or test conservation initiatives and indicate the state of sustainability and revival of policy regulations and intervention measures. Complexity of ecosystem, its uncertainty and dynamic functionality largely hinders experimental investigation in ecology. It requires models which provides tractability, generality and are realistic to test the theory and hypothesis of ecological process. Models idealizing and simplifing the objective of inquiry and analogize with more familiar aspect for simple rationalization and interpretation. Models such as physical toy models in engineering, particle accelerator in physics and fruit flies in biology are basically providing those characteristics to observe and experiment the context of consideration for in-depth comprehension and generalization. Natural model ecosystems such as tree hole aquatic habitat provide these features and are widely used in ecosystem experiments. \n",
    "\t\t\tTree hole aquatic habitats formed by stagnation of rain water in tree holes reduces the difficulties of experimental ecology by acting as simple model of ecosystem. These habitats provide methodological advantages as compared to larger and complex ecosystems in terms of short community colonization-generation period, controllable energy source, definable ecosystem boundary and comparable food web. Similar to the ‘bonsai tree’, aquatic ecosystem in tree holes are confined within the boundaries of  tree hole,  the decomposition of fallen leaf litter defines the physio chemical characteristics, and community composition, wherein the system functionality is simplified. This Bonsai ecosystem is replicable with artificial analogues such as plastic containers by creating the habitat characteristics by maintaining in natural conditions, stagnating rain water and supplying litter resources. The heterotrophic community thus formed in these habitats provides advantages of tractability, attainment of natural realism and generalization of results- the two main characteristics needed for experimental model ecosystems. \n",
    "\t\tTree hole aquatic habitats are important model systems because of their position among extremes of ecological experimental tools, laboratory microcosms and whole ecosystem experiments (Figure 1).  \n",
    "\n",
    "Figure 1:  \n",
    "\n",
    "<img src=\"./fig1.png\",width=600,height=800>\n",
    "\n",
    "<center>Figure-1. The balance of tractability and generalization in tree hole aquatic habitat. </center>\n",
    "\n",
    "Laboratory microcosm has the limitation of generality since it oversimplifies the ecosystem and whole ecosystem experiments have the lacunae of tractability since it maintains the complexity of natural ecosystem2. These limitations are reduced by characteristics of tree hole aquatic habitats as they are discrete, having naturally colonized simplified community, being spatially distributed and in having long evolutionary history. The simple self contained communities in tree holes gives an effortless manipulation of habitat to control structural components, energy regime and community characteristics for ecological experiments. The variety of questions related to biodiversity - ecosystem functionality, dynamic constraints, affects of disturbance, influence of productivity on natural communities etc may be addressed by experiments in tree holes. \n",
    "\t\tRelationship of biodiversity to ecosystem functionality and productivity is explained by two principle mechanisms namely ‘complementarity mechanism’ and ‘selection mechanism’3. Species rich systems use more resources and are more productive because each species uses slightly different resources and overall species richness contributes to productivity, as argued by  ‘complementarity mechanism’. ‘Selection mechanism’ explains that there will be variability between each species to utilize resource and certain species is more productive than others, thus the productivity is average of each species contribution to productivity.  It is assumed that both these mechanisms are inter-playing to improve ecosystem functionality4. Amidst this opposing hypothesis, the influence of tree hole aquatic habitat bacterial diversity to ecosystem functioning was experimentally studied. 5. The result shows that respiration- an ecosystem service- showed a consistent decelerating relationship with increase in species richness. It proves that synergistic influence of bacterial species richness and composition is more important than selection mechanism for ecosystem functionality in the experimental bacterial community. \n",
    "\t\tThe process that structure food web in a community is explained by hypothesis availability of energy and influence of dynamic constrains6. Dynamic constraints explain that the food web in a habitat is the resultant of average environmental predictability of the area compared with other localities.  On the other hand availability of energy hypothesis explains that food web in a habitat is determined by the available energy source. The influence of dynamic constraints on food web structuring was demonstrated by using artificial analogues of tree hole aquatic habitat7. In experimental container habitat the temporal food web dynamics was significantly lowered during reduced rainfall and the lowering was most pronounced in most productive habitat, while compared to low productive habitat. This gives experimental evidence for dynamic constraint that environmental predictability depends more on the local food web structure than availability of energy. \n",
    "\t\tThe knowledge on influence of anthropogenic perturbations on ecosystem is imperative to devise management options and conservation. Tree hole aquatic habitat has many advantages to use for experiments devising to assess the impact8. Those experiments can explain the direct or indirect effect of influence on multi trophic level with apparent biotic and abiotic dynamics in natural ecosystem. Experiments carried out to assess the acidic deposition effect on tree hole communities shows that the biota of tree hole habitat is differentially affected by acidic deposition in terms of changes in ionic balance of the water 9,10.  It also showed that low pH influenced the growth of certain key inhabitants in tree hole with relation to resource base. It has complex impacts on community interactions by affecting the processing chain commensalisms occur in tree hole aquatic habitat. It proposed the usability of tree hole habitat as an bio-indicator of forest ecosystem towards acidic deposition. \n",
    "\t\tOne of the widely accepted explanations for increase in species richness with productivity is “more individual hypothesis”. It explains that more productivity results in higher abundance and species richness increases as a function of abundance. This hypothesis was tested using tree hole communities and found that insufficient to explain the processes11. The experiment shows that though the tree hole habitat harbor more species according to productivity but not in abundance. The results conclude that the process of species richness according to productivity is complex and the explanation prevailing is failed to consider the colonization, extinction pattern and size variability of inhabitants in the habitat. \n",
    "        \n",
    "## Reference:\n",
    "1. Carpenter, S. R., Cole, J. J., Essington, T. E., Hodgson, J. R., Houser, J. N., Kitchell, J. F. and Pace, M. L., Evaluating alternative explanations in ecosystem experiments.  Ecosystems, 1998, 1, 335-344.\n",
    "2. Srivastava, D. S., Kolasa, J., Bengtsson, J., Gonzalez, A., Lawler, S. P., Miller, T. E., Munguia, P., Romanuk, T., Schneider, D. C. and Trzcinski, M. K. , Are natural microcosms useful model systems for ecology?.  Trends Eco. Evol., 2004, 19,379-384.\n",
    "3. Loreau, M. and Hector, A., Partitioning selection and complementarity in biodiversity experiments.  Nature, 2001, 412,. \n",
    "4. Loreau, M., Biodiversity and ecosystem functioning: recent theoretical advances.   Oikos, 2000, 91,3-17.\n",
    "5. Bell, T., Newman, J. A., Silverman, B. W., Turner, S. L. and Lilley, A. K. , The contribution of species richness and composition to bacterial services.  Nature, 2005, 25, .\n",
    "6. Pimm, S. L., Lawton, J. H. and Cohen, J. E. , Food web patterns and their consequences.  Nature, 1991, 350, 669-674.\n",
    "7. Jenkins, B., Kitching, R. L. and Pimm, S. L. , Productivity, disturbance and food web structure at a local spatial scale in experimental container habitats.  Oikos, 1992, 65,249-255."
   ]
  },
  {
   "cell_type": "code",
   "execution_count": null,
   "metadata": {
    "collapsed": true
   },
   "outputs": [],
   "source": []
  }
 ],
 "metadata": {
  "kernelspec": {
   "display_name": "Python 2",
   "language": "python",
   "name": "python2"
  },
  "language_info": {
   "codemirror_mode": {
    "name": "ipython",
    "version": 2
   },
   "file_extension": ".py",
   "mimetype": "text/x-python",
   "name": "python",
   "nbconvert_exporter": "python",
   "pygments_lexer": "ipython2",
   "version": "2.7.14"
  },
  "latex_envs": {
   "LaTeX_envs_menu_present": true,
   "autocomplete": true,
   "bibliofile": "biblio.bib",
   "cite_by": "apalike",
   "current_citInitial": 1,
   "eqLabelWithNumbers": true,
   "eqNumInitial": 1,
   "hotkeys": {
    "equation": "Ctrl-E",
    "itemize": "Ctrl-I"
   },
   "labels_anchors": false,
   "latex_user_defs": false,
   "report_style_numbering": false,
   "user_envs_cfg": false
  }
 },
 "nbformat": 4,
 "nbformat_minor": 2
}
