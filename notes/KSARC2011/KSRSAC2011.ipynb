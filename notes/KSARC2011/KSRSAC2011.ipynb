{
 "cells": [
  {
   "cell_type": "markdown",
   "metadata": {},
   "source": [
    "“Envirocloud: Lending voice for urban trees”, a model for adaptive management of urban social ecosystem.\n",
    "Nishadh.K.A., P.Balasubramanian and Azeez .P.A.\n",
    "Sálim Ali Centre for Ornithology and Natural History,\n",
    "Anaikatty PO, Coimbatore -641108, Tamil Nadu\n",
    "\n",
    "Abstract:Large-scale development in mobile communication and computation technology provides immense potential in collecting and curetting environmental observations from sensors as well as citizen scientist in India. Volunteered geoinformation collected through SMS, and other widely available communication means will provide basic data for environmental research. Moreover, the community involvement in this endeavor will provide a means for wide social awareness and participation in local environmental management and conservation. Community involvement can play a very essential role in the process of better comprehension of social ecosystem and informed management and conservation initiatives. Models of community participation, open and crowd source initiatives backed by interactive internet, web 2.0 can provide the workable community involvement model for the above said restrain process. The present paper objectvise the application of those widely practiced models for improving environmental awareness among users of public transportation system by providing location based information service about scheduled reaching of bus in particular bus stop and in turn requesting their contribution in environmental observation. At large, by doing so the model envisages to create a platform for community involvement for environmental awareness and increase the usability of low ecological foot print transportation system. This paper presents a model for adaptive management of urban social ecosystem by inculcating community involvement and economic viability in it by utilizing the communication and computation technology.\n",
    "Keywords: Envirocloud, Real time monitoring, Adaptation, Sustainability.\n",
    "\n",
    "Introduction: \n",
    "The ever increasing per capita consumption of key natural resource has considerable pressure on its conservation, management and at largely hampers its sustainability. Past reductionist attempts on natural resource management mostly resulted in failure gives rise to a strong realization that the  need of paradigm shift in conservation and natural resource management. Ecosystem approach is widely considered as the culmination of that shift (Holling 2001). Inculcating adaptive system characteristic in social ecosystem to withstand disturbances while still retaining its fundamental structure, function, and internal feedback is to be the nearly achievable aim of natural resource management ( Jasanoff et al 1997). This necessitates need of system level understanding of local social ecosystem, harmonization of conflict between social ecosystem and  search for balance between consumption and conservation of natural resources for sustainable development. \n",
    "Since sustainable development is all about creating opportunity for social ecosystem to make it adaptable to forces of change(Jorgensen and Bendoricchio 2001). It requires close collaboration among community and scientific establishments, Interdisciplinary approach and competences. Grouping the people together from different disciplines and social backgrounds is became essential thing in this regard. It requires the need to study social ecosystem together, essential for understand dynamic processes that lead to collapse, adaptation or recovery of the same system( Norris et al 2008). Along with that, It has to be simple and dynamic as related to the situation by connecting with varies policies, actions taken in social sphere and evaluating the pluralistic future vision. The uncertainty in the ecosystem has to be aptly considered by generating Pluralistic maps (models) of same phenomenon. To make that kind of models it need to have as much observation as possible on functioning of social ecosystem for generating dynamic perception, social consensus and adaptive strategy (Gadgil et al., 2003, Okolloh 2009).\n",
    "Creation of  widely accessible spatial data infrastructure of local environment will be a way around for this by making web of various sensors and sensor networks deployed to monitor the environment with different objectives and specification.Localized contextual knowledge is essential for co adaptive management (Gadgil et al., 2003). It requires the essential need of grouping diverse source of spatial data about a locality to make it an interoperable and to provide holistic understanding of the social ecosystem dynamics. The information thus generated has to be shared in such a way that to create alliances between scales and organization of social ecological system. Harnessing the crowd sourced information will be a better way to collect local information in the scenario of prevailing uncertainty other than sensor data. Because it gives pluralistic view, community involvement and thus increases the community trust on the whole system encapsulated for generating information (Meinke 2006). Envirocloud using those models aim to be a information infrastructure to be able to crowd source environmental observation from community as well as sensor web varied type of distributed sensors to give holistic information about the dynamism of the local social ecosystem and to provide essential information for implement adaptive characteristics in it .\n",
    "It hopes that community by social learning using those information can appreciate the functionality, interdependence of social ecosystem,  its complexity, dynamism and uncertainty (Meinke 2006). Thus the community can acquire customized adaptive management measures by innovate, experiment and adapt to the situation given by the comprehension of current social ecological system state. This necessitates the requirement of credible, usable, dynamic, open-access information about functioning and state of social ecosystem. Recent developments in information technology especially in personal communication and computational techniques provide the needed facility to procure those information. The infrastructure thus created reflects the analogy of cloud and rain event, where the adaptation can be seen as the shower of rain and events happening for that such as innovations as lightning, experiments as turbulence and cloud formation as predicisance of adaptation.\n",
    "This paper presents a model for adaptive management of certain components of urban social ecosystem by inculcating community involvement and economic viability in it. It also discuss the postulates of environmental balance theory for  interlinking the components, ensure economic viability of the model. This paper’s objective was to en-light the interlinked adaptive management of urban forestry and public transportation system in Coimbatore city, third largest urban conglomerate in the state of Tamil Nadu. Accordingly this paper was structured by explaining the components of that model,  its inter linkages and about ways to sustain it.\n",
    "Model premise:\n",
    "The model looks for the dynamic information procurement about two interrelated components of Coimbatore regional community that is its urban forestry and public transport system. The adaptive management of both components can be achieved by generating community concern on urban forestry and real time information about public transport system(city bus fleets). In Indian scenario the former two components are very closely interrelated. Road widening as a measure of rapid development pose considerable destruction of trees culturally planted in the side of roads. Whereas the dependency on personal transportation increases because of not so easy public transportation (lack of setup for efficient management and ever increasing petrol cost makes public transportation system a non profitable business) puts the circular strain on necessity of widening the roads and thus destruction of urban forestry in roads\n",
    "Coimbatore is one of the high vehicles to population ratio city in country. High density of personal vehicles in narrow roads exerts pressure on widening of roads and cutting of road side trees. Within a last couple of years more than 1500 road side trees are chopped for road widening of main artillery roads of Coimbatore. City public buses cater the need of urban transportation, around 90% of services are provided by government owned Tamil Nadu State Transport Corporation (TNSTC) and remaining by private players. Services are provided in 228 different routes by a total of 506 buses with range distance coverage of 7-30km. The bus stops and modern waiting sheds are available in the city limits with minimal distance range of 0.5-1 km and estimated number of 750-1000 unique bus waiting sheds.\n",
    "Model Components:\n",
    "The model comprised of urban forestry, public transportation system, real time air pollution monitoring and environmental balance index generation. In which former two acts as participating variable component in the model. The figure 1 depict the components of the model."
   ]
  }
 ],
 "metadata": {
  "kernelspec": {
   "display_name": "Python 2",
   "language": "python",
   "name": "python2"
  },
  "language_info": {
   "codemirror_mode": {
    "name": "ipython",
    "version": 2
   },
   "file_extension": ".py",
   "mimetype": "text/x-python",
   "name": "python",
   "nbconvert_exporter": "python",
   "pygments_lexer": "ipython2",
   "version": "2.7.14"
  }
 },
 "nbformat": 4,
 "nbformat_minor": 2
}
