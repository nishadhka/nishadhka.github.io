{
 "cells": [
  {
   "cell_type": "markdown",
   "metadata": {
    "collapsed": true
   },
   "source": [
    "### Real time particulate matter monitor development\n",
    "\n",
    "1. basics of nephelometer, Dylos\n",
    "1. Comparision of dylos with equvalance method(Bangaluru paper)\n",
    "1. Data conversion methods\n",
    "  1. Indepndant study\n",
    "\t1. Northcroisss et al\n",
    "  1. As per the forum answers\n",
    "1. Clibraation statiscal meaasures(based on thesis, atleasst 2)\n",
    "\t1. linear regression\n",
    "\t1. PCA\n",
    "1. Role of other low cost sensor in calibration \n",
    "1. Piolt study, design, power\n",
    "1. field study, mobile and stationary, design "
   ]
  },
  {
   "cell_type": "code",
   "execution_count": null,
   "metadata": {
    "collapsed": true
   },
   "outputs": [],
   "source": []
  }
 ],
 "metadata": {
  "kernelspec": {
   "display_name": "Python 2",
   "language": "python",
   "name": "python2"
  },
  "language_info": {
   "codemirror_mode": {
    "name": "ipython",
    "version": 2
   },
   "file_extension": ".py",
   "mimetype": "text/x-python",
   "name": "python",
   "nbconvert_exporter": "python",
   "pygments_lexer": "ipython2",
   "version": "2.7.14"
  }
 },
 "nbformat": 4,
 "nbformat_minor": 2
}
