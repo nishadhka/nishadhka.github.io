{
 "cells": [
  {
   "cell_type": "markdown",
   "metadata": {
    "collapsed": true
   },
   "source": [
    "**Udev_rules_for_USB's_attached_to_RPi**\n",
    "\n",
    "1. it seems the `/dev/tty*` address for the attached USB is changing intermittently, giving a permanent rules name for each device will be the work around. Based on this  http://hintshop.ludvig.co.nz/show/persistent-names-usb-serial-devices/\n",
    "1. So the udev rules for cocemsd, setup is to edit `/etc/udev/rules.d`, with file name `90-phone.rules`, with this contents\n",
    "```bash\n",
    "KERNEL==\"ttyUSB*\", ATTRS{idVendor}==\"12d1\", ATTRS{idProduct}==\"1436\", NAME=\"phone\", MODE=\"0666\",SYMLINK+=\"phone\"\n",
    "KERNEL==\"ttyUSB*\", ATTRS{idVendor}==\"067b\", ATTRS{idProduct}==\"2303\", NAME=\"dylos\", MODE=\"0666\",SYMLINK+=\"dylos\"\n",
    "```"
   ]
  },
  {
   "cell_type": "code",
   "execution_count": null,
   "metadata": {
    "collapsed": true
   },
   "outputs": [],
   "source": []
  }
 ],
 "metadata": {
  "kernelspec": {
   "display_name": "Python 2",
   "language": "python",
   "name": "python2"
  },
  "language_info": {
   "codemirror_mode": {
    "name": "ipython",
    "version": 2
   },
   "file_extension": ".py",
   "mimetype": "text/x-python",
   "name": "python",
   "nbconvert_exporter": "python",
   "pygments_lexer": "ipython2",
   "version": "2.7.14"
  }
 },
 "nbformat": 4,
 "nbformat_minor": 2
}
