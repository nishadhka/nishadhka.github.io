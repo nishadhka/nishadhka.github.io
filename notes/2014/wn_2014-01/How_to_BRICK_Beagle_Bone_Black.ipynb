{
 "cells": [
  {
   "cell_type": "markdown",
   "metadata": {
    "collapsed": true
   },
   "source": [
    "**How_to_BRICK_Beagle_Bone_Black**\n",
    "\n",
    "1. apt-get update and upgrade make BBB's internal hard disk to crash, to solve this is to make a recovery SD card and rewrite the hard disk\n",
    "1. After long searching for making the SD card finally followed this  http://www.armhf.com/index.php/getting-started-with-ubuntu-img-file/\n",
    "1. Installed the xz in ubuntu lap `apt-get install xz-utils`\n",
    "1. then viewed the attached sd card device name by `ls /dev/sd*`\n",
    "1. given it as sdb so run the xz, followed this http://downloads.angstrom-distribution.org/demo/beaglebone/\n",
    "```bash\n",
    "xz -dkc Angstrom-Cloud9-IDE-GNOME-eglibc-ipk-v2012.12-beaglebone-2013.09.05.img.xz > /dev/sdb\n",
    "```\n",
    "1. after some time exit the xz then inserted the sd card and booted the beagle on from sd card now following this http://hipstercircuits.com/unbrick-beaglebone-black-without-erasing-emmc/\n",
    "```bash\n",
    "ssh root@192.168.7.2\n",
    "```\n",
    "1. gives a problem of denial so followed this http://stackoverflow.com/questions/19494619/how-to-interact-with-two-beaglebone-black-connected-to-one-computer made a file `.ssh/config`\n",
    "1. with this content\n",
    "```bash\n",
    "Host 192.168.7.* UserKnownHostsFile /dev/null StrictHostKeyChecking no\n",
    "```\n",
    "1. now ssh is working and followed again this http://hipstercircuits.com/unbrick-beaglebone-black-without-erasing-emmc/\n",
    "1. to mount the internal hard disk with SD card running BBB\n",
    "```bash\n",
    "mkdir /mnt/microSD mount /dev/mmcblk0p2 /mnt/microSD\n",
    "cp -r /mnt/microSD/lib/modules/3.8.13-00611-gd1fc8a7-dirty/ /media/Angstrom/lib/modules/\n",
    "```\n",
    "1. shutdown now but in vein, so now plan is to copy all the files in / and copy it in mms that is inside angstrom folder and reboot it without the sd card, that also didn't turned up to correct the problem.\n",
    "\n",
    "1. Reference to solve bricking\n",
    "    1. https://pixhawk.ethz.ch/tutorials/omap/boot_from_sd_sdhc \n",
    "    1. http://eavise.wikispaces.com/Angstrom+installation \n",
    "    1. http://www.angstrom-distribution.org/demo/beagleboard/ \n",
    "    1. http://www.angstrom-distribution.org/demo/beagleboard/ http://elinux.org/BeagleBoardBeginners \n",
    "    1. http://www.reuk.co.uk/wordpress/bricking-a-beaglebone-black/ \n",
    "    1. http://downloads.angstrom-distribution.org/demo/beaglebone/ \n",
    "    1. http://downloads.angstrom-distribution.org/demo/beaglebone/ \n",
    "    1. http://hipstercircuits.com/unbrick-beaglebone-black-without-erasing-emmc/ \n",
    "    1. http://elinux.org/BeagleBoardRecovery"
   ]
  },
  {
   "cell_type": "code",
   "execution_count": null,
   "metadata": {
    "collapsed": true
   },
   "outputs": [],
   "source": []
  }
 ],
 "metadata": {
  "kernelspec": {
   "display_name": "Python 2",
   "language": "python",
   "name": "python2"
  },
  "language_info": {
   "codemirror_mode": {
    "name": "ipython",
    "version": 2
   },
   "file_extension": ".py",
   "mimetype": "text/x-python",
   "name": "python",
   "nbconvert_exporter": "python",
   "pygments_lexer": "ipython2",
   "version": "2.7.14"
  }
 },
 "nbformat": 4,
 "nbformat_minor": 2
}
