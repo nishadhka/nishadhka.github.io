{
 "cells": [
  {
   "cell_type": "markdown",
   "metadata": {
    "collapsed": true
   },
   "source": [
    "**Secure_ubuntu_SERVER_12.04**\n",
    "\n",
    "* For key pair login and removing the password based on http://ubuntuforums.org/archive/index.php/t-30709.html http://blog.nas-admin.org/?p=63 and http://www.thefanclub.co.za/how-to/how-install-psad-intrusion-detection-ubuntu-1204-lts-server following first one\n",
    "```bash\n",
    "cd .ssh/ \n",
    "ssh-keygen -t dsa \n",
    "scp id_dsa.pub serverusername@IP:./id_dsa.pub \n",
    "ssh into server \n",
    "cd .ssh \n",
    "touch authorized_keys2\n",
    "chmod 600 authorized_keys2 \n",
    "cat ../id_dsa.pub >> authorized_keys2 \n",
    "rm ../id_dsa.pub\n",
    "``` \n",
    "1. edited the /etc/ssh/sshd_config for \n",
    "```\n",
    "#PasswordAuthentication yes >>> \n",
    "PasswordAuthentication no \n",
    "PermitRootLogin yes >>> \n",
    "PermitRootLogin no >>> \n",
    "DebianBanner no\n",
    "```\n",
    "1. have to restart the ssh `sudo /etc/init.d/ssh restart` now with out key file the permission will be denied\n",
    "1. following this steps for security  http://www.thefanclub.co.za/how-to/how-secure-ubuntu-1204-lts-server-part-1-basics\n",
    "```\n",
    "Firewall - UFW \n",
    "sudo apt-get install ufw \n",
    "sudo ufw allow ssh \n",
    "sudo ufw allow http \n",
    "sudo ufw enable \n",
    "sudo ufw status verbose\n",
    "```\n",
    "1. to make into static ip address following  http://lani78.wordpress.com/2012/07/19/change-to-static-ip-on-the-ubuntu-precise-pangolin-server/ for a error I made a changing of ip address of public what ISP provider has given, it is wrong, given the current situation of sever display problem it was a disastrous discretion. by doing this the ssh access only the final method to access the server is disrupted, it was rectified by running the live Ubuntu server cd and accessed the hard drive from that using a given shell script.\n",
    "1. Instead of this erroneous ip address specifying the port forwarding under the router has to be done to make the server truly Internet accessible. for this the NAT option in router selected inside that there virtual server has to be access in which the port forwarding option has to mention the static ip address of the server computer which is given has to mention for web server by 80 and ssh by 22 port.\n",
    "1. based on this http://askubuntu.com/questions/299572/making-websites-visible-to-outside-networks-with-ubuntu-server-12-04"
   ]
  },
  {
   "cell_type": "code",
   "execution_count": null,
   "metadata": {
    "collapsed": true
   },
   "outputs": [],
   "source": []
  }
 ],
 "metadata": {
  "kernelspec": {
   "display_name": "Python 2",
   "language": "python",
   "name": "python2"
  },
  "language_info": {
   "codemirror_mode": {
    "name": "ipython",
    "version": 2
   },
   "file_extension": ".py",
   "mimetype": "text/x-python",
   "name": "python",
   "nbconvert_exporter": "python",
   "pygments_lexer": "ipython2",
   "version": "2.7.14"
  }
 },
 "nbformat": 4,
 "nbformat_minor": 2
}
