{
 "cells": [
  {
   "cell_type": "markdown",
   "metadata": {
    "collapsed": true
   },
   "source": [
    "**raspberry_pi_errors**\n",
    "1. with GSM data caard and serial to usb connected to USB hub, after connecting GSM data card, few minutes after the ssh is getting disconnected\n",
    "1. After dismantelling the RPi with RTC, clock time become erroneous, so it was re connected with lots of reboot and set the time mannually using the command\n",
    "```\n",
    "sudo hwclock --set --date \"01/16/2014 08:33:01\"\n",
    "```\n",
    "1. to set the computer time using https://wiki.debian.org/DateTime#Set_the_time_manually\n",
    "```bash\n",
    "date --set 1998-11-02 \n",
    "date --set 21:08:00\n",
    "```\n",
    "1. Now RPI is connected with data card, with out connecting seriel to USB wire, now the RPi is working without problem.\n",
    "1. data card is checked with sms also, so now connecting the seriel usb to RPi, by connecting the USB seriel second to data card, not showing any problem. create sqite data base\n",
    "```\n",
    "sudo apt-get install sqlite3 libsqlite3-dev\n",
    "sqlite3 mydatabase.db\n",
    "CREATE TABLE data3 (SNo  INTEGER PRIMARY KEY, data VARCHAR(100));\n",
    "```"
   ]
  },
  {
   "cell_type": "code",
   "execution_count": null,
   "metadata": {
    "collapsed": true
   },
   "outputs": [],
   "source": []
  }
 ],
 "metadata": {
  "kernelspec": {
   "display_name": "Python 2",
   "language": "python",
   "name": "python2"
  },
  "language_info": {
   "codemirror_mode": {
    "name": "ipython",
    "version": 2
   },
   "file_extension": ".py",
   "mimetype": "text/x-python",
   "name": "python",
   "nbconvert_exporter": "python",
   "pygments_lexer": "ipython2",
   "version": "2.7.14"
  }
 },
 "nbformat": 4,
 "nbformat_minor": 2
}
