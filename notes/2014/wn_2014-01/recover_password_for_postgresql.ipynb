{
 "cells": [
  {
   "cell_type": "markdown",
   "metadata": {
    "collapsed": true
   },
   "source": [
    "**recover_password_for_postgresql**\n",
    "\n",
    "based on \n",
    "http://scratching.psybermonkey.net/2009/06/postgresql-how-to-reset-user-name.html\n",
    "\n",
    "1. sudo nano /etc/postgresql/9.1/main/pg_hba.conf\n",
    "1. change |local   all         postgres    md5| to | local   all         postgres     trust|\n",
    "1. sudo service postgresql restart\n",
    "1. now enter into the postgresql using \n",
    "    psql -U postgres\n",
    "1. ALTER USER postgres with password 'new password';\n",
    "1. then again change the pg_hba.conf as  earlier and restart the postgresql for invoking the password protection"
   ]
  },
  {
   "cell_type": "code",
   "execution_count": null,
   "metadata": {
    "collapsed": true
   },
   "outputs": [],
   "source": []
  }
 ],
 "metadata": {
  "kernelspec": {
   "display_name": "Python 2",
   "language": "python",
   "name": "python2"
  },
  "language_info": {
   "codemirror_mode": {
    "name": "ipython",
    "version": 2
   },
   "file_extension": ".py",
   "mimetype": "text/x-python",
   "name": "python",
   "nbconvert_exporter": "python",
   "pygments_lexer": "ipython2",
   "version": "2.7.14"
  }
 },
 "nbformat": 4,
 "nbformat_minor": 2
}
