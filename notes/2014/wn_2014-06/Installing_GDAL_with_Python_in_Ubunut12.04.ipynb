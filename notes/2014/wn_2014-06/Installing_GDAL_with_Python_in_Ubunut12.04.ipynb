{
 "cells": [
  {
   "cell_type": "markdown",
   "metadata": {
    "collapsed": true
   },
   "source": [
    "## Installing_GDAL_with_Python\n",
    "- to make geotiff file from wrf output, python script requiers gdal such as for this ```from osgeo import gdal and from osgeo import osr```\n",
    "- to install it in Ubuntu 12.04, it reuiers to install gdal-bin, libgdal1 and ptthon-gdal, after installing running python and importing crahes \n",
    "  python with this message ```segmentation error(core dumped)```\n",
    "- first it was detected of version difference, so installed with deb packages avaolable for the version for 1.9.2\n",
    "- this alos not removed this eroro\n",
    "- another attmept made is follwoign [this](http://gis.stackexchange.com/questions/21728/how-can-i-install-gdal-1-9-0-on-my-linux-ubuntu-server-10-04)\n",
    "  but the routine command for compiiling from source I used is a problematic(explained [here](http://stackoverflow.com/questions/1439950/whats-the-opposite-of-make-install-ie-how-do-you-uninstall-a-library-in-lin)) in long run ```sudo make install```, just install the file in where ever it \n",
    "  like and removing the package is virtually iporssible, instaead it is suggested that to run ```sudo checkinstall```\n",
    "- to remove a packae in ubuntu use ```dpkg -s <packagename>```, to view the installed packages in python ```pip freeze```\n",
    "- so with all this step also no devlopement, importing gdal crashes python\n",
    "- for a resuce tryed with Anaconda, a distributin of python with all packages for sicentific computing\n",
    "- Anaconda can be downaoded as .sh file and installed in linux by ```bash file.sh```, it asks for licencane, set to envirotnma variable and location of the anacond directory\n",
    "- based on some old page tryed with virtualenv with anaconda and tryed to isntlle gdal from its normal source but it gives error of same nature,   and it not reactivatiing the virtuaenv in ubunutu also\n",
    "- instead followed [this](https://groups.google.com/a/continuum.io/forum/#!topic/anaconda/ba1YzY5ENr8) and installed gdal with anaconda simplly by \n",
    "  ```conda install gdal```, it just installed gdal and importing works with out any error.\n",
    "- like wise netcdf4 also installed ```conda install netcdf4``` and it works the wrfncxnj.py appliation, so wrfoutput python routine just works outofbox with Anaconda! site to refer [1](http://www.continuum.io/blog/conda), [2](http://conda.pydata.org/docs/)"
   ]
  },
  {
   "cell_type": "code",
   "execution_count": null,
   "metadata": {
    "collapsed": true
   },
   "outputs": [],
   "source": []
  }
 ],
 "metadata": {
  "kernelspec": {
   "display_name": "Python 2",
   "language": "python",
   "name": "python2"
  },
  "language_info": {
   "codemirror_mode": {
    "name": "ipython",
    "version": 2
   },
   "file_extension": ".py",
   "mimetype": "text/x-python",
   "name": "python",
   "nbconvert_exporter": "python",
   "pygments_lexer": "ipython2",
   "version": "2.7.14"
  }
 },
 "nbformat": 4,
 "nbformat_minor": 2
}
