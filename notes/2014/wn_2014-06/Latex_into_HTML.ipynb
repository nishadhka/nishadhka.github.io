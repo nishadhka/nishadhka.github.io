{
 "cells": [
  {
   "cell_type": "markdown",
   "metadata": {
    "collapsed": true
   },
   "source": [
    "## Latex into HTML\n",
    "- For a workflow with latex and peer editing, latex in PDF has to be converted into some editieable formate can be used in texteditor\n",
    "- based on [this](http://tex.stackexchange.com/questions/39309/convert-latex-to-html), latex tex files can be directly converted into html without \n",
    "  going for pdf.\n",
    "- have to use this command ```htlatex mydocument.tex```, but asks to install the progrma ``` sudo apt-get install tex4ht```, so install tex4ht\n",
    "- then exectute the command of ```htlatex mydocument.tex``` and it produced html with css and other requered files, this can be open in Libre text editor\n",
    "  to make peers to edit or correct the content"
   ]
  },
  {
   "cell_type": "code",
   "execution_count": null,
   "metadata": {
    "collapsed": true
   },
   "outputs": [],
   "source": []
  }
 ],
 "metadata": {
  "kernelspec": {
   "display_name": "Python 2",
   "language": "python",
   "name": "python2"
  },
  "language_info": {
   "codemirror_mode": {
    "name": "ipython",
    "version": 2
   },
   "file_extension": ".py",
   "mimetype": "text/x-python",
   "name": "python",
   "nbconvert_exporter": "python",
   "pygments_lexer": "ipython2",
   "version": "2.7.14"
  }
 },
 "nbformat": 4,
 "nbformat_minor": 2
}
