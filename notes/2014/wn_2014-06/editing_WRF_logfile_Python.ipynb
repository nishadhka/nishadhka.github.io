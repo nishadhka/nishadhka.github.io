{
 "cells": [
  {
   "cell_type": "markdown",
   "metadata": {
    "collapsed": true
   },
   "source": [
    "## editing_WRF_logfile_Python and pandas\n",
    "\n",
    "- to get sum seconds wrf is running, the wrf.out.log was imported into python to sum the elapsed seconds in each domains\n",
    "- to get the log file into wrf ```bf = open('run_wrfm.log', 'r')```\n",
    "- to read each lines in the file ```bf_lines=bf.readlines()```\n",
    "- to make the lines into list array and select only the list with particular words in it, here the word \"Timing for Writing\"\n",
    "```\n",
    "f=[]\n",
    "for line in bf_lines:\n",
    "    if 'Timing for Writing' in line:\n",
    "                 f.append(line)\n",
    "```\n",
    "- to make the list array into pandas dataframe ``` df = pd.DataFrame(f)```\n",
    "- to view the lines in dataframe ```df[0]```\n",
    "- to split the lines based on the words in it ```dfs=df[0].str.split('elapsed',1)```"
   ]
  },
  {
   "cell_type": "code",
   "execution_count": null,
   "metadata": {
    "collapsed": true
   },
   "outputs": [],
   "source": []
  }
 ],
 "metadata": {
  "kernelspec": {
   "display_name": "Python 2",
   "language": "python",
   "name": "python2"
  },
  "language_info": {
   "codemirror_mode": {
    "name": "ipython",
    "version": 2
   },
   "file_extension": ".py",
   "mimetype": "text/x-python",
   "name": "python",
   "nbconvert_exporter": "python",
   "pygments_lexer": "ipython2",
   "version": "2.7.14"
  }
 },
 "nbformat": 4,
 "nbformat_minor": 2
}
