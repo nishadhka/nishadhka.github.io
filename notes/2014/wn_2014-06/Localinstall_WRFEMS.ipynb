{
 "cells": [
  {
   "cell_type": "markdown",
   "metadata": {
    "collapsed": true
   },
   "source": [
    "## localinstall_WRFEMS\n",
    "\n",
    "- WRF ems can be installed locally using the file inside the folder releases\n",
    "- based on the WRF ems manual, chapter2, installaation from local netwrok, use ```./ems_install.pl --install --repodir 'releases folder content'```\n",
    "- After this the ems will be installed, for running the user's default shell has to be set into tcsh, by following [this](http://www.wrfems.info/viewtopic.php?f=4&t=501&sid=b3214842bbea4467293943193389f7f1)\n",
    "  as follows ```echo $SHELL``` if it gives /bin/bash chnage into tcsh by ```chsh -s /bin/tcsh```, still after this it was showing the terminal without any\n",
    "  $ or username.\n",
    "- to reolve this follwoed [this](http://www.wrfems.info/viewtopic.php?f=11&t=577) changing EMS.cshrc and copying .cshrc into home directory and adding\n",
    "  correct home directory for the installation folder\n",
    "- after this dwiz worjs fine."
   ]
  },
  {
   "cell_type": "code",
   "execution_count": null,
   "metadata": {
    "collapsed": true
   },
   "outputs": [],
   "source": []
  }
 ],
 "metadata": {
  "kernelspec": {
   "display_name": "Python 2",
   "language": "python",
   "name": "python2"
  },
  "language_info": {
   "codemirror_mode": {
    "name": "ipython",
    "version": 2
   },
   "file_extension": ".py",
   "mimetype": "text/x-python",
   "name": "python",
   "nbconvert_exporter": "python",
   "pygments_lexer": "ipython2",
   "version": "2.7.14"
  }
 },
 "nbformat": 4,
 "nbformat_minor": 2
}
