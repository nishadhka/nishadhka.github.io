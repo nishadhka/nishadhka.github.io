{
 "cells": [
  {
   "cell_type": "markdown",
   "metadata": {
    "collapsed": true
   },
   "source": [
    "## WRF_EMS_log\n",
    "\n",
    "- WRF ems instaled through local file in laptop\n",
    "- WRF ems was installed by online and script in server\n",
    "- wrf ems was installed by online and script in server\n",
    "- Four netsed domain is not running in desktop saying error code 9 during wrf real.exe\n",
    "\n",
    "### four nested domain run of wrf ems above trivandrum area\n",
    "\n",
    "- the domain made for trivandrum tvm-gfs4, aftre running a test, it gives hostory output for eavery 30 minitres and took some four hours to complete\n",
    "- To check the domain is covering the trivandrum districts, after converting the wrf ouput into netcdf using wrfncxnj.py and converting this netcddf into geotiff using nctif.py and overlayed with India_adm2.shp file after reprojecting using shape_osr.py, it is found that the disctrict is not covered by wrf ems domain\n",
    "- So the domain tvm-gfs4 is edited to include the area, with no availblity of dwiz in headless ubuntu server, it was edited in ubuntu desktop and copied into server without any grib file, grib file was latter added into this domain inserver itself\n",
    "- the files in /conf/ems_run/ such as run_wrfout.conf, run_physics.conf, run_level.conf, run_timestpe.conf were edited.\n",
    "- After editing the domain to include the trivandrum region it is giving the errot that, no SOILTEMP found\n",
    "- so again the domain tvm-gfs4 domain was edited with reducing the fourth domain extent and moving. after edited it is re copied into the server and grib file was copied from  another domain in the server and rerun by ``` cd $EMS/runs/tvm-gfs6/grib``` ``` cp * /home/hoopoe/wrfems/wrfems/runs/tvm-gfs4/grib/```\n",
    "- again the error SOLTEMP not found came up, so this time tryed with aim of changing fourth domain from ocean region to only land region and routine was again followed, the editing of dwiz is made sure by checking the date and time of file in static folder\n",
    "- This time also same error was reported and so this domain was abandoned and fresh domain was created.\n",
    "- a fresh domain created with south india as first domain and downscaling into fourth with 1km resolution, this domain also shoing the error\n",
    "- So to ascertain the error reson, a old running domain above combatore with four nested domain was kept running and it is running ems_prep with out any error.\n",
    "- an attempt is made to imitate the running domain cbe-gfs1_1, static folder file of the domain is copied and replaced witht the files in tvm-gfs8 domain and run ems_prep, this also gives same error. So in cbe domain went insde the static folder and copied all the files and then again pasted in the now then cleaned static folder of tvm, this also same error is coming, it seems the dwiz can't be edited just like that!\n",
    "- Another attempt was made with already running domain of trivandrum, that tvm-gfs3, this domain also not bounding with trivandrum district domain, so this domain was copied in laptop using this command ```cp -R tvm-gfs3 /home/hoopoe/ems/wrfems/runs/tvm-gfs3_copy``` and edited this domain, in this domain only the fourth next was edited by decreasing bottom value and top value to accomdate the tvm district, this also gives error\n",
    "- to ascertain the error, a erpeaated attempt of previous stpe is made with carefull consideration of mainitingn the domain size as of example domain while reducing or moving the fourth domain, to avod the bias, the copied domain tvm-gfs3_copy1 is made into server and run for testing, it is quit surprising, it is showing the same error, where is the error now!?, it wolud be the dwiz in laptop is in it?\n",
    "- to ascertain this dwiz in dekstop was used this time, there is a running domain in desktop over trivandrum, tvm_new, so it was used by coping it into server and run, same error came, how it is?!, to ascertain it, a ems_prep was run in desktop itself, found the doamin is working perfectly.\n",
    "- This gives a clue that of silly mistake, by copying the namelist variable for geog file is not changing it is still of dektop in server!. so editing the namelist.wps would have removed this error, lets try\n",
    "- edited namelist.wps and namelist.wps.orig file in tvm-gfs8 and rerun the ems_prep, it is still showing the error!\n",
    "- now made the dwiz work from server to avaoid copy paste, now made a domain from dwiz still showing the error! what?\n",
    "- Now run dwiz from server using ```ssh -X``` and shows the window of dwiz in which the older running domain tvm-gfs3 was edited and recreated the domain, it is working without any error, very unpredictable error, supirous, actually all these running domain was copied from laptopn and pasted in this server to run, on that time no error, some time error! \n",
    "- ok domain problem is over that way, wrf -ems is running and time step also edited with other files such as run_wrfout.conf, run_physics.conf, run_level.conf to reflect the netxet four domains above trivandrum"
   ]
  },
  {
   "cell_type": "code",
   "execution_count": null,
   "metadata": {
    "collapsed": true
   },
   "outputs": [],
   "source": []
  }
 ],
 "metadata": {
  "kernelspec": {
   "display_name": "Python 2",
   "language": "python",
   "name": "python2"
  },
  "language_info": {
   "codemirror_mode": {
    "name": "ipython",
    "version": 2
   },
   "file_extension": ".py",
   "mimetype": "text/x-python",
   "name": "python",
   "nbconvert_exporter": "python",
   "pygments_lexer": "ipython2",
   "version": "2.7.14"
  }
 },
 "nbformat": 4,
 "nbformat_minor": 2
}
