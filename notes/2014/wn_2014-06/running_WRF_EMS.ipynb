{
 "cells": [
  {
   "cell_type": "markdown",
   "metadata": {
    "collapsed": true
   },
   "source": [
    "## Running WRF EMS\n",
    "- WRF EMS is a pearl scripted implementation of weather research and forecast (WRF) model. By user easy scripting implementations, it hides the complex compiling and running steps in WRF model for operational and research purposes.\n",
    "- It's installation is by running a perl script provided by mail request, the installation size goes around 22 GB and so being a long processes.\n",
    "- The foremost step in model execution in creation of model domain, for high resolution forecasting of weather in Coimbatore, has to make a four nested domain. The domain creation in WRF is by wizard dwiz. \n",
    "- dwiz is super duper simplified with simple option selection such as domain draw and specifying domain grid ratio to parent  and its resolution in 10m, 5m, 2m and 30s.\n",
    "- All other micro physics and other physical parameterization has to specify it in the config folder inside the domain static folder. WRF EMS with dwiz create a specific environment with all required configuration and WRF routines for the specific domain, this environment is the static folder of the domain, located inside the runs folder of WRF EMS main folder. This is the main robustness of WRF EMS against WRF routine.\n",
    "- for disabling cumulus parameter to have a model run with resolution less than 10km, it has to edited in the .../runs/domain/config/ems_run/run_physics.conf\n",
    "- like this other files in the folder defines the various routines physical parameterization, cluster running and variable specification for WRF model.\n",
    " "
   ]
  },
  {
   "cell_type": "code",
   "execution_count": null,
   "metadata": {
    "collapsed": true
   },
   "outputs": [],
   "source": []
  }
 ],
 "metadata": {
  "kernelspec": {
   "display_name": "Python 2",
   "language": "python",
   "name": "python2"
  },
  "language_info": {
   "codemirror_mode": {
    "name": "ipython",
    "version": 2
   },
   "file_extension": ".py",
   "mimetype": "text/x-python",
   "name": "python",
   "nbconvert_exporter": "python",
   "pygments_lexer": "ipython2",
   "version": "2.7.14"
  }
 },
 "nbformat": 4,
 "nbformat_minor": 2
}
