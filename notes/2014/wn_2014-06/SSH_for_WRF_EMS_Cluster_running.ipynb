{
 "cells": [
  {
   "cell_type": "markdown",
   "metadata": {
    "collapsed": true
   },
   "source": [
    "## SSH for WRF_EMS cluster running\n",
    "- For executing the WRF EMS in cluster computer mode, pass wordless ssh is required, it is specified in .../runs/domain/config/ems_run/run_ncpus.conf as follows\n",
    "```bash\n",
    "LOG:  R.Rozumalski - NWS January 2012 - I'm still gruven\n",
    "#\n",
    "#     Running the WRF on a cluster?\n",
    "#\n",
    "#     If so, then make sure you that you have passwordless SSH on machines that\n",
    "#     you plan to use when running on multiple nodes (not necessary for single\n",
    "#     workstation runs). If you can run:\n",
    "#\n",
    "#        %  ssh <machine> date\n",
    "```\n",
    "- so followed following steps for password less ssh into server for hoopoe desktop.\n",
    "- I have done this earlier, it is easy, but no notes on it(memory!) it is useless, gone with the wind\n",
    "- So fresh startup, googled for passwordless ssh, mounted on [this](http://www.thegeekstuff.com/2008/11/3-steps-to-perform-ssh-login-without-password-using-ssh-keygen-ssh-copy-id/), saying genbrate a key using\n",
    "```bash\n",
    "ssh-keygen\n",
    "ssh-copy-id -i ~/.ssh/id_wrf.pub host-name\n",
    "```\n",
    "gives a error ```/sur/bin/ssd-copy-id:ERROR: No identities found```\n",
    "it is of due to [no proper key](http://ubuntuforums.org/showthread.php?t=1355416) genrated and so again made ```ssh0keygen``` with default name for key. But after this a three password failuer and another host_name@remotreip password asked that also being wrong, it seems the ssh never worked again.\n",
    "- earlier to find the LAN connected computer's ip used this command\n",
    "```bash\n",
    "nmap -sn 192.168.1.1/24\n",
    "```\n",
    "- Then tried a test ssh into it and going soomthly from that found the hostyname for the system\n",
    "- To resove the problem of 3, the error given by the ssh is ```ssh_exchange_identification: Connection closed by remote host```\n",
    "- following [this](http://stackoverflow.com/questions/10127818/ssh-exchange-identification-connection-closed-by-remote-host-under-git-bash) editied the file ```/etc/hosts.allow``` file in the remote server and add the line ```sshd:ALL``` and saved.\n",
    "- Now the test ssh is working, now the focus is to go again for password less ssh. \n",
    "- For password less ssh, genrated ssh-keygen followed [this](http://www.tecmint.com/ssh-passwordless-login-using-ssh-keygen-in-5-easy-steps/) than earlier one, the correct stpes are\n",
    "```bash\n",
    "ssh-keygen -t rsa\n",
    "cat .ssh/id_rsa.pub | ssh username@ip 'cat >> .ssh/authorized_keys'\n",
    "```\n",
    "made sure the id_rsa.pub is copied into the server .ssh/authorized_keys folder\n",
    "- still the ssh into the server asks for password, any way went into resolving the host name based ssh instead of username and ip based ssh, followed [this](http://aditya.vaidya.info/wordpress/?p=129) for making host name for speficif ip address, editied the file /etc/hosts\n",
    "```bash\n",
    "sudo nano /etc/hosts\n",
    "<ipaddress> <hostname>\n",
    "```\n",
    "- to know the host name of the ip address used this ```nmblookup -A <ip-address>```\n",
    "- the step gives only acess as ```ssh username@hostname```\n",
    "- to remove ip address follwoed [this](http://stackoverflow.com/questions/20871085/ssh-usernamehostname-to-ssh-hostname) and add config file in .ssh folder of the host, and added this lin in it\n",
    "```bash\n",
    "nano .ssh/config\n",
    "Host hostname\n",
    "    HostName ip address\n",
    "    Port 22\n",
    "    User username\n",
    "```\n",
    "after this ssh can be done with out username and ip address as specified in WRF-EMS. ```ssh hostname```\n",
    "- Still the password is asked by the ssh, to resolve this followed [this](http://kaotickreation.com/2008/05/21/disable-ssh-password-authentication-for-added-security/) made into the server side by ssh supplaying pasword, editied the file to 'no'\n",
    "```bash\n",
    "sudo nano /etc/ssh/sshd_config\n",
    "ChallengeResponseAuthentication no\n",
    "PasswordAuthentication no\n",
    "UsePAM no\n",
    "PubkeyAuthentication yes\n",
    "```\n",
    "- after this there is a error of ssh from host saying ```“agent admitted failure to sign using the key” error ```, follwoed [this](http://baptiste-wicht.com/posts/2010/07/tip-how-to-solve-agent-admitted-failure-to-sign-using-the-key-error.html) now the ssh without password and with host name is working, ```ssh hostname date``` returns the value.\n",
    "\n"
   ]
  },
  {
   "cell_type": "code",
   "execution_count": null,
   "metadata": {
    "collapsed": true
   },
   "outputs": [],
   "source": []
  }
 ],
 "metadata": {
  "kernelspec": {
   "display_name": "Python 2",
   "language": "python",
   "name": "python2"
  },
  "language_info": {
   "codemirror_mode": {
    "name": "ipython",
    "version": 2
   },
   "file_extension": ".py",
   "mimetype": "text/x-python",
   "name": "python",
   "nbconvert_exporter": "python",
   "pygments_lexer": "ipython2",
   "version": "2.7.14"
  }
 },
 "nbformat": 4,
 "nbformat_minor": 2
}
