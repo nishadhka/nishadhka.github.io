{
 "cells": [
  {
   "cell_type": "markdown",
   "metadata": {
    "collapsed": true
   },
   "source": [
    "**REVERSE_GEocdoing**\n",
    "\n",
    "**api_script.py**\n",
    "```python\n",
    "import json\n",
    "import urllib2\n",
    "url = \"https://maps.googleapis.com/maps/api/geocode/json?address=SRIRAMAKRISHNAENGINEERINGCOLLEGE+Vattamalaipalayam+NGGOColonyPost+Coimbatore+641022&key=APIkey\"\n",
    "import pandas as pd\n",
    "db=pd.read_csv('Coimbatore_postal.csv')\n",
    "#names=db['placeName_1'].tolist()\n",
    "#empty sapce in names gives url error\n",
    "#db[\"placeName_1\"] = df[\"placeName\"].map(str.strip)\n",
    "#to overcome above error used \n",
    "db['placeName_1'] = db['placeName'].str.replace(' ', '+')\n",
    "db['placeName_2'] = db['placeName_1'].str.replace('.', '+')\n",
    "names=db['placeName_2'].tolist()\n",
    "data = json.load(urllib2.urlopen(url))\n",
    "a=[]\n",
    "for name in names:\n",
    "\turl = \"https://maps.googleapis.com/maps/api/geocode/json?address=\"+name+\"&key=APIkey\"\n",
    "\tdata = json.load(urllib2.urlopen(url))\n",
    "\ta.append(data)\n",
    "ouputfilename='loc_latA1.json'\n",
    "with open(outputfilename, 'wb') as outfile:\n",
    "     json.dump(a, outfile)\n",
    "print data\n",
    "```\n",
    "1. It is for this script /scripts/api_script.py and jsontopandas.py#####\n",
    "1. As per the notes on ```Geonames_Pandas_Shapefile.md```, the postal code latitude and longitude is not having high resolution to differentiate between to nearby postal code points. For this need a high resolution latitude longitude data, IN  this regard GOOGLE MAP API is a good help. As per this from address the latitude and longitude json files can be obtained with its API key, based on [this](https://developers.google.com/maps/documentation/geocoding/#api_key) and getting the API access key from [here](https://code.google.com/apis/console/).  For more [info](https://developers.google.com/maps/documentation/javascript/geocoding), [info2](https://developers.google.com/maps/documentation/business/geolocation/)\n",
    "1. To get the latitde and logitue of location name used follwoing script based on [this](http://stackoverflow.com/questions/19795012/how-to-convert-a-list-to-jsonarray-in-python) and the script is below\n",
    "```python\n",
    "import json\n",
    "import urllib2\n",
    "url = \"https://maps.googleapis.com/maps/api/geocode/json?address=SRIRAMAKRISHNAENGINEERINGCOLLEGE+Vattamalaipalayam+NGGOColonyPost+Coimbatore+641022&key=APIkey\"\n",
    "import pandas as pd\n",
    "db=pd.read_csv('Coimbatore_postal.csv')\n",
    "names=db['placeName_1'].tolist()\n",
    "db[\"placeName_1\"] = df[\"placeName\"].map(str.strip)\n",
    "data = json.load(urllib2.urlopen(url))\n",
    "a=[]\n",
    "for name in names:\n",
    "\t\turl = \"https://maps.googleapis.com/maps/api/geocode/json?address=\"+name+\"&key=APIkey\"\n",
    "\t\tdata = json.load(urllib2.urlopen(url))\n",
    "\t\ta.append(data)\n",
    "ouputfilename='loc_latA1.json'\n",
    "with open(outputfilename, 'wb') as outfile:\n",
    "     json.dump(a, outfile)\n",
    "```\n",
    "1. IN which the dataframae also can added as a list but having problem with names having space in it such name having ```RS Puram``` which through error of 'url wrong' so it has to converted into ```RS+PURAM```\n",
    "1. For that to replace the empty space with +, use below code as per [this](http://stackoverflow.com/questions/14345739/replacing-part-of-string-in-python-pandas-dataframe)\n",
    "```\n",
    "db['placeName_1'] = db['placeName'].str.replace(' ', '+')\n",
    "db['placeName_2'] = db['placeName_1'].str.replace('.', '+')\n",
    "```\n",
    "1. With this change the above script returned all the json putput into the file specified and cotaines arround 550 ekement removing empty spaces.\n",
    "1. This json has to be converted into csv or pandas dataframe to be use with location merging and creating shape file etc. Huge number of attempt was taken for converting theis dataframe into csv formate.\n",
    "1. A former attempt was made with this and it was very easier to edit or work with json, since it is forgotten the attmepts were spent for reinventing the wheel. Even though this attmept is made with converting json into pandas different to earlier with list makes worthwhile.\n",
    "1. Major steps made was on with reading json as dataframe, removing eny empty sapces such ZERO_STATUS in API call, then converted into array list of dcitonaty and for loop this list to get the requiered field of infomration from json file of API call.\n",
    "1. It is found that the JSON created by earlier step is not per se json. The created file is list of dictonaries, json is pure dictionaries, this seems to made problem in correct query and large attmep is spend on the correct query of the requered filds from the json file. \n",
    "1. A sperate for loop was made for sperated the delimtter betwen address and lat long. another for loop for to Select only the Pincode from the address leaving other address details . The last for loop list has to be flatten by ```sdp1=list(itertools.chain(*sdp))``` to avoid the double column creation in pandas dataframe creation. \n",
    "1. A huge attempt was amde for join the two dataframe to get the address with latit and long information from API json, but it was not happeining nand it has to be resolved, one working example in this regard is [this](http://stackoverflow.com/questions/19763084/comparison-and-join-of-two-different-data-frames-with-strings)\n",
    "1. All the google saerch result stack overflow answers and other info are saved in a folder jsontopands. "
   ]
  },
  {
   "cell_type": "code",
   "execution_count": null,
   "metadata": {
    "collapsed": true
   },
   "outputs": [],
   "source": []
  }
 ],
 "metadata": {
  "kernelspec": {
   "display_name": "Python 2",
   "language": "python",
   "name": "python2"
  },
  "language_info": {
   "codemirror_mode": {
    "name": "ipython",
    "version": 2
   },
   "file_extension": ".py",
   "mimetype": "text/x-python",
   "name": "python",
   "nbconvert_exporter": "python",
   "pygments_lexer": "ipython2",
   "version": "2.7.14"
  }
 },
 "nbformat": 4,
 "nbformat_minor": 2
}
