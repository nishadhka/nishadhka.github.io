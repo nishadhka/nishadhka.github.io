{
 "cells": [
  {
   "cell_type": "markdown",
   "metadata": {
    "collapsed": true
   },
   "source": [
    "**Redeploy Dylos in TDM**\n",
    "\n",
    "1. After running with problem of excessive particle reading in UPS back up power, this note discuss its redeployment in same station. \n",
    "1. The problem of UPS back up power excessive reading was contained by using pure sine wave UPS. \n",
    "1. In redeployment as an addition, DHT11, humidity temperature sensor was added along with DYLOS, RPi, USB data card setup.\n",
    "1. The DHT 11 humidity temperature sensor was attached with RPI following [this](Measure temperature and humidity using a DHT11 on the Raspberry Pi) as per the below ![picture](/Img/pi-dht11.png).\n",
    "1. To get the reading from the DHT11, a c [program](Adafruit_DHT.c) supplied with adafruit learning is used, it was compiled in different computer with a formation of bin executables named Adafruit_DHT and it was copied into the current Rpi and used, notably it worked without any glitches by running the command ```sudo ./Adafruit_DHT 11 4\n",
    "```. \n",
    "1. As a new measure the per five minutes data is saved in sqlite3 data base and every 10 minutes data is send in SMS or HTTP post. For this the database already used for storing dylos reading is updated with two more columns for storing Temperature and Humidity.\n",
    "1. To connect with sqlite data base use the command ```sqlite3 dylos.db```.\n",
    "1. To view the tables in the data base of sqlite3.\n",
    "```.tables;```\n",
    "1. To view last updated row in sqlite3 database table data\n",
    "```SELECT * FROM data ORDER BY SNo DESC LIMIT 1;``` \n",
    "1. To add a column in table, ```ALTER TABLE data add column TEMP char(50);```\n",
    "1. to add another column in table, ```ALTER TABLE data add column HUMP char(50);```\n",
    "1. To view the details of table ```pragma table_info(data);```\n",
    "1. Accessing the data base from python and leaving it as without closing resultant in the data open error ```Error: database is locked``` when updating the table using the below command\n",
    "```INSERT INTO data(data,TEMP,HUMP) VALUES('2014-11-11T14:13,111,222',1111,111);```. later this was solved by restarting the RPi.\n",
    "1. The python [program](/scripts/data_db.py) to serial read dylos reading and storing it in sqlite database was updated to consider the DHT11 by subprocess the running of C bin program. \n",
    "\n",
    "1. To run the above program every 5 minutes used ```sudo crontab -e``` and entered a entry for the python script ```*/5 * * * * /home/pi/SMS/data_db.py``` but it didn't worked, though the log entry shows starting of crontab but no database save was happen. This was earlier observed that, python script has to be linked with a shell script such as this ```data_db.sh``` with content  \n",
    "```\n",
    "#!/bin/sh\n",
    "cd /home/pi/SMS\n",
    "sudo python data_db.py\n",
    "```\n",
    "and made into executables by ```sudo chmod a+x dylos_db.py```. This solved the problem and made cront ab to execute the python script to run for every five minutes and storing of data in database with dylos reading and temp humidity data. "
   ]
  },
  {
   "cell_type": "code",
   "execution_count": null,
   "metadata": {
    "collapsed": true
   },
   "outputs": [],
   "source": []
  }
 ],
 "metadata": {
  "kernelspec": {
   "display_name": "Python 2",
   "language": "python",
   "name": "python2"
  },
  "language_info": {
   "codemirror_mode": {
    "name": "ipython",
    "version": 2
   },
   "file_extension": ".py",
   "mimetype": "text/x-python",
   "name": "python",
   "nbconvert_exporter": "python",
   "pygments_lexer": "ipython2",
   "version": "2.7.14"
  }
 },
 "nbformat": 4,
 "nbformat_minor": 2
}
