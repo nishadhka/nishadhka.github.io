{
 "cells": [
  {
   "cell_type": "markdown",
   "metadata": {
    "collapsed": true
   },
   "source": [
    "**Ubunut 12.04 recovery**\n",
    "\n",
    "1. It is found that changing the file /etc/environment has huge problem after reboot.\n",
    "1. Added the environment variables for ncl language in /etc/environment as ``` export NCARG_ROOT=/usr/local/ncl-6.2.1; export PATH=$NCARG_ROOT/bin:$PATH```.\n",
    "1. This was resultant in problematic reboot of the system. The system gets instead of into login page, gets flickering command log. By reboot went inside of command line and there no system command like ```ls``` or ```sudo``` was not working. saying no /bin folder in PATH environment. Indicating the problem of above.\n",
    "1. More over the command line is populated with info of ```KEYPAD ID some thing...``` with no room for enter ing anything. Still in this situation the command such as sudo nano /etc/environment was entered and removed those lines added for ncl language and then saved quickly. For running the sudo and nano its respective folder has to be entered to over come the no /bin PATH error.\n",
    "1. After this the system loaded without any error mentioned earlier. "
   ]
  },
  {
   "cell_type": "code",
   "execution_count": null,
   "metadata": {
    "collapsed": true
   },
   "outputs": [],
   "source": []
  }
 ],
 "metadata": {
  "kernelspec": {
   "display_name": "Python 2",
   "language": "python",
   "name": "python2"
  },
  "language_info": {
   "codemirror_mode": {
    "name": "ipython",
    "version": 2
   },
   "file_extension": ".py",
   "mimetype": "text/x-python",
   "name": "python",
   "nbconvert_exporter": "python",
   "pygments_lexer": "ipython2",
   "version": "2.7.14"
  }
 },
 "nbformat": 4,
 "nbformat_minor": 2
}
