{
 "cells": [
  {
   "cell_type": "markdown",
   "metadata": {
    "collapsed": true
   },
   "source": [
    "## LAN_based_Internet_problem_and_solutionforRaspberry\n",
    "- LAN based internet for Raspberry pi (RPi) is not on the go, the netsat, network interfaces has to be edited, and also based on the gateway of server it has to be changed\n",
    "- current case used server was TP-LINK MR3420, it is a small single board computer based 3G modem, wirless device, its gateway address is 192.168.0.254. A 3G dongle was connected with device and LAN from this device is connected into RPi.\n",
    "- The Ip address additon on SD card has to be 192.168.0.100, it is from other LAN connection to this wireless deivce is having similar adress and gives atuomatically by the wireless device. \n",
    "- Even with this no internet was pinging, possible way to avoid is DHCP was removed and static is invoked\n",
    "- for example, the ```netstat -nr``` will show up only the\n",
    "```\n",
    "Destination     Gateway         Genmask         Flags   MSS Window  irtt Iface\n",
    "192.168.0.0     *         255.255.255.0   U         0 0          0 eth0\n",
    "```\n",
    "- without UG flag [from](http://raspberrypi.stackexchange.com/questions/7146/static-local-ip-gateway-config-on-startup-issues), that means no gateway, no way to access internet.\n",
    "- the solution is to add following entries in  `pi@raspberrypi ~ $ cat /etc/network/interfaces`\n",
    "\n",
    "```bash\n",
    "auto lo\n",
    "iface lo inet loopback\n",
    "iface eth0 inet static\n",
    "address 192.168.0.100\n",
    "netmask 255.255.255.0\n",
    "gateway 192.168.1.1\n",
    "allow-hotplug wlan0\n",
    "iface wlan0 inet manual\n",
    "wpa-roam /etc/wpa_supplicant/wpa_supplicant.conf\n",
    "iface default inet dhcp\n",
    "``` \n",
    "- and in `pi@raspberrypi ~ $ cat /etc/resolv.conf`\n",
    "```bash\n",
    "DNS 218.248.240.179\n",
    "nameserver 218.248.240.179\n",
    "```\n",
    "- and invoke \n",
    "```bash \n",
    "sudo /sbin/route add -net 0.0.0.0 gw 192.168.0.254 eth0\n",
    "sudo /sbin/route add -net 0.0.0.0 gw 192.168.1.1 eth0\n",
    "```\n",
    "4. it makes three line in netstat table with these gatway address, after this the google was getting pinged\n",
    "\n",
    "Reference:\n",
    "1. http://raspberrypi.stackexchange.com/questions/7624/setting-a-static-eth0-ip\n",
    "2. http://raspberrypi.stackexchange.com/questions/7146/static-local-ip-gateway-config-on-startup-issues\n",
    "3. http://www.soslug.org/wiki/getting_your_raspberry_pi_to_run_on_a_static_ip_with_internet\n",
    "4. http://www.penguintutor.com/linux/raspberrypi-webserver\n",
    "5. http://pihw.wordpress.com/guides/direct-network-connection/\n",
    "6. http://www.penguintutor.com/linux/raspberrypi-headless\n",
    " \n"
   ]
  },
  {
   "cell_type": "code",
   "execution_count": null,
   "metadata": {
    "collapsed": true
   },
   "outputs": [],
   "source": []
  }
 ],
 "metadata": {
  "kernelspec": {
   "display_name": "Python 2",
   "language": "python",
   "name": "python2"
  },
  "language_info": {
   "codemirror_mode": {
    "name": "ipython",
    "version": 2
   },
   "file_extension": ".py",
   "mimetype": "text/x-python",
   "name": "python",
   "nbconvert_exporter": "python",
   "pygments_lexer": "ipython2",
   "version": "2.7.14"
  }
 },
 "nbformat": 4,
 "nbformat_minor": 2
}
