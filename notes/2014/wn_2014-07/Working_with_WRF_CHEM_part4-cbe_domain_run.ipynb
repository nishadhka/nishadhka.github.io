{
 "cells": [
  {
   "cell_type": "markdown",
   "metadata": {
    "collapsed": true
   },
   "source": [
    "## Running WRF-CHEM for Coimbatore domain\n",
    "- After doing wps with wrf-chem and problem faced to run wrf.exe, recompilation then decided to run the wrf-chem for Coimbatore domain\n",
    "- Coimbatore domain made with four nested domain feature has been run with wrf ems with resolution starting from 100>27>9>3>1km, this was made with dwiz application in wrf ems.\n",
    "- However to test the domain above the Coimbatore region the output was subject for wrfncxnj.py utility. It took 4 hours and 33 minutes to run this domain in IBM X4 series server computer with 16 GB ram. \n",
    "- to overlay the Coimbatore city shape file above the wrf output netcdf from wrfcnxnj.py. The Coimbatore city boundary shape file was converted into custom projection as per [this](http://geoexamples.blogspot.in/2013/09/reading-wrf-netcdf-files-with-gdal.html), [this](http://www.gis.usu.edu/%7Echrisg/python/2009/lectures/ospy_hw2b.py) and [this](http://geoinformaticstutorial.blogspot.in/2012/10/reprojecting-shapefile-with-gdalogr-and.html). the final code is given in [this](https://github.com/saconswl/Real_time_air_pollution_Mod_Proj-2013-2014/blob/home/working_notes/wn_2014-06/Reprojecting_SHAPE_file_python.md). But unfortunately the wrf output in far above north of  city boundary so it has to edited to involve the Coimbatore region.\n",
    "- So the server IBM started and made copy of the domain cbe_h1  tinto cbe_h2 and open this domain and edited the doamin in dwiz with asumption that it will encopose coimabtore region.\n",
    "- to ascertain the doamin creation assuumption the geogrid formed by wrf ems can be visulisaed in gis platform, for theis the nc file was subject to open in qgis, but it ends with error saying not supported format. \n",
    "- so the ioption is to convert this necdef file into geotiff and visulaise it in the qgis.\n",
    "- One advatgae observed was the shape file converted into the defined projhection is giving the area derived ifnroamtion in square kilometer, thsi awas problem in road network assementi in coimabtoer region, so the road netwwrk has to be converted into this projection and problem can rectified.\n",
    "- to get the geotiff from the geogrid nc files, ncview was used to know the variables to call the lat, long and parameters in geogrid. But, the variables pretended from ncview was througing error\n",
    "- so made a last attempt of viewing nc file various variables from pythonic way, the command used were\n",
    "```python\n",
    "from osgeo import gdal\n",
    "from osgeo import osr\n",
    "import numpy\n",
    "import numpy.ma as ma\n",
    "datafile = 'geo_em.d04.nc'\n",
    "ds_in = gdal.Open(datafile)\n",
    "subdatasets = ds_in.GetSubDatasets()\n",
    "subdatasets\n",
    "```\n",
    "- these command gives the list of variables in the geo_em.d04.nc. In which the variables CLONG and CLAT was considered as lon and lat and variabnle GREENFRAC was used as parameter for geotiff conversion script. The script used were \n",
    "```python\n",
    "from osgeo import gdal\n",
    "from osgeo import osr\n",
    "import numpy\n",
    "import numpy.ma as ma\n",
    "datafile = 'geo_em.d04.nc'\n",
    "proj_out = osr.SpatialReference()\n",
    "proj_out.SetMercator(0.0, 115.02, 0.98931892612652, 0.0, 0.0)\n",
    "ds_in = gdal.Open(datafile)\n",
    "#subdatasets = ds_in.GetSubDatasets()\n",
    "#variables = []\n",
    "#for subdataset in subdatasets:\n",
    "#     variables.append(subdataset[1].split(\" \")[1])\n",
    "ds_lon = gdal.Open('NETCDF:\"geo_em.d04.nc\":CLONG')\n",
    "ds_lat = gdal.Open('NETCDF:\"geo_em.d04.nc\":CLAT')\n",
    "longs = ds_lon.GetRasterBand(1).ReadAsArray()\n",
    "lats = ds_lat.GetRasterBand(1).ReadAsArray()\n",
    "ds_lon = None\n",
    "ds_lat = None\n",
    "proj_gcp = osr.SpatialReference()\n",
    "proj_gcp.ImportFromEPSG(4326)\n",
    "transf = osr.CoordinateTransformation(proj_gcp, proj_out)\n",
    "ul = transf.TransformPoint(float(longs[0][0]), float(lats[0][0]))\n",
    "lr = transf.TransformPoint(float(longs[len(longs)-1][len(longs[0])-1]),\n",
    "float(lats[len(longs)-1][len(longs[0])-1]))\n",
    "ur = transf.TransformPoint(float(longs[0][len(longs[0])-1]),\n",
    "float(lats[0][len(longs[0])-1]))\n",
    "ll = transf.TransformPoint(float(longs[len(longs)-1][0]),\n",
    "float(lats[len(longs)-1][0]))\n",
    "gt0 = ul[0]\n",
    "gt1 = (ur[0] - gt0) / len(longs[0])\n",
    "gt2 = (lr[0] - gt0 - gt1*len(longs[0])) / len(longs)\n",
    "gt3 = ul[1]\n",
    "gt5 = (ll[1] - gt3) / len(longs)\n",
    "gt4 = (lr[1] - gt3 - gt5*len(longs) ) / len(longs[0])\n",
    "gt = (gt0,gt1,gt2,gt3,gt4,gt5)\n",
    "ds_u10 = gdal.Open('NETCDF:\"'+datafile+'\":GREENFRAC')\n",
    "#i=23\n",
    "#num_bands = ds_u10.RasterCount\n",
    "x_size = ds_u10.RasterXSize\n",
    "y_size = ds_u10.RasterYSize\n",
    "ds_p_b = ds_u10.GetRasterBand(1).ReadAsArray()\n",
    "driver = gdal.GetDriverByName( 'GTiff' )\n",
    "ds_out = driver.Create( 'geo_em.d04.tiff', x_size, y_size, 1, gdal.GDT_Float32 )\n",
    "ds_out.SetGeoTransform( gt )\n",
    "ds_out.SetProjection(proj_out.ExportToWkt())\n",
    "ds_out.GetRasterBand(1).WriteArray( ds_p_b )\n",
    "```\n",
    "- By this script the geotiff file `geo_em.d04.tiff` was created and it was overlay with Coimbatore city boundary, by this the wrf -ems domain was ascertained that it involves Coimbatore region extent.\n",
    "- this made to copy the cbe_h1 folder in runs folder of WRF ems and kept it to use for input.wps and input.real in wrf chem simulation over Coimbatore domain"
   ]
  },
  {
   "cell_type": "code",
   "execution_count": null,
   "metadata": {
    "collapsed": true
   },
   "outputs": [],
   "source": []
  }
 ],
 "metadata": {
  "kernelspec": {
   "display_name": "Python 2",
   "language": "python",
   "name": "python2"
  },
  "language_info": {
   "codemirror_mode": {
    "name": "ipython",
    "version": 2
   },
   "file_extension": ".py",
   "mimetype": "text/x-python",
   "name": "python",
   "nbconvert_exporter": "python",
   "pygments_lexer": "ipython2",
   "version": "2.7.14"
  }
 },
 "nbformat": 4,
 "nbformat_minor": 2
}
