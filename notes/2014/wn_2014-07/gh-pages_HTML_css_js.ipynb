{
 "cells": [
  {
   "cell_type": "markdown",
   "metadata": {
    "collapsed": true
   },
   "source": [
    "### gh-pages_HTML_css_js\n",
    "\n",
    "1. HTML, css and js is enoght for creating a web site. In github this is determental in any gh-pages intended to create.\n",
    "2. There are several templates specifically available, useed in gh-pages\n",
    "3. For simple markdown template this template was used. https://github.com/aplib/markdown-site-template\n",
    "4. Final usage of this web site was selected based on  its demonstration"
   ]
  },
  {
   "cell_type": "code",
   "execution_count": null,
   "metadata": {
    "collapsed": true
   },
   "outputs": [],
   "source": []
  }
 ],
 "metadata": {
  "kernelspec": {
   "display_name": "Python 2",
   "language": "python",
   "name": "python2"
  },
  "language_info": {
   "codemirror_mode": {
    "name": "ipython",
    "version": 2
   },
   "file_extension": ".py",
   "mimetype": "text/x-python",
   "name": "python",
   "nbconvert_exporter": "python",
   "pygments_lexer": "ipython2",
   "version": "2.7.14"
  }
 },
 "nbformat": 4,
 "nbformat_minor": 2
}
