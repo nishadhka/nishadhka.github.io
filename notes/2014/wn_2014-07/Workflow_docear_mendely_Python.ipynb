{
 "cells": [
  {
   "cell_type": "markdown",
   "metadata": {
    "collapsed": true
   },
   "source": [
    "- creating a script to select pdf files from a bunch of folders, subfolders, html files create folders with only pdf files\n",
    "- the code is \n",
    "```python\n",
    "import os\n",
    "count = 0\n",
    "d=[]\n",
    "f=[]\n",
    "for (dirname, dirs, files) in os.walk('/home/swl-sacon-dst/Documents/GISE_2013/LAB/lab_notes/'):\n",
    "#sepecifiying the directory to search for pdf files [from](http://stackoverflow.com/questions/273192/check-if-a-directory-exists-and-create-it-if-necessary)\n",
    "   for filename in files:\n",
    "       if filename.endswith('.pdf') :\n",
    "           thefile = os.path.join(dirname,filename)\n",
    "           dire = os.path.dirname(thefile)\n",
    "   f.append(thefile)\n",
    "   d.append(dire)\n",
    "#makung a list of ifle names and folders for copying\n",
    "#using list comphrehsnsion to change the folder path [from](http://stackoverflow.com/questions/3136689/find-and-replace-string-values-in-python-list)\n",
    "dc = [word.replace('lab_notes','<br />') for word in d]\n",
    "```"
   ]
  },
  {
   "cell_type": "code",
   "execution_count": null,
   "metadata": {
    "collapsed": true
   },
   "outputs": [],
   "source": []
  }
 ],
 "metadata": {
  "kernelspec": {
   "display_name": "Python 2",
   "language": "python",
   "name": "python2"
  },
  "language_info": {
   "codemirror_mode": {
    "name": "ipython",
    "version": 2
   },
   "file_extension": ".py",
   "mimetype": "text/x-python",
   "name": "python",
   "nbconvert_exporter": "python",
   "pygments_lexer": "ipython2",
   "version": "2.7.14"
  }
 },
 "nbformat": 4,
 "nbformat_minor": 2
}
