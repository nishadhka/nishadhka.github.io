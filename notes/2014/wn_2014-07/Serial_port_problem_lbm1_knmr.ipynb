{
 "cells": [
  {
   "cell_type": "markdown",
   "metadata": {
    "collapsed": true
   },
   "source": [
    "## Serialport and other problem, lbm1 knmr monitor\n",
    "- lbm1 knmr monitor is setup with three threepin plugs extension box serially wired, it is connected with  another serially connected extension box with two pin plug. \n",
    "- In which three plugs, one plug, dylos air quality monitor is connected, another 2A 7port USB hub adapter is connected and third and final pin from right to left, TP link 3G router is connected.\n",
    "- With the above setup, router LAN is connected with rapberry pi which is connected with 7hub USB, Dylos serial port is connected with rpi, RPi is accessed via wireless connectivity through router. Rpi connected with router thorugh LAN is accessed via, ```ssh pi@192.168.0.100```.\n",
    "- to enable internet with rpi, Gateway has to edited with rpi, ```netstat -nr``` gives no gateway address in it, so executing this command ```sudo /sbin/route add -net 0.0.0.0 gw 192.168.0.254 eth0```, gives gateway and now the internt is working properly.\n",
    "- with this configuration, two scripts one direct python ```data.py``` and one shell script ```pyts.sh``` which is linked to a python script ```pyts.py``` is enabled with crontab -e for to run every 2 minutes and 4 minutes respectively.\n",
    "- the script ```data.py``` is main script related with serial port and it collect the reading from dylos monitor to store the value in sqlite.\n",
    "- the script ```pyts.py``` is collect the lastest data (last one row) from sqlite and upload into thinkspeak services.   \n",
    "- crontab for pyts.py was reluctant to schduled every 4 minutes by giving it as such the python script given like data.py, it worked only by making linked with shelll script. for knowing this error, entry in crontab -e was added as ``` */4 * * * * /home/pi/SMS/data.py  >> /home/pi/SMS/myscript.log 2>&1``` based on [this](http://askubuntu.com/questions/56683/where-is-the-cron-crontab-log). this gives extra hand on checking the error in crontab.\n",
    "- With his arrnagement, the sqlite data base in where data is loaded were accessed to know the status of data collection, using the command ```sqlite3 dylos.db``` and sql command for las row ```SELECT * FROM data ORDER BY SNo DESC LIMIT 1```. this command gives rise to a data which is single 0.5 micrometer reading and intermittently fragmented. earlier experiance shows that by running long time after five to eight hours this turns into normalcy with both values (2.5 and 0.5 reading) are colleetc by serial port. \n",
    "- this erranoues was thought to be due to crontab problem, where the log file shows that the crontab is still running per 2 minutes where it was changed into four minutes, so a demon cron is running intermittenlty. a google search was made on this, most educating pages were found some of them are [1](http://raspberrypi.stackexchange.com/questions/13399/cron-scheduler-not-starting?rq=1) which gives a command to know what crons are working and its PID ```pgrep cron```, [2](http://raspberrypi.stackexchange.com/questions/4847/addition-to-cron-is-not-executed?rq=1) gives basics of crontab in rpi, [3](http://superuser.com/questions/284639/how-to-get-log-of-running-cron-job) gives command to find the pid of jobs by ```ps ax | grep jobname```, [4](http://askubuntu.com/questions/56683/where-is-the-cron-crontab-log) more info on error of crontab by command ```grep CRON /var/log/syslog```, [5](http://serverfault.com/questions/175074/why-crontab-process-run-repeated-auto-at-sometimes) gives idea of demaon working about crontab and gives command to vizualise it in tree formate ```pstree -ap```, [6](http://stackoverflow.com/questions/18309263/cron-job-generate-duplicate-processess) to view the list of crontab ```crontab -l```. [7](http://superuser.com/questions/361935/will-cron-on-linux-run-the-same-job-multiple-times) gives more info on cron job.\n",
    "- after this testings crontab found be not problem in this case, then used minicom by ```minicom -s```, and setup with port name and baudrate, it was tested in a laptop and it shows correct reading with both values, but it seems problem only with lbm1 setup, dylos is not having problem.\n",
    "- then made a setup in which the 7port USB is removed with 0.5mA adapter to power rpi, it is found that dylos reading is pichted to 50,000 insteaad of 5,000. this is noted that the earlier observation of exide ups in backup giving a high pitch of 50,000 is not observed in this setup of router+7USB hub+dylos, in back up in exide basttey also this is seems maintaining the normalcy. so giving more confidence that there is problem in current connection and it seems this is effecting the erroneous serial port reading.\n",
    "- so the o.5mA adapter is removed and replaced USB hub and kept for monitoring with interval of 5 minutes for data.py and 7 minutes for pyts.py, let us see what will happen. "
   ]
  },
  {
   "cell_type": "code",
   "execution_count": null,
   "metadata": {
    "collapsed": true
   },
   "outputs": [],
   "source": []
  }
 ],
 "metadata": {
  "kernelspec": {
   "display_name": "Python 2",
   "language": "python",
   "name": "python2"
  },
  "language_info": {
   "codemirror_mode": {
    "name": "ipython",
    "version": 2
   },
   "file_extension": ".py",
   "mimetype": "text/x-python",
   "name": "python",
   "nbconvert_exporter": "python",
   "pygments_lexer": "ipython2",
   "version": "2.7.14"
  }
 },
 "nbformat": 4,
 "nbformat_minor": 2
}
