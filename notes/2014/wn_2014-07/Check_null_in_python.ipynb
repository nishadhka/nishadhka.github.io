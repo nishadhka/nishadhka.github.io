{
 "cells": [
  {
   "cell_type": "markdown",
   "metadata": {
    "collapsed": true
   },
   "source": [
    "## checking for null in python\n",
    "\n",
    "- lbm1, connected with tp-link and to upload data to thinkspeak internet of things services, a script is used as follows,\n",
    "```python\n",
    "import sqlite3 as lite\n",
    "import logging\n",
    "import httplib, urllib\n",
    "from time import localtime, strftime\n",
    "import time\n",
    "logger = logging.getLogger('lbm1')\n",
    "hdlr = logging.FileHandler('/home/pi/SMS/pyts.log')\n",
    "formatter = logging.Formatter('%(asctime)s: %(levelname)s %(message)s')\n",
    "headers = {\"Content-type\": \"application/x-www-form-urlencoded\",\"Accept\": \"text/plain\"}\n",
    "conn = httplib.HTTPConnection(\"api.thingspeak.com:80\")\n",
    "hdlr.setFormatter(formatter)\n",
    "logger.addHandler(hdlr)\n",
    "logger.setLevel(logging.INFO)\n",
    "logger.info(\"tss\")\n",
    "con = lite.connect('/home/pi/SMS/dylos.db')\n",
    "try:\n",
    "  with con:\n",
    "    cur = con.cursor()\n",
    "    cur.execute(\"SELECT * FROM data ORDER BY SNo DESC LIMIT 1\")\n",
    "    a= [str(i[1]) for i in cur.fetchall()]\n",
    "    b = map(str.strip,a)\n",
    "    c= str(b).strip(\"[']\")\n",
    "    d= c.split(',')\n",
    "    if d[1] is None:\n",
    "       d[1]='00'\n",
    "    if d[2] is None:\n",
    "       d[2]='00'\n",
    "    logger.info(\"dfdb\")\n",
    "    params = urllib.urlencode({'field1': d[1], 'field2': d[2],'key':'1ACXSOW1ZFCYWGZF'})\n",
    "    conn.request(\"POST\", \"/update\", params, headers)\n",
    "    response = conn.getresponse()\n",
    "    conn.close()\n",
    "    logger.info('sdf')\n",
    "except:\n",
    "    logger.exception('dbyr')\n",
    "finally:\n",
    "   if con:\n",
    "      con.close()\n",
    "```\n",
    "- the lbm1 has a problem it SERIAL is defunct in intial startup upto three hours, which collect data for 0.5 micrometer only and 2.5 micrometer is omitted, this makes problem to script of defunt of functions saying the error, ```list index out of range```, this is can be rectified by simple null checking using if.\n",
    "- based on [this](http://stackoverflow.com/questions/11902458/i-want-to-exception-handle-list-index-out-of-range), found a method to handle null exception in list outof range case, the command used was ```gotdata = a[2] if len(a) > 2 else '000'``` and ```['2014-07-15T09:27', '2221']```"
   ]
  },
  {
   "cell_type": "code",
   "execution_count": null,
   "metadata": {
    "collapsed": true
   },
   "outputs": [],
   "source": []
  }
 ],
 "metadata": {
  "kernelspec": {
   "display_name": "Python 2",
   "language": "python",
   "name": "python2"
  },
  "language_info": {
   "codemirror_mode": {
    "name": "ipython",
    "version": 2
   },
   "file_extension": ".py",
   "mimetype": "text/x-python",
   "name": "python",
   "nbconvert_exporter": "python",
   "pygments_lexer": "ipython2",
   "version": "2.7.14"
  }
 },
 "nbformat": 4,
 "nbformat_minor": 2
}
