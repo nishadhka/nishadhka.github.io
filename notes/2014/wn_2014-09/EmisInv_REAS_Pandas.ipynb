{
 "cells": [
  {
   "cell_type": "markdown",
   "metadata": {
    "collapsed": true
   },
   "source": [
    "### Working on REAS emission inventory to feed into WRF-CHEM\n",
    "- REAS is a emission inventory for Asia, it has files for different pollutant separated with each category of emission source. For example, pollutant SO2 has 9 files for each emission source categories such as Aviation, Domestic, Industry etc for year 2008.  \n",
    "- The files are space separated txt files having fields (columns) for longitude, latitude and monthly emission value\n",
    "- Python library pandas is used for importing data into python environment and combining these different category emission source files (9 files) into one single file.\n",
    "- to import the files of REAS2.1 into python as pandas dataframe\n",
    "\n",
    "```python\n",
    "a1 = pd.read_csv('REASv2.1_BC__AVIATION_2008_0.25x0.25',skiprows=10,delim_whitespace=True,header=None)\n",
    "# to drop the first empty column in dataframe\n",
    "a1f=a.drop(0,1)\n",
    "# to name the columns of data frame\n",
    "a1f.columns=['lon','lat','m1','m2','m3','m4','m5','m6','m7','m8','m9','m10','m11','m12']\n",
    "\n",
    "a2 = pd.read_csv('REASv2.1_BC__DOMESTIC_2008_0.25x0.25',skiprows=10,delim_whitespace=True,header=None)\n",
    "a2f=a2.drop(0,1)\n",
    "a2f.columns=['lon','lat','m1','m2','m3','m4','m5','m6','m7','m8','m9','m10','m11','m12']\n",
    "\n",
    "#to compare two dataframes for its equality \n",
    "(af==a2f).all()\n",
    "# ended up in error saying two df has to equal size\n",
    "```\n",
    "or label/ Can only compare identically-labeled DataFrame objects\n",
    "```python\n",
    "a2 = pd.read_csv('REASv2.1_BC__INDUSTRY_2008_0.25x0.25',skiprows=10,delim_whitespace=True,header=None)\n",
    "#REASv2.1_BC__INTNNV_2008_0.25x0.25\n",
    "#REASv2.1_BC__OTHER_TRANSPORT_2008_0.25x0.25\n",
    "#REASv2.1_BC__POWER_PLANTS_NON-POINT_2008_0.25x0.25\n",
    "#REASv2.1_BC__POWER_PLANTS_NON-POINT_JPN_2008_0.25x0.25\n",
    "#REASv2.1_BC__POWER_PLANTS_POINT_2008\n",
    "#REASv2.1_BC__ROAD_TRANSPORT_2008_0.25x0.25\n",
    "import os\n",
    "fl=os.listdir(\"/home/swl-sacon-dst/Documents/GISE_2013/LAB/WRF-chem/Data/REAS/BC_/2008/\")\n",
    "df1=af.set_index('lon')\n",
    "df2=a2f.set_index('lon')\n",
    "for file in fl:\n",
    "\t\tprint \"a2 = pd.read_csv('%s',skiprows=10,delim_whitespace=True,header=None)\" % (file)\n",
    "\n",
    "def equal( df1, df2 ):\n",
    "\t\treturn df1.fillna(1).sort(axis=1).eq(df2.fillna(1).sort(axis=1)).all().all()\n",
    "equal( df1, df2 )\n",
    "```\n",
    "- The files for different categories of pollutant source for particular species is having different row length. These different length rows has to matched with every other category and perform addition, faced huge task and difficult in imagine the routine required for this.\n",
    "- Unable to visualize the data in python platform and using qgis left more difficult in proceed with the above rotine> this made to search for any availability fo NETCDF of REAS data, found [this](http://mix.greenresource.cn/) and resolved the need of huge task above. More over this source has Asian emission inventory for the year 2010.\n",
    "- Realeted to this it is found to access netcdf files without osgeo library. Based on [this](http://www.hydro.washington.edu/~jhamman/hydro-logic/blog/2013/10/12/plot-netcdf-data/)"
   ]
  },
  {
   "cell_type": "code",
   "execution_count": null,
   "metadata": {
    "collapsed": true
   },
   "outputs": [],
   "source": []
  }
 ],
 "metadata": {
  "kernelspec": {
   "display_name": "Python 2",
   "language": "python",
   "name": "python2"
  },
  "language_info": {
   "codemirror_mode": {
    "name": "ipython",
    "version": 2
   },
   "file_extension": ".py",
   "mimetype": "text/x-python",
   "name": "python",
   "nbconvert_exporter": "python",
   "pygments_lexer": "ipython2",
   "version": "2.7.14"
  }
 },
 "nbformat": 4,
 "nbformat_minor": 2
}
