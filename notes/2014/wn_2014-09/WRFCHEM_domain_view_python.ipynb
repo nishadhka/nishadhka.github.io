{
 "cells": [
  {
   "cell_type": "markdown",
   "metadata": {
    "collapsed": true
   },
   "source": [
    "#### WRF_CHEM domain view by python scrip\n",
    "\n",
    "1. WRF CHEM domain in nested has to be visulaised to correct the nesting and for domain size adjustment. There are few tools availble to do that such as dwiz of wrf ems and plotgrid.ncl.\n",
    "1. There is an alternative with python based on [this](https://code.google.com/p/pywrf/), it is a wrf script tools for visualizing and nesting based simulation. Set of scripts available has a function to visualize the namelist.wps as grid using python matplotlib.\n",
    "1. The ```def``` function named as ```wrf_grid_wrapper``` is included with wrfutil.py script and it is module like function for pydown.py a main script in pywrf program. In order to use the funcitionality of ```wrf_grid_wrapper```, which rea the namelist.wps and p[lot the grids as per like plotgrid.ncl, the def funciotn and its requiered functions are copied and pasted in a seprate file named ```wrf_domain.py```. \n",
    "1. In the separate file, following def functions are added ```wrf2latlon, read_namelist, set_default_basemap, plot_grid``` along with main  ```wrf_grid_wrapper``` function and it was called by adding a line  ```wrf_grid_wrapper()``` in the end of script. Some of the axuillary def functions are copied from ```viz/utils.py``` file which is imported by the wrfutils.py script.\n",
    "1. The running of script requires following libraries to import and faced problem related to that.\n",
    "\t1. to import ```from mpl_toolkits.basemap import Basemap``` got error of ```usr/lib/pymodules/python2.7/mpl_toolkits/__init__.py:2: UserWarning: Module dap was already imported from None, but /usr/lib/python2.7/dist-packages is being added to sys.path\n",
    "  __import__('pkg_resources').declare_namespace(__name__)``` this error was solved by editing following file ```/usr/lib/python2.7/dist-packages/dap-2.2.6.7.egg-info/namespace_packages.txt``` and add a line ```dap``` as the first line, based on [this](http://jhshi.me/2013/04/13/userwarning-module-dap-was-already-imported-from-none/)\n",
    "\t1. have to import ```import numpy as n```\n",
    "\t1. have to import ```from matplotlib.numerix import ma``` but based on [this](http://matplotlib.org/api/api_changes.html) import was changed into ```from numpy import ma```\n",
    "\t1. have to import ```from pyproj import Proj``` this module was installed by downloading it source file from [here](https://pypi.python.org/pypi/pyproj?) and installed following its readme as by ```python setup.py build, sudo python setup.py install```\n",
    "\t1. Some minor edits was made on this and also needed to add more functions into the program from main program. Finally the edit fetches to correctness with ploting of outer domain in the background map such as ![this](wrf_domain.png). Having limitation of viewing only one domain per time."
   ]
  },
  {
   "cell_type": "code",
   "execution_count": null,
   "metadata": {
    "collapsed": true
   },
   "outputs": [],
   "source": []
  }
 ],
 "metadata": {
  "kernelspec": {
   "display_name": "Python 2",
   "language": "python",
   "name": "python2"
  },
  "language_info": {
   "codemirror_mode": {
    "name": "ipython",
    "version": 2
   },
   "file_extension": ".py",
   "mimetype": "text/x-python",
   "name": "python",
   "nbconvert_exporter": "python",
   "pygments_lexer": "ipython2",
   "version": "2.7.14"
  }
 },
 "nbformat": 4,
 "nbformat_minor": 2
}
