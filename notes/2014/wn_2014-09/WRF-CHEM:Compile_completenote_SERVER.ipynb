{
 "cells": [
  {
   "cell_type": "markdown",
   "metadata": {
    "collapsed": true
   },
   "source": [
    "The errors \n",
    "    1. /bin/sh: 6: mpif90: not found\n",
    "    1. gfortran treating comments as code baased on [this](http://forum.wrfforum.com/viewtopic.php?f=5&t=6086)\n",
    "    1. still no wrf.exe was formed, by seeing configure.wrf thought environemnt WRF_SRC_ROOT_DIR has to be set\n",
    "    export WRF_SRC_ROOT_DIR=/home/hoopoe/wrfchem341/WRFV3\n",
    "    1. installed sudo apt-get install libcloog-ppl1\n",
    "    1. WPS compile confgiure says inconsistent gfortran and netcdf\n",
    "    1. and not forming any exe files\n",
    "- problem 1 based on http://www.tddft.org/pipermail/libxc/2013-August/000141.html\n",
    "- diagnostic codes\n",
    "```bash\n",
    "export WRF_DIR=/home/hoopoe/wrfchem341/WRFV3\n",
    "dpkg-query --show libpng12-dev\n",
    "dpkg -L libpng12-dev\n",
    "dpkg --get-selections | grep -v deinstall\n",
    "```\n",
    "### Reinstall due to GSI netcdf tested requirement\n",
    " \n",
    "- Compiled netcdf4.2.1.1 based on the [compile.wrf] but it didn't generating nay netcdf.inc as needed by the wrf fortran code and so fails in netcdf gfortran testing stage.\n",
    "- Another option is to use netcdf3.6.3, and it gets compiled and generated netcdf.inc, the codes used for compilations are, \n",
    "```bash\n",
    "export CC=gcc\n",
    "export CXX=g++\n",
    "export FC=gfortran\n",
    "export FCFLAGS=-m64\n",
    "export F77=gfortran\n",
    "export FFLAGS=-m64\t\n",
    "./configure --prefix=$DIR/netcdf36\n",
    "make\n",
    "make install\n",
    "```\n",
    "with this netcdf version, wrfV4.3.1 and WPS4.3.1 working has to be tested\n",
    "- Other required libraries for WRF such libpng, zlib, jasper was installed by debian package systems based on [this](http://sergioibarra.blogspot.in/2012/10/wrf-chem-compilacion-en-ubuntu-1204.html), the commands executed was \n",
    "\n",
    "```bash\n",
    "sudo apt-get install libjasper-dev\n",
    "sudo apt-get install libpng-dev\n",
    "sudo apt-get install libnetcdf-dev\n",
    "sudo apt-get install zlib1g-dev\n",
    "```\n",
    "and made sure that its PATH are ```/usr/lib``` by typing installed package location by following commands\n",
    "```bash\n",
    "dpkg-query --show libpng12-dev\n",
    "dpkg -L libpng12-dev\n",
    "dpkg --get-selections | grep -v deinstall\n",
    "whereis <package name>\n",
    "```\n",
    "- Based on [this](http://sergioibarra.blogspot.in/2012/10/wrf-chem-compilacion-en-ubuntu-1204.html), edited the file ```sudo nano /etc/bash.bashrc``` and added the following envirotnemn variables\n",
    "```bash\n",
    "export NETCDF=/home/hoopoe/wrfchem341/test/netcdf36\n",
    "export JASPERLIB=/usr/lib\n",
    "export JASPERINC=/usr/include\n",
    "export WRF_EM_CORE=1\n",
    "export WRF_NMM_CORE=0\n",
    "export WRF_CHEM=1\n",
    "export WRF_KPP=0\n",
    "export WRFIO_NCD_LARGE_FILE_SUPPORT=1\n",
    "```\n",
    "- Then as per [this](http://www2.mmm.ucar.edu/wrf/OnLineTutorial/index.php) enter into unzipped wrfV3 directory in which the chem folder is copied and started ```./configure```, it though warning says that large netcdf files are supported and it can be enabled by ```export WRFIO_NCD_LARGE_FILE_SUPPORT=1```, so it seems the bash file is not refreshed. Then made again ```./configure``` and edited ```configure.wrf``` file and line no. 127 from ```CPP             =      /lib/cpp -C -P``` to ```CPP             =      /lib/cpp -P```. But ```./compile``` ends in error of ```Fatal Error: Can't open module file 'module_configure.mod' for reading at (1): No such file or directory````. \n",
    "- Following path declaration\n",
    "\n",
    "```bash\n",
    "export WRF_SRC_ROOT_DIR=/home/hoopoe/wrfchem341/test/WRFV3\n",
    "export DIR=/home/hoopoe/wrfchem341/lib/Netcdf4.1.3libs\n",
    "export PATH=/home/hoopoe/wrfchem341/lib/Netcdf4.1.3libs/mpich/bin:$PATH\n",
    "```\n",
    "- Error are of `Can't open module file 'module_configure.mod' for reading at (1): No such file or directory`"
   ]
  },
  {
   "cell_type": "code",
   "execution_count": null,
   "metadata": {
    "collapsed": true
   },
   "outputs": [],
   "source": []
  }
 ],
 "metadata": {
  "kernelspec": {
   "display_name": "Python 2",
   "language": "python",
   "name": "python2"
  },
  "language_info": {
   "codemirror_mode": {
    "name": "ipython",
    "version": 2
   },
   "file_extension": ".py",
   "mimetype": "text/x-python",
   "name": "python",
   "nbconvert_exporter": "python",
   "pygments_lexer": "ipython2",
   "version": "2.7.14"
  }
 },
 "nbformat": 4,
 "nbformat_minor": 2
}
