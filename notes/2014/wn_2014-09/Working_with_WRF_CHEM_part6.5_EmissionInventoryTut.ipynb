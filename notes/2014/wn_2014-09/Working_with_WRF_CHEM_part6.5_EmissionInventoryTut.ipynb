{
 "cells": [
  {
   "cell_type": "markdown",
   "metadata": {
    "collapsed": true
   },
   "source": [
    "## Trail for WRF-CHEM, WRF CHEM simulation with dust only tutorial\n",
    "1. It is based on [this](http://ruc.noaa.gov/wrf/WG11/wrf_tutorial_exercises_v35/exercise_2.html) to run compiled wrf chem in serial mode with only dust.\n",
    "\n",
    "### WPS\n",
    "1. WPS components ungrib.exe,geogrid.exe and metgrid.exe was from former dust only run's output based on the [note of](Working_with_WRF_CHEM_part6.4_DustOnlyTutorial.md)\n",
    "\n",
    "### PrepChemSrc\n",
    "1. Prep chem src used was of compiled as per the [note](Working_with_WRF_CHEM_part1-PrepChemSrc.md). This was ran as per the tutorial [point4](http://ruc.noaa.gov/wrf/WG11/wrf_tutorial_exercises_v35/exercise_2.html), the namelist used is [this](prep_chem_sources_EmissionInventoryTut.inp).\n",
    "2. Prep_Chem_Src was ran with successful completion as per the tutorial [point5](http://ruc.noaa.gov/wrf/WG11/wrf_tutorial_exercises_v35/exercise_2.html)\n",
    "\n",
    "### real.exe\n",
    "###convertemiss###\n",
    "###real.exe###\n",
    "###wrf.exe###"
   ]
  },
  {
   "cell_type": "code",
   "execution_count": null,
   "metadata": {
    "collapsed": true
   },
   "outputs": [],
   "source": []
  }
 ],
 "metadata": {
  "kernelspec": {
   "display_name": "Python 2",
   "language": "python",
   "name": "python2"
  },
  "language_info": {
   "codemirror_mode": {
    "name": "ipython",
    "version": 2
   },
   "file_extension": ".py",
   "mimetype": "text/x-python",
   "name": "python",
   "nbconvert_exporter": "python",
   "pygments_lexer": "ipython2",
   "version": "2.7.14"
  }
 },
 "nbformat": 4,
 "nbformat_minor": 2
}
