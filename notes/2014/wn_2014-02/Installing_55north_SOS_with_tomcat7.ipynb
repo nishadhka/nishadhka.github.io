{
 "cells": [
  {
   "cell_type": "markdown",
   "metadata": {
    "collapsed": true
   },
   "source": [
    "**Installing_55north_SOS_with_tomcat7**\n",
    "* Installed tomcat 7 using \thttp://askubuntu.com/questions/339169/how-to-install tomcat-7-0-42-on-ubuntu-12-04-3-lts\n",
    "* to find is tomcat is really running followed by http://stackoverflow.com/questions/3944157/is-tomcat-running\n",
    "```\n",
    "netstat -a | grep 8080\n",
    "ps -ef | grep tomcat  \n",
    "```\n",
    "* both command gives some bulge result and responses if it is working.\n",
    "* if it is not working the command used to start tomcat7 is from installation page `sudo $CATALINA_HOME/bin/startup.sh \n",
    "* Installing the SOS war following tomcat manager and war file upload\n",
    "* to upload the data into istsos used this command following all its installation documentation.\n",
    "```\n",
    "python cmdimportcsv.py -s cocemsd -u http://192.168.1.100/istsos -p cocemsd_lbm_1 -w /home/fellow/D_GISE/dyloscbe -v\n",
    "```"
   ]
  },
  {
   "cell_type": "code",
   "execution_count": null,
   "metadata": {
    "collapsed": true
   },
   "outputs": [],
   "source": []
  }
 ],
 "metadata": {
  "kernelspec": {
   "display_name": "Python 2",
   "language": "python",
   "name": "python2"
  },
  "language_info": {
   "codemirror_mode": {
    "name": "ipython",
    "version": 2
   },
   "file_extension": ".py",
   "mimetype": "text/x-python",
   "name": "python",
   "nbconvert_exporter": "python",
   "pygments_lexer": "ipython2",
   "version": "2.7.14"
  }
 },
 "nbformat": 4,
 "nbformat_minor": 2
}
