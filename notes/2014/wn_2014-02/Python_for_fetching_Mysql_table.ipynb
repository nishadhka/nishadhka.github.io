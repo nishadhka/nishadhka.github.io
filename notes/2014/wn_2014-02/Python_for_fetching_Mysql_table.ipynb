{
 "cells": [
  {
   "cell_type": "markdown",
   "metadata": {
    "collapsed": true
   },
   "source": [
    "**Python_for_fetching_Mysql_table**\n",
    "\n",
    "1. This is for converting the mysql backed sms gateway data into sos import formate. COCEMS_lbm are sending the data every 15 minutes through SMS and it is received by server side data card and gammu SMS gateway backed by mysql, the data is in inbox table. Following python script do the job, long time was consumed in understanding the array, list objects in python, clear understanding would n't cost much time consumption.  After long frustration this I found in to takle the problem of addressing the numpy array out of mysql fetch. following,http://stackoverflow.com/questions/7061824/whats-the-most-efficient-way-to-covert-mysql-output-into-a-numpy-array-in-python and based on http://zetcode.com/db/mysqlpython/\n",
    "1. The code is \n",
    "```python\n",
    "import MySQLdb as mdb\n",
    "import csv\n",
    "from datetime import datetime\n",
    "import itertools\n",
    "import collections\n",
    "#Here goes connection with mysql data base and fecting the table.\n",
    "con = mdb.connect (host = \"localhost\", user = \"YOURPASSWORD\", passwd = \"YOURPASSWORD\", db = \"kalkun\")\n",
    "with con:\n",
    "    cur = con.cursor(mdb.cursors.DictCursor)\n",
    "    cur.execute('SELECT DISTINCT TextDecoded FROM `inbox` WHERE SenderNumber = \"MOBILENUMBER\" ORDER BY TextDecoded DESC LIMIT 1')\n",
    "#Here fetching all data from single data column into row variable and then ooped inside the content to clean the data with unwanted charecters attahced in the SMS and serial read from sensor \n",
    "    rows = cur.fetchall()\n",
    "    a = []\n",
    "    for row in rows:\n",
    "        row1 = row[\"TextDecoded\"].rstrip('\\n\\r')\n",
    "        a.append(row1)\n",
    "#Here making a DAT file formate for inserting data into istSOS \n",
    "outfile_path='cocemsd_lbm_1.DAT'\n",
    "writer = csv.writer(open(outfile_path, 'w'))\n",
    "headers = ['urn:ogc:def:parameter:x-istsos:1.0:time:iso8601','urn:ogc:def:parameter:x-istsos:1.0:cocemsd:nptm','urn:ogc:def:parameter:x-istsos:1.0:cocemsd:npfm']\n",
    "writer.writerow(headers)\n",
    "#Here making another loop to convert the array into list and editing the date formate to suite with istSOS formate\n",
    "b =[]\n",
    "for line in a:\n",
    "    col = line.strip().split(',')\n",
    "    date = datetime.strptime (col[0], \"%Y-%m-%dT%H:%M\").strftime(\"%Y-%m-%dT%H:%M:%S.000000+0530\")\n",
    "    data = date+','+col[1]+','+col[2]\n",
    "    b.append(data)\n",
    "print b\n",
    "#Here making another and final loop to convert a single row data into multiple rows for dat formate.\n",
    "writer.writerows([x.split(',') for x in b])\n",
    "```\n"
   ]
  },
  {
   "cell_type": "code",
   "execution_count": null,
   "metadata": {
    "collapsed": true
   },
   "outputs": [],
   "source": []
  }
 ],
 "metadata": {
  "kernelspec": {
   "display_name": "Python 2",
   "language": "python",
   "name": "python2"
  },
  "language_info": {
   "codemirror_mode": {
    "name": "ipython",
    "version": 2
   },
   "file_extension": ".py",
   "mimetype": "text/x-python",
   "name": "python",
   "nbconvert_exporter": "python",
   "pygments_lexer": "ipython2",
   "version": "2.7.14"
  }
 },
 "nbformat": 4,
 "nbformat_minor": 2
}
