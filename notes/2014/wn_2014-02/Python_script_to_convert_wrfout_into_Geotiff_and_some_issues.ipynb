{
 "cells": [
  {
   "cell_type": "markdown",
   "metadata": {
    "collapsed": true
   },
   "source": [
    "**Python_script_to_convert_wrfout_into_Geotiff_and_some_issues**\n",
    "\n",
    "* To visualize WRF output in GIS platform so that it would have an extra hand in interactive visualization and spatial analysis out of it. I used below python script (modified from http://lists.osgeo.org/pipermail/gdal-dev/2013-November/037602.html and http://geoexamples.blogspot.in/2013/09/reading-wrf-netcdf-files-with-gdal.html) to convert netcdf into Geotiff format. How ever the given scripts in those links are throwing error while convert eWRF netcdf output, saying there are multiple bands in specific variables say for example U10. I slightly changed those code to collect one band out of 24 band in U10 (In some variables the band number goes around 650, like P) and converted into geotiff without error and can visualise it in GIS. Below script is modified version.\n",
    "```python\n",
    "from osgeo import gdal\n",
    "from osgeo import osr\n",
    "import numpy\n",
    "import numpy.ma as ma\n",
    "datafile = 'wrfout_d01_2008-04-28_00:00:00'\n",
    "proj_out = osr.SpatialReference()\n",
    "proj_out.SetMercator(0.0, 115.02, 0.98931892612652, 0.0, 0.0)\n",
    "ds_in = gdal.Open(datafile)\n",
    "subdatasets = ds_in.GetSubDatasets()\n",
    "variables = []\n",
    "for subdataset in subdatasets:\n",
    "     variables.append(subdataset[1].split(\" \")[1])\n",
    "ds_lon = gdal.Open('NETCDF:\"wrfout_d01_2008-04-28_00:00:00\":XLONG')\n",
    "ds_lat = gdal.Open('NETCDF:\"wrfout_d01_2008-04-28_00:00:00\":XLAT')\n",
    "longs = ds_lon.GetRasterBand(1).ReadAsArray()\n",
    "lats = ds_lat.GetRasterBand(1).ReadAsArray()\n",
    "ds_lon = None\n",
    "ds_lat = None\n",
    "proj_gcp = osr.SpatialReference()\n",
    "proj_gcp.ImportFromEPSG(4326)\n",
    "transf = osr.CoordinateTransformation(proj_gcp, proj_out)\n",
    "ul = transf.TransformPoint(float(longs[0][0]), float(lats[0][0]))\n",
    "lr = transf.TransformPoint(float(longs[len(longs)-1][len(longs[0])-1]),\n",
    "float(lats[len(longs)-1][len(longs[0])-1]))\n",
    "ur = transf.TransformPoint(float(longs[0][len(longs[0])-1]),\n",
    "float(lats[0][len(longs[0])-1]))\n",
    "ll = transf.TransformPoint(float(longs[len(longs)-1][0]),\n",
    "float(lats[len(longs)-1][0]))\n",
    "gt0 = ul[0]\n",
    "gt1 = (ur[0] - gt0) / len(longs[0])\n",
    "gt2 = (lr[0] - gt0 - gt1*len(longs[0])) / len(longs)\n",
    "gt3 = ul[1]\n",
    "gt5 = (ll[1] - gt3) / len(longs)\n",
    "gt4 = (lr[1] - gt3 - gt5*len(longs) ) / len(longs[0])\n",
    "gt = (gt0,gt1,gt2,gt3,gt4,gt5)\n",
    "ds_u10 = gdal.Open('NETCDF:\"'+datafile+'\":U10')\n",
    "i=23\n",
    "num_bands = ds_u10.RasterCount\n",
    "x_size = ds_u10.RasterXSize\n",
    "y_size = ds_u10.RasterYSize\n",
    "ds_p_b = ds_u10.GetRasterBand(num_bands - i).ReadAsArray()\n",
    "driver = gdal.GetDriverByName( 'GTiff' )\n",
    "ds_out = driver.Create( 'u10.tiff', x_size, y_size, 1, gdal.GDT_Float32 )\n",
    "ds_out.SetGeoTransform( gt )\n",
    "ds_out.SetProjection(proj_out.ExportToWkt())\n",
    "ds_out.GetRasterBand(1).WriteArray( ds_p_b )\n",
    "```"
   ]
  },
  {
   "cell_type": "code",
   "execution_count": null,
   "metadata": {
    "collapsed": true
   },
   "outputs": [],
   "source": []
  }
 ],
 "metadata": {
  "kernelspec": {
   "display_name": "Python 2",
   "language": "python",
   "name": "python2"
  },
  "language_info": {
   "codemirror_mode": {
    "name": "ipython",
    "version": 2
   },
   "file_extension": ".py",
   "mimetype": "text/x-python",
   "name": "python",
   "nbconvert_exporter": "python",
   "pygments_lexer": "ipython2",
   "version": "2.7.14"
  }
 },
 "nbformat": 4,
 "nbformat_minor": 2
}
