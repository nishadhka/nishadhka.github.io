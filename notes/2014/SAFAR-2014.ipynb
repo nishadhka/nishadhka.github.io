{
 "cells": [
  {
   "cell_type": "markdown",
   "metadata": {},
   "source": [
    "<h1><center>A low cost chromatic modulation, dust sensor based real time respirable particulate and black carbon monitor, a preliminary design</center></h1>\n",
    "<h3><center>Nishadh K A<sup>1</sup>, Mohanraj R<sup>2</sup> and Azeez P A<sup>1</sup></center>\n",
    "<center>1-Environmental Impact Assessment Division, Salim Ali Centre for Ornithology and Natural History, Anaikatty Post, Coimbatore-641108- Tamil Nadu, India</center>\n",
    "<center>2-Department of Environmental Management, Bharathidasan University, Trichirappalli-620024, Tamil Nadu, India </center></h3>\n",
    "\n",
    "Apart from their impacts on climatic variables, anthropogenic particulate and black carbon emissions have serious health effects. Real time monitoring of these pollutants have huge potential in providing relevant health advisories and enforcing time bound regulatory restrictions. High upfront and running costs for commercial monitors for these parameters with adequate spatial and temporal resolution largely hinder their wide deployment. Recent technological developments in micro electro-mechanical systems provides huge cost reduction in instrument components for monitors working based on optical differentiation and paves the way to much cheaper chromatic modulation (color variation) based monitors. Several recent studies showed promising features of those kinds of low cost monitors in particulate and black carbon monitoring (1, 2, 3).\n",
    "\n",
    "The present paper deals with design of a low cost real time monitor for particulate and black carbon by a dust sensor coupled with chromatic modulation technique. The monitor comprises a rotational 10 micrometer particulate filter with web camera to capture the dust accumulation for chromatic modulation analysis, a column with dust sensor and light source, a vacuum air pump and a microprocessor to program the whole monitoring processes. The main contribution of this design is the coupling of optical property differentiation, chromatic modulation technique in single platform and introduction of invasive sampling features for particulate monitoring. The dust sensor SHARP GP2Y1010AU0F is based on optical sensing which measures the quantity of dust particles by reflected infrared rays on phototransistors from a dust column. Black carbon is quantified in chromatic modulation by measuring the colour variation in dust filter though image colour algorithmic method (3). By following the PIXIE streaker sampler design the present monitors introduce the invasive sampling feature, which delivers the further analysis of filtered dust particles for heavy metals or other chemical component for further research.    \n",
    "     \n",
    "**Reference:**\n",
    "1. YR Kolupula, MA Aceves-Fernandez, GR Jones, AG Deakin and JW Spencer (2010). Airborne particle monitoring with urban closed-circuit television camera networks and a chromatic technique. Measurement Science and Technology 21, 115204.\n",
    "2. N Ramanathan, M Lukac, T Ahmed, A Kar, PS Praveen, T Honles, I Leong , IH Rehman, JJ Schauer and V Ramanathan (2011). A cell phone based system for large-scale monitoring of black carbon. Atmospheric Environment 45, 4481-4487. \n",
    "3. TS Dye (2013). A Scientist with Sensors and Spare Time: Backyard Comparisons of Particulate Matter Sensors. (Abstract). EPA’s Next Generation Air Monitoring Workshop Series Air Sensors 2013: Data Quality & Applications.    \n",
    "4. A Reiko, C R Sekhar, S Sasaki, KR Shivananda, M Shinjil (2013). Measuring and monitoring construction dust using mobile phone cameras. Current Science 104(7), 817-821. \n"
   ]
  },
  {
   "cell_type": "code",
   "execution_count": null,
   "metadata": {
    "collapsed": true
   },
   "outputs": [],
   "source": []
  }
 ],
 "metadata": {
  "kernelspec": {
   "display_name": "Python 2",
   "language": "python",
   "name": "python2"
  },
  "language_info": {
   "codemirror_mode": {
    "name": "ipython",
    "version": 2
   },
   "file_extension": ".py",
   "mimetype": "text/x-python",
   "name": "python",
   "nbconvert_exporter": "python",
   "pygments_lexer": "ipython2",
   "version": "2.7.14"
  }
 },
 "nbformat": 4,
 "nbformat_minor": 2
}
