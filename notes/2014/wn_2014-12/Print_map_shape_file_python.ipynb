{
 "cells": [
  {
   "cell_type": "markdown",
   "metadata": {
    "collapsed": true
   },
   "source": [
    "**Create and print map using pandas in python from SHAPE file**\n",
    "\n",
    "1. Based on this note to print map from shape file, a sort of scripting map creation and printing without using qgis kind GUI.\n",
    "1. The above note uses fiona lib. Intsallation of fiona is super easy with anaconda. Command ```conda install fiona``` does all the jobs of installing with all its depndancy starting from gdal. Native installtion of gdal and linkingit with python libs are super hard. So anaconda is big big help in working with python.\n",
    "1. The above tutorial's ipython [notebook](http://nbviewer.ipython.org/gist/urschrei/74c6223d9f6a5dea4e75) and data used is available from [here](https://github.com/vincentadam87/urbandatahack2014)\n",
    "1. Using th github source data nd code it was tested to get the png file of example data and it was made with out any error.\n",
    "1. The basic functionality is creation of pandas dataframe from shape file and plotting it with matplotlib command. Since it is a pandas, extensive data editing fucntionality of pandas will be supporterd in map creation also, such as filtering, merging, sorting , arithmatic and much more.\n",
    "1. So for example with India shape file and creation of some scatter plot over it. \n",
    "\n",
    "\n"
   ]
  },
  {
   "cell_type": "code",
   "execution_count": null,
   "metadata": {
    "collapsed": true
   },
   "outputs": [],
   "source": []
  }
 ],
 "metadata": {
  "kernelspec": {
   "display_name": "Python 2",
   "language": "python",
   "name": "python2"
  },
  "language_info": {
   "codemirror_mode": {
    "name": "ipython",
    "version": 2
   },
   "file_extension": ".py",
   "mimetype": "text/x-python",
   "name": "python",
   "nbconvert_exporter": "python",
   "pygments_lexer": "ipython2",
   "version": "2.7.14"
  }
 },
 "nbformat": 4,
 "nbformat_minor": 2
}
