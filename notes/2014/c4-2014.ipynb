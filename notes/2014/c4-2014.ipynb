{
 "cells": [
  {
   "cell_type": "markdown",
   "metadata": {},
   "source": [
    "<h1><center>How can low cost monitoring network would be useful for real time air pollution observations, predictions and health impact studies? a case study on particulate matter pollution in urban Coimbatore, India.</center></h1>\n",
    "<h3><center>Nishadh K A<sup>1</sup>, Mohanraj R<sup>2</sup> and Azeez P A<sup>1</sup></center>\n",
    "<center>1-Environmental Impact Assessment Division, Salim Ali Centre for Ornithology and Natural History, Anaikatty Post, Coimbatore-641108- Tamil Nadu, India</center>\n",
    "<center>2-Department of Environmental Management, Bharathidasan University, Trichirappalli-620024, Tamil Nadu, India </center></h3>\n",
    "\n",
    "There is a growing realization that low cost monitoring network would be an important enabler for high spatial resolution air pollution observation and related applications. EPA's recent draft report on “road map for next generation air monitoring” specifically emphasis this changes and advantages(1). There is influential growing evidence for that from field trails, showing that low cost sensors with advanced calibration techniques would be an important asset for real time air pollution(2). The experiences shows that, it involves the a \n",
    "huge challenge in terms of tuning sensing technology, data management, networks sustenance and the collected information's suitable application derivation(3).      \n",
    "\n",
    "The ongoing case study on particulate matter pollution in urban Coimbatore, a fast growing urban conglomerate of state of the Tamil Nadu, India is intended to address this question of how can low cost monitoring network would be useful for real time air pollution observations, predictions and health impact studies?. We are proposing a open hardware development route with sensor web enablement specification for standardization, community involvement and engagement tool for community sensing, application derivation, sustenance of the network. By following the open hardware development route the study intends to develop a low cost particulate monitor which is going to be act as an important enabler for high spatial resolution sensing (low cost means more sensors) and can be developed further in public domain. Through using the sensor web enablement specification, the project foresees the better management of sensors and its network with more intuitive information models and services capabilities of a typical sensor network. By involving common public in possible ways for developing this network, the project  expected to establish a community sensing platform for air pollution problems and thus ensures the sustenance of network which is most helpful for further research studies. \n",
    "\n",
    "**Reference:**\n",
    "\n",
    "1. United States Environmental Protection Agency (2013). DRAFT road map for next generation air monitoring. https://sites.google.com/site/airsensors2013/background/ASAP%20FINAL%20draft%20Roadmap_2013_03_08.docx?attredirects=0. Accessed on 25 th March 2013.\n",
    "2. D Hasenfratz, O Saukh, and L Thiele. (2012). On-the-flycalibration of low-cost gas sensors.  Springer EWSN, 1-16.\n",
    "3. K Aberer, S Sathe, D Chakraborty, A Martinoli, G Barrenetxea, B Faltings and L Thiele (2010). OpenSense: Open Community Driven Sensing of Environmen. IWGS ’10, San Jose, CA, USA\n"
   ]
  }
 ],
 "metadata": {
  "kernelspec": {
   "display_name": "Python 2",
   "language": "python",
   "name": "python2"
  },
  "language_info": {
   "codemirror_mode": {
    "name": "ipython",
    "version": 2
   },
   "file_extension": ".py",
   "mimetype": "text/x-python",
   "name": "python",
   "nbconvert_exporter": "python",
   "pygments_lexer": "ipython2",
   "version": "2.7.14"
  }
 },
 "nbformat": 4,
 "nbformat_minor": 2
}
