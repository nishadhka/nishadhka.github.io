{
 "cells": [
  {
   "cell_type": "markdown",
   "metadata": {
    "collapsed": true
   },
   "source": [
    "**Cross-Origin_Resource_Sharing**\n",
    "\n",
    "- WHile working with qs into cbe-air, in populating table and charts with istsos json data, stucked with a error\n",
    "- the error was not informative in firebug.firefox, a simple correct repsonse of 200 with red fonts and also not giving any console.log in JS\n",
    "- after trying with changing jquery version, different old edited version of qs, experimenting with differneet json url no clue was found, finally\n",
    "  tryed to run the aptana server in chromium and its devloper tools option gives verbal error of \n",
    "  ``` No 'Access-Control-Allow-Origin' header is present on the requested resource. Origin 'http://127.0.0.1:8020' is therefore not allowed access```\n",
    "- this error is caused due to Same Origin Policy of browser to check foreign API in it to process. \n",
    "- to avoid this error is to use jsonp, proxy or CORS(Cross-Origin Resource Sharing), promising is CORS\n",
    "- In server CORS has to be enabled based on [this](http://enable-cors.org/server_apache.html) and [this](http://jerome.co.za/enabling-cross-origin-resource-sharing-aka-cors-in-apache/)\n",
    "- The comments are as follows `sudo a2enmod headers`\n",
    "  to allow heaadrs in apache2\n",
    "- add this line to apache2.conf, inside <File> `Header set Access-Control-Allow-Origin \"*\"`\n",
    "- check every thing is fine by `apachectl -t` and restart apache2 by `sudo service apache2 reload`\n",
    "- Follwoing this step in aws didnt removed the error, so follwoed [this](http://jerome.co.za/enabling-cross-origin-resource-sharing-aka-cors-in-apache/)\n",
    "- Edited dafult file in /etc/apache2/sites-available/ and the line above istsos config line,</virtual host> and restarted the apache\n",
    "- Now the error is gone!"
   ]
  },
  {
   "cell_type": "code",
   "execution_count": null,
   "metadata": {
    "collapsed": true
   },
   "outputs": [],
   "source": []
  }
 ],
 "metadata": {
  "kernelspec": {
   "display_name": "Python 2",
   "language": "python",
   "name": "python2"
  },
  "language_info": {
   "codemirror_mode": {
    "name": "ipython",
    "version": 2
   },
   "file_extension": ".py",
   "mimetype": "text/x-python",
   "name": "python",
   "nbconvert_exporter": "python",
   "pygments_lexer": "ipython2",
   "version": "2.7.14"
  }
 },
 "nbformat": 4,
 "nbformat_minor": 2
}
