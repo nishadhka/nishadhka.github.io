{
 "cells": [
  {
   "cell_type": "markdown",
   "metadata": {
    "collapsed": true
   },
   "source": [
    "**to edit a table in postgresql**\n",
    "\n",
    "- to list databases\n",
    "```\n",
    "\\list\n",
    "```\n",
    "- to list tables in a database based on [this](http://dba.stackexchange.com/questions/1285/how-do-i-list-all-databases-and-tables-using-psql)\n",
    "```\n",
    "SELECT table_schema,table_name\n",
    "FROM information_schema.tables\n",
    "ORDER BY table_schema,table_name;\n",
    "```\n",
    "- to view details about a table\n",
    "```\n",
    "\\d table.name\n",
    "```\n",
    "- to edit a column in a table\n",
    "```\n",
    "ALTER TABLE cbed.measures ALTER COLUMN val_msr TYPE numeric(14,6);\n",
    "```"
   ]
  },
  {
   "cell_type": "code",
   "execution_count": null,
   "metadata": {
    "collapsed": true
   },
   "outputs": [],
   "source": []
  }
 ],
 "metadata": {
  "kernelspec": {
   "display_name": "Python 2",
   "language": "python",
   "name": "python2"
  },
  "language_info": {
   "codemirror_mode": {
    "name": "ipython",
    "version": 2
   },
   "file_extension": ".py",
   "mimetype": "text/x-python",
   "name": "python",
   "nbconvert_exporter": "python",
   "pygments_lexer": "ipython2",
   "version": "2.7.14"
  }
 },
 "nbformat": 4,
 "nbformat_minor": 2
}
