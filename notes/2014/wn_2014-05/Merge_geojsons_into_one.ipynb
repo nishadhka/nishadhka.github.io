{
 "cells": [
  {
   "cell_type": "markdown",
   "metadata": {
    "collapsed": true
   },
   "source": [
    "**Merge_geojsons_into_one**\n",
    "- For converting qs into cbe-air, map is rendered using geojson rendering capability of github\n",
    "- the marker was easiliy made into geojson from qgis and org2ogr as a shape file. based on [this](https://github.com/cambecc/earth) under\n",
    "  section \"getting map data\", the command is\n",
    "```bash\n",
    "ogr2ogr -f GeoJSON point.json point.shp\n",
    "//and adding this script line in html\n",
    "<script src=\"https://embed.github.com/view/geojson/saconswl/cbeair/gh-pages/cbe-s.json?height=530&width=1300\"></script>\n",
    "//under div map\n",
    "```\n",
    "- To include coimbatore city limits along with point marker, adding another script line of github embed renderes another map!\n",
    "- so the solution is to merge point shape file and polygon shape file, since shape file doesn't support different feature(pooint.polygon) mergeing\n",
    "- it has to done it in level of ogr or geojosn level. [guide from this](http://gis.stackexchange.com/questions/74627/can-we-merge-shapefiles-with-different-geometries-point-and-polygon-to-get-a-s)\n",
    "- to point the [solution](http://gis.stackexchange.com/questions/74175/ogr-merge-shapefiles-of-different-geom-type-into-a-single-geojson-feature-collec?rq=1)\n",
    "- in which small commant gives a [python code](https://gist.github.com/migurski/3759608) to merge two geojson file into one\n",
    "- Using that python script, copied bellow from https://gist.github.com/migurski/3759608 merged point geojosn and polytgon geojson into one. \n",
    "```bash\n",
    "python merge-geojsons.py cbe_city.json dylos_sta.json cbe-s.json\n",
    "```\n",
    "- the code become \n",
    "```python\n",
    "from json import load, JSONEncoder\n",
    "from optparse import OptionParser\n",
    "from re import compile\n",
    "float_pat = compile(r'^-?\\d+\\.\\d+(e-?\\d+)?$')\n",
    "charfloat_pat = compile(r'^[\\[,\\,]-?\\d+\\.\\d+(e-?\\d+)?$')\n",
    "parser = OptionParser(usage=\"\"\"%prog [options]\n",
    "#Group multiple GeoJSON files into one output file.\n",
    "#Example:\n",
    "#python %prog -p 2 input-1.json input-2.json output.json\"\"\")\n",
    "defaults = dict(precision=6)\n",
    "parser.set_defaults(**defaults)\n",
    "parser.add_option('-p', '--precision', dest='precision',\n",
    "                  type='int', help='Digits of precision, default %(precision)d.' % defaults)\n",
    "if __name__ == '__main__':\n",
    "    options, args = parser.parse_args()\n",
    "    infiles, outfile = args[:-1], args[-1]\n",
    "    outjson = dict(type='FeatureCollection', features=[])\n",
    "    for infile in infiles:\n",
    "        injson = load(open(infile))\n",
    "        if injson.get('type', None) != 'FeatureCollection':\n",
    "            raise Exception('Sorry, \"%s\" does not look like GeoJSON' % infile)\n",
    "        if type(injson.get('features', None)) != list:\n",
    "            raise Exception('Sorry, \"%s\" does not look like GeoJSON' % infile)\n",
    "        outjson['features'] += injson['features']\n",
    "    encoder = JSONEncoder(separators=(',', ':'))\n",
    "    encoded = encoder.iterencode(outjson)\n",
    "    format = '%.' + str(options.precision) + 'f'\n",
    "    output = open(outfile, 'w')\n",
    "    for token in encoded:\n",
    "        if charfloat_pat.match(token):\n",
    "            # in python 2.7, we see a character followed by a float literal\n",
    "            output.write(token[0] + format % float(token[1:])\n",
    "        elif float_pat.match(token):\n",
    "            # in python 2.6, we see a simple float literal\n",
    "            output.write(format % float(token))\n",
    "        else:\n",
    "            output.write(token)\n",
    "```"
   ]
  },
  {
   "cell_type": "code",
   "execution_count": null,
   "metadata": {
    "collapsed": true
   },
   "outputs": [],
   "source": []
  }
 ],
 "metadata": {
  "kernelspec": {
   "display_name": "Python 2",
   "language": "python",
   "name": "python2"
  },
  "language_info": {
   "codemirror_mode": {
    "name": "ipython",
    "version": 2
   },
   "file_extension": ".py",
   "mimetype": "text/x-python",
   "name": "python",
   "nbconvert_exporter": "python",
   "pygments_lexer": "ipython2",
   "version": "2.7.14"
  }
 },
 "nbformat": 4,
 "nbformat_minor": 2
}
