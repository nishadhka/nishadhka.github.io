{
 "cells": [
  {
   "cell_type": "markdown",
   "metadata": {
    "collapsed": true
   },
   "source": [
    "**Gammu_compile-in-BBB**\n",
    "\n",
    "- Gammu was compiled in BBB follwoing [this](http://wammu.eu/docs/manual/project/install.html#compiling-on-linux-unix-systems)\n",
    "- The dependacnies was intaalled using this command\n",
    "```bash\n",
    "apt-get install cmake python-dev pkg-config libmysqlclient-dev libpq-dev \\\n",
    "    libcurl4-gnutls-dev libusb-1.0-0-dev libdbi0-dev libbluetooth-dev \\\n",
    "    libgudev-1.0-dev libglib2.0-dev unixodbc-dev\n",
    "```\n",
    "- the command `./configure` gives error of `CMake Error: CMake was unable to find a build program corresponding to \"Unix Makefiles\".`\n",
    "- based on [this](http://www.cmake.org/pipermail/cmake/2013-May/054869.html) installed make by `apt-get install make`\n",
    " after  this the error goes away\n",
    "- executed this command `cmake .. -DCMAKE_INSTALL_PREFIX=\"/usr\"`\n",
    "- then `make`, says all build\n",
    "- then `make test`, says failure for smsd-dbi-sqlite3 and pther sqlite3 related thinks, but other thinks are passed, test results goes like this\n",
    "```bash\n",
    "99% tests passed, 5 tests failed out of 1116\n",
    "Total Test time (real) = 609.54 sec\n",
    "The following tests FAILED:\n",
    "\t444 - smsd-dbi-sqlite3 (Failed)\n",
    "\t445 - smsd-inject-dbi-sqlite3 (Failed)\n",
    "\t446 - smsd-inject-long-dbi-sqlite3 (Failed)\n",
    "\t447 - smsd-daemon-dbi-sqlite3 (Failed)\n",
    "\t1114 - py-smsd-testing (Failed)\n",
    "Errors while running CTest\n",
    "make: *** [test] Error 8\n",
    "```\n",
    "- then `sudo make install` gives no error! seems\n",
    "- now comes good news \n",
    "```\n",
    "root@arm:/home/debian/gammu-1.33.0/build# gammu\n",
    "[Gammu version 1.33.0 built 15:03:15 on May  5 2014 using GCC 4.6]\n",
    "Usage: gammu [parameters] <command> [options]\n",
    "```\n",
    "- the usual testing comment `gammu --identify` throughs a error with unable to connect with phone `Phone does not support enabled echo, it can not work with Gammu!`\n",
    "- As per [this](http://stackoverflow.com/questions/19698481/gammu-cannot-detect-my-modem) changed device address from /dev/ttyUSB0 to /dev/ttyUSB2, now it is working and the gammu-smsd also working making txt sms file inside inbox folder."
   ]
  },
  {
   "cell_type": "code",
   "execution_count": null,
   "metadata": {
    "collapsed": true
   },
   "outputs": [],
   "source": []
  }
 ],
 "metadata": {
  "kernelspec": {
   "display_name": "Python 2",
   "language": "python",
   "name": "python2"
  },
  "language_info": {
   "codemirror_mode": {
    "name": "ipython",
    "version": 2
   },
   "file_extension": ".py",
   "mimetype": "text/x-python",
   "name": "python",
   "nbconvert_exporter": "python",
   "pygments_lexer": "ipython2",
   "version": "2.7.14"
  }
 },
 "nbformat": 4,
 "nbformat_minor": 2
}
