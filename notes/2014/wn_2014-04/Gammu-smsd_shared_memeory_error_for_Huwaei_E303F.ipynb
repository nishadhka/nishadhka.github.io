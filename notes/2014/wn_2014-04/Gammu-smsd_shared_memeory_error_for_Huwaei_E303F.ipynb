{
 "cells": [
  {
   "cell_type": "markdown",
   "metadata": {
    "collapsed": true
   },
   "source": [
    "**Gammu-smsd_shared_memeory_error_for_Huwaei_E303F**\n",
    "1. I am running gammu and gammu-smsd backed by Mysql in Ubuntu 12.04, All these setup was running with out error using Huwaei E173 data card. But upgraded model of this, Huwaei E303F, working fine with gammu, but starting gammu-smsd collapsing gammu. for example `gammu --identify` says phone not connected\n",
    "```bash\n",
    "gammurc ~/.gammurc\n",
    "port = /dev/ttyUSB0\n",
    "model = auto\n",
    "connection = at\n",
    "synchronizetime = yes\n",
    "logfile = /home/user/gammu.log\n",
    "logformat = textalldate\n",
    "use_locking =\n",
    "gammuloc =\n",
    "gammu-smsdrc ~/etc/gammu-smsdrc\n",
    "device = /dev/ttyUSB0\n",
    "connection = at\n",
    "**Gammu-smsd_shared_memeory_error_for_Huwaei_E303F**\n",
    "# SMSD configuration, see gammu-smsdrc(5)\n",
    "[smsd]\n",
    "service = sql\n",
    "driver = native_mysql\n",
    "LogFile = /var/log/gammu-smsd\n",
    "user = r\n",
    "password =\n",
    "pc = localhost\n",
    "database = \n",
    "```\n",
    "1. gammu-smsd log shows ~/var/log/gammu-smsd\n",
    "```bash\n",
    "Fri 2014/04/18 10:19:01 gammu-smsd[9600]: Warning: No PIN code in /etc/gammu-smsdrc file\n",
    "Fri 2014/04/18 10:19:01 gammu-smsd[9601]: Connected to Database: smsd on localhost\n",
    "Fri 2014/04/18 10:19:01 gammu-smsd[9601]: Connected to Database native_mysql: smsd on localhost\n",
    "Fri 2014/04/18 10:19:01 gammu-smsd[9601]: Failed to allocate shared memory segment!, Error 13: Permission denied\n",
    "Fri 2014/04/18 10:19:13 gammu-smsd[9605]: Warning: No PIN code in /etc/gammu-smsdrc file\n",
    "Fri 2014/04/18 10:19:13 gammu-smsd[9606]: Connected to Database: smsd on localhost\n",
    "Fri 2014/04/18 10:19:13 gammu-smsd[9606]: Connected to Database native_mysql: smsd on localhost\n",
    "Fri 2014/04/18 10:19:13 gammu-smsd[9606]: Created POSIX RW shared memory at 0x2ae4ea330000\n",
    "Fri 2014/04/18 10:19:13 gammu-smsd[9606]: Starting phone communication...\n",
    "Fri 2014/04/18 10:19:21 gammu-smsd[9606]: Inserting phone info\n",
    "```\n",
    "1. Computer is a HP desktop with 8 GB RAM, shared memory details of the computer is\n",
    "```\n",
    ":~$ cat /proc/sys/kernel/shmmni\n",
    "4096\n",
    "```\n",
    "and\n",
    "```\n",
    ":~$ cat /proc/sys/kernel/shmmax\n",
    "33554432\n",
    "```\n",
    "1. More over I tried this same setup with a IBM X series server and Raspberry pi. In Raspberry pi installed with debian, it hangs board and disconnect ssh connection while giving gammu --identify itself. In IBM, it gives similar shared memory error. But this card (Huwaei E303F) is working fine for Internet connection, in Raspberry pi also no error with sakis3G. "
   ]
  },
  {
   "cell_type": "code",
   "execution_count": null,
   "metadata": {
    "collapsed": true
   },
   "outputs": [],
   "source": []
  }
 ],
 "metadata": {
  "kernelspec": {
   "display_name": "Python 2",
   "language": "python",
   "name": "python2"
  },
  "language_info": {
   "codemirror_mode": {
    "name": "ipython",
    "version": 2
   },
   "file_extension": ".py",
   "mimetype": "text/x-python",
   "name": "python",
   "nbconvert_exporter": "python",
   "pygments_lexer": "ipython2",
   "version": "2.7.14"
  }
 },
 "nbformat": 4,
 "nbformat_minor": 2
}
