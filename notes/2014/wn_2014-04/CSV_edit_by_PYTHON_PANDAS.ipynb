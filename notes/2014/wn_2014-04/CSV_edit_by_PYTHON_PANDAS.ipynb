{
 "cells": [
  {
   "cell_type": "markdown",
   "metadata": {
    "collapsed": true
   },
   "source": [
    "**Modfying csv files using pandas, python**\n",
    "\n",
    "- to import csv file into python\n",
    "\n",
    "```\n",
    "import pandas\n",
    "data = pd.read_csv('/home/hoopoe/Documents/Real_time_air_pollution_Mod_Proj-2013-2014/obj2/237.csv')\n",
    "```\n",
    "\n",
    "- to query the specfic column in data frame\n",
    "\n",
    "```\n",
    "data['SamplingDate']\n",
    "```\n",
    "\n",
    "- to specifiy the column as datetime formate column for pandas\n",
    "\n",
    "```\n",
    "data['SamplingDate'] = pd.to_datetime(data['SamplingDate'])\n",
    "```\n",
    "\n",
    "- to avoid date and month mismatch specify the formate of date as \n",
    "\n",
    "```\n",
    "data['SamplingDate'] = pd.to_datetime(data['SamplingDate'],format='%d/%m/%Y')\n",
    "```\n",
    "\n",
    "- to sort the data based on date column descending\n",
    "\n",
    "```\n",
    "dataso=data.sort('SamplingDate', ascending=False)\n",
    "```\n",
    "\n",
    "- to join two data frame in particular column\n",
    "\n",
    "```\n",
    "df = pd.merge(dataso, data1so, on='SamplingDate', suffixes=['_237', '_238'])\n",
    "```\n",
    "\n",
    "- Join wil not  work for more than two data frames. have to merge first two then the resultnatn has to merge with third one. there is concat also is available\n",
    "\n",
    "```\n",
    "df = pd.concat([dataso, data1so, data2so],join_axes='SamplingDate')\n",
    "```\n",
    "\n",
    "\n",
    "- to make csv out of pandas data frame\n",
    "\n",
    "```\n",
    "data2so.to_csv('/home/hoopoe/Documents/Real_time_air_pollution_Mod_Proj-2013-2014/obj2/375.csv ')\n",
    "```\n",
    "\n",
    "Based on\n",
    "1. (http://stackoverflow.com/questions/13003769/joining-multiple-dataframes-with-pandas-with-overlapping-column-names)\n",
    "2. (http://stackoverflow.com/questions/20306049/pandas-sort-on-date-in-dataframe-not-sorting-properly)\n",
    "3. (http://stackoverflow.com/questions/16958499/sort-pandas-dataframe-and-print-highest-n-values)\n",
    "4. (http://stackoverflow.com/questions/13572550/merge-of-multiple-data-frames-of-different-number-of-columns-into-one-big-data-f)\n",
    "5. (http://stackoverflow.com/questions/21786490/pandas-left-outer-join-multiple-dataframes-on-multiple-columns)\n",
    "6. (http://stackoverflow.com/questions/16672237/specifying-date-format-when-converting-with-pandas-to-datetime)"
   ]
  },
  {
   "cell_type": "code",
   "execution_count": null,
   "metadata": {
    "collapsed": true
   },
   "outputs": [],
   "source": []
  }
 ],
 "metadata": {
  "kernelspec": {
   "display_name": "Python 2",
   "language": "python",
   "name": "python2"
  },
  "language_info": {
   "codemirror_mode": {
    "name": "ipython",
    "version": 2
   },
   "file_extension": ".py",
   "mimetype": "text/x-python",
   "name": "python",
   "nbconvert_exporter": "python",
   "pygments_lexer": "ipython2",
   "version": "2.7.14"
  }
 },
 "nbformat": 4,
 "nbformat_minor": 2
}
