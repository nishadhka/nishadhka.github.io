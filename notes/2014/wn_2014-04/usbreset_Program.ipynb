{
 "cells": [
  {
   "cell_type": "markdown",
   "metadata": {
    "collapsed": true
   },
   "source": [
    "**USB_RESET_PROGRAM**\n",
    "\n",
    "1. From [this ask ubuntu](http://askubuntu.com/questions/645/how-do-you-reset-a-usb-device-from-the-command-line) answer.\n",
    "to reset the USB data card\n",
    "1. saving this code as usbreset.c \n",
    "```\n",
    "/* usbreset -- send a USB port reset to a USB device */\n",
    "#include <stdio.h>\n",
    "#include <unistd.h>\n",
    "#include <fcntl.h>\n",
    "#include <errno.h>\n",
    "#include <sys/ioctl.h>\n",
    "#include <linux/usbdevice_fs.h>\n",
    "int main(int argc, char **argv)\n",
    "{\n",
    "    const char *filename;\n",
    "    int fd;\n",
    "    int rc;\n",
    "    if (argc != 2) {\n",
    "        fprintf(stderr, \"Usage: usbreset device-filename\\n\");\n",
    "        return 1;\n",
    "    }\n",
    "    filename = argv[1];\n",
    "    fd = open(filename, O_WRONLY);\n",
    "    if (fd < 0) {\n",
    "        perror(\"Error opening output file\");\n",
    "        return 1;\n",
    "    }\n",
    "    printf(\"Resetting USB device %s\\n\", filename);\n",
    "    rc = ioctl(fd, USBDEVFS_RESET, 0);\n",
    "    if (rc < 0) {\n",
    "        perror(\"Error in ioctl\");\n",
    "        return 1;\n",
    "    }\n",
    "    printf(\"Reset successful\\n\");\n",
    "    close(fd);\n",
    "    return 0;\n",
    "}\n",
    "```\n",
    "1. compile code using \n",
    "```\n",
    "cc usbreset.c -o usbreset\n",
    "```\n",
    "1. find bus and device id for our case\n",
    "```\n",
    "lsusb\n",
    "Bus 002 Device 013: ID 12d1:1446 Huawei Technologies Co., Ltd. E1552/E1800 (HSPA modem)\n",
    "```\n",
    "1. make compiled code executable by `chmod +x usbreset`\n",
    "1. execute the program by \n",
    "```\n",
    "sudo ./usbreset /dev/bus/usb/002/013\n",
    "``` \n",
    "1. No response is given, have to restart computer"
   ]
  },
  {
   "cell_type": "code",
   "execution_count": null,
   "metadata": {
    "collapsed": true
   },
   "outputs": [],
   "source": []
  }
 ],
 "metadata": {
  "kernelspec": {
   "display_name": "Python 2",
   "language": "python",
   "name": "python2"
  },
  "language_info": {
   "codemirror_mode": {
    "name": "ipython",
    "version": 2
   },
   "file_extension": ".py",
   "mimetype": "text/x-python",
   "name": "python",
   "nbconvert_exporter": "python",
   "pygments_lexer": "ipython2",
   "version": "2.7.14"
  }
 },
 "nbformat": 4,
 "nbformat_minor": 2
}
