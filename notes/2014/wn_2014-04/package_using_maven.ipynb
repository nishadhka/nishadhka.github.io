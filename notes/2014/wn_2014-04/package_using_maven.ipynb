{
 "cells": [
  {
   "cell_type": "markdown",
   "metadata": {
    "collapsed": true
   },
   "source": [
    "**Package_using_Maven_for_GRIB2JSON**\n",
    "\n",
    "1. Java based tools such as grib2json has to compiled with maven\n",
    "1. latest maven is installed, following as per this note (https://github.com/saconswl/Real_time_air_pollution_Mod_Proj-2013-2014/blob/home/working_notes/wn_2013-10/Installing_maven_in_Ubuntu_12.04.md)\n",
    "1. the tool grib2json requieres java 1.7 \n",
    "1. made huge search due to error while trying for\n",
    "```\n",
    "mvn package\n",
    "```\n",
    "it gives error of \n",
    "```\n",
    "Error: JAVA_HOME is not defined correctly.   We cannot execute\n",
    "”/usr/lib/jvm/jdk1.7.0”/bin/java\n",
    "```\n",
    "1. later found that, the system doesn't containing jdk1.7.0\n",
    "1. installed jdk1.7.0 follwoing (http://askubuntu.com/questions/117189/apt-get-install-openjdk-7-jdk-doesnt-install-javac-why)\n",
    "1. now providing \n",
    "```\n",
    "sudo mvn\n",
    "```\n",
    "1. gives details of mvn installation without error.\n",
    "1. now the grib2json as told in its documentation works without error\n",
    "1. it makes a folder named grib2json-0.8.0-SNAPSHOT.tar.gz\n",
    "1. unziping of it contain grib2json file inside bin foldeer\n",
    "1. executing this file as \n",
    "```\n",
    "sh grib2json\n",
    "```\n",
    "1. givies indication of its working!"
   ]
  },
  {
   "cell_type": "code",
   "execution_count": null,
   "metadata": {
    "collapsed": true
   },
   "outputs": [],
   "source": []
  }
 ],
 "metadata": {
  "kernelspec": {
   "display_name": "Python 2",
   "language": "python",
   "name": "python2"
  },
  "language_info": {
   "codemirror_mode": {
    "name": "ipython",
    "version": 2
   },
   "file_extension": ".py",
   "mimetype": "text/x-python",
   "name": "python",
   "nbconvert_exporter": "python",
   "pygments_lexer": "ipython2",
   "version": "2.7.14"
  }
 },
 "nbformat": 4,
 "nbformat_minor": 2
}
