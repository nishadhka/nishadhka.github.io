{
 "cells": [
  {
   "cell_type": "markdown",
   "metadata": {
    "collapsed": true
   },
   "source": [
    "**Sending_SMS_with_AT_and_PYTHON**\n",
    "\n",
    "1. This is related with issue recorded here. Huwaei E303F is not working with Gammu, especially in RPi. So found a method to send SMS using this data card with out using gammu but using simple AT commands.\n",
    "1. Primarly based on this [1](https://github.com/CircuitFreakCoder/SMS-Sending-Using-AT-Commands) and this [2](http://blog.lagentz.com/general/how-to-send-text-messages-using-python-and-a-modem/)\n",
    "1. the code written for sending SMS from dylos serial is as follows\n",
    "```\n",
    "#!/usr/bin/python\n",
    "import serial\n",
    "import time\n",
    "from curses import ascii\n",
    "import sqlite3 as lite\n",
    "import logging\n",
    "logger = logging.getLogger('lbm1')\n",
    "hdlr = logging.FileHandler('/home/pi/SMS/pysms.log')\n",
    "formatter = logging.Formatter('%(asctime)s: %(levelname)s %(message)s')\n",
    "hdlr.setFormatter(formatter)\n",
    "logger.addHandler(hdlr)\n",
    "logger.setLevel(logging.INFO)\n",
    "logger.info(\"SMS cronjob started\")\n",
    "con = lite.connect('/home/pi/SMS/dylos.db')\n",
    "try:\n",
    "   with con:\n",
    "       cur = con.cursor()\n",
    "       cur.execute(\"SELECT * FROM data ORDER BY SNo DESC LIMIT 1\")\n",
    "       a= [str(i[1]) for i in cur.fetchall()]\n",
    "       b = map(str.strip,a)\n",
    "       c= str(b).strip(\"[']\") \n",
    "       logger.info(\"data retrived from db\")\n",
    "except:\n",
    "        logger.exception('database yet to ready')\n",
    "finally:\n",
    "    if con:\n",
    "       con.close() \n",
    "connection = '/dev/phone'                    # port\n",
    "pin = '1234'                                   # pin\n",
    "ser = serial.Serial(connection)  # open port\n",
    "ser.write('AT+CPIN=\"%s\"\\r\\n' %pin)                # PIN-Code\n",
    "time.sleep(1)\n",
    "ser.write('AT+CMGF=1\\r\\na')\n",
    "time.sleep(1)                        # to TEXTMODE\n",
    "ser.write('AT+CMGS=\"%s\"\\r\\n' %+919488458674)    # tel number\n",
    "time.sleep(1)\n",
    "ser.write(c)\n",
    "time.sleep(1)                                # message\n",
    "ser.write(ascii.ctrl('z'))                        # end session\n",
    "```\n",
    "1. major part of the code is from [2] but scripting of it didn't given any response. This issue was rectified by ```time.sleep(1)``` method[1]"
   ]
  },
  {
   "cell_type": "code",
   "execution_count": null,
   "metadata": {
    "collapsed": true
   },
   "outputs": [],
   "source": []
  }
 ],
 "metadata": {
  "kernelspec": {
   "display_name": "Python 2",
   "language": "python",
   "name": "python2"
  },
  "language_info": {
   "codemirror_mode": {
    "name": "ipython",
    "version": 2
   },
   "file_extension": ".py",
   "mimetype": "text/x-python",
   "name": "python",
   "nbconvert_exporter": "python",
   "pygments_lexer": "ipython2",
   "version": "2.7.14"
  }
 },
 "nbformat": 4,
 "nbformat_minor": 2
}
