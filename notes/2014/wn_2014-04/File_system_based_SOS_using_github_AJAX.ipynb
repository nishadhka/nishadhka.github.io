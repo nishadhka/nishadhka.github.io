{
 "cells": [
  {
   "cell_type": "markdown",
   "metadata": {
    "collapsed": true
   },
   "source": [
    "**File_system_based_SOS_using_github_AJAX**\n",
    "1. Found a article discussing similar to this line.  https://www.academia.edu/1502083/A_flexible_geospatial_sensor_observation_service_for_diverse_sensor_data_based_on\n",
    "1. Monitoring real-time environmental information using Web 2.0 and GIServices technology\n",
    "1. Integrating Sensor Webs with Modeling and Data-assimilation Applications: An SOA Implementation\n",
    "\n",
    "see\n",
    "\n",
    "http://buyya.com/papers/SensorWebChapter.pdf\n",
    "\n",
    "http://ieeexplore.ieee.org/xpl/login.jsp?tp=&arnumber=4526452&url=http%3A%2F%2Fieeexplore.ieee.org%2Fxpls%2Fabs_all.jsp%3Farnumber%3D4526452\n",
    "\n",
    "simple SOS\n",
    "https://github.com/jcu-eresearch/python-simplesos"
   ]
  },
  {
   "cell_type": "code",
   "execution_count": null,
   "metadata": {
    "collapsed": true
   },
   "outputs": [],
   "source": []
  }
 ],
 "metadata": {
  "kernelspec": {
   "display_name": "Python 2",
   "language": "python",
   "name": "python2"
  },
  "language_info": {
   "codemirror_mode": {
    "name": "ipython",
    "version": 2
   },
   "file_extension": ".py",
   "mimetype": "text/x-python",
   "name": "python",
   "nbconvert_exporter": "python",
   "pygments_lexer": "ipython2",
   "version": "2.7.14"
  }
 },
 "nbformat": 4,
 "nbformat_minor": 2
}
