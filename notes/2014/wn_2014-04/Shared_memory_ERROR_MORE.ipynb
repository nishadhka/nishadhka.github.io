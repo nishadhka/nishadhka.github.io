{
 "cells": [
  {
   "cell_type": "markdown",
   "metadata": {
    "collapsed": true
   },
   "source": [
    "More Insight into shared memory error\n",
    "1. Was working on Beagle bone balck with Huwaei E173 `gammu --identify`\n",
    "1. `tail -f /home/debian/gammu-smsd.log`\n",
    "- `gammu-smsd -d`\n",
    "- `/etc/init.d/gammu-smsd restart`\n",
    "- `top`\n",
    "- `kill -9 2383`\n",
    "- `ipcs -a`\n",
    "- `ipcrm -m 32768`"
   ]
  },
  {
   "cell_type": "code",
   "execution_count": null,
   "metadata": {
    "collapsed": true
   },
   "outputs": [],
   "source": []
  }
 ],
 "metadata": {
  "kernelspec": {
   "display_name": "Python 2",
   "language": "python",
   "name": "python2"
  },
  "language_info": {
   "codemirror_mode": {
    "name": "ipython",
    "version": 2
   },
   "file_extension": ".py",
   "mimetype": "text/x-python",
   "name": "python",
   "nbconvert_exporter": "python",
   "pygments_lexer": "ipython2",
   "version": "2.7.14"
  }
 },
 "nbformat": 4,
 "nbformat_minor": 2
}
