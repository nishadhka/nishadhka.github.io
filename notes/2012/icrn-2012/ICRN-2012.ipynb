{
 "cells": [
  {
   "cell_type": "markdown",
   "metadata": {},
   "source": [
    "<h1><center>Regional temperature variability in the Western Ghats</center></h1>\n",
    "<h3><center>K.A. Nishadh and P.A. Azeez</center>\n",
    "<center>Environmental Impact Assessment Division,Sálim Ali Center for Ornithology and Natural History (SACON), Anaikatty (PO), Coimbatore – 641108.</center></h3>\n",
    "\n",
    "Scale variant impact of climate change from local to regional level has necessitated the urgent need to\n",
    "have deeper understanding on its impact through more specific local or regional level assessment.\n",
    "These assessments are important in terms of applying urgent intervention measures and devising\n",
    "adaptation strategy. Surface air temperature records are providing invaluable information in those\n",
    "assessments to know about the trajectory or state of climate in an area. The aim of the present study\n",
    "was in that direction to assess the long term temperature variability in the Western Ghats region\n",
    "considering the regional homogeneous climatic and biogeographical condition of the area.\n",
    "For the study, raw data from Berkeley Earth Surface Temperature Study (BEST)\n",
    "dataset(http://berkeleyearth.org) was used. The data of monthly maximum, minimum, and average\n",
    "temperature of 16 monitoring stations in the Western Ghats region was used. Most of the monitoring\n",
    "stations have shown an upward trend in all the temperature parameters. Exceptionally stations like\n",
    "Marma Goa and Nova Goa had shown significant negative trend in temperature variability.\n",
    "Temperature minimum (TMIN) was in negative trend in stations Belagum and Ratnagiri along with\n",
    "Pune where Average Temperature (TAVG) was in negative trend. The regional average of TAVG and\n",
    "TMAX shows significant positive increase (Tau=0.476, P&lt;0.01), whereas TMIN doesn&#39;t shows any\n",
    "significant trend (Tau = 0.059, P&gt;0.05)."
   ]
  }
 ],
 "metadata": {
  "kernelspec": {
   "display_name": "Python 2",
   "language": "python",
   "name": "python2"
  },
  "language_info": {
   "codemirror_mode": {
    "name": "ipython",
    "version": 2
   },
   "file_extension": ".py",
   "mimetype": "text/x-python",
   "name": "python",
   "nbconvert_exporter": "python",
   "pygments_lexer": "ipython2",
   "version": "2.7.14"
  }
 },
 "nbformat": 4,
 "nbformat_minor": 2
}
