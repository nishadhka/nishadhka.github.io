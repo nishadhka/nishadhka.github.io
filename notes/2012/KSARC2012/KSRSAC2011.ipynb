{
 "cells": [
  {
   "cell_type": "markdown",
   "metadata": {},
   "source": [
    "<h1><center>“Envirocloud: Lending voice for urban trees”, a model for adaptive management of urban social ecosystem. </center></h1>\n",
    "<h3><center>K.A. Nishadh<sup>1</sup>, P.Balasubramanian<sup>2</sup> and P.A. Azeez<sup>1</sup></center>\n",
    "<center>1-Sálim Ali Center for Ornithology and Natural History (SACON), Anaikatty (PO), Coimbatore – 641108.</center></h3>\n",
    "\n",
    "\n",
    "**Abstract:**Large-scale development in mobile communication and computation technology provides immense potential in collecting and curetting environmental observations from sensors as well as citizen scientist in India. Volunteered geoinformation collected through SMS, and other widely available communication means will provide basic data for environmental research. Moreover, the community involvement in this endeavor will provide a means for wide social awareness and participation in local environmental management and conservation. Community involvement can play a very essential role in the process of better comprehension of social ecosystem and informed management and conservation initiatives. Models of community participation, open and crowd source initiatives backed by interactive internet, web 2.0 can provide the workable community involvement model for the above said restrain process. The present paper objectvise the application of those widely practiced models for improving environmental awareness among users of public transportation system by providing location based information service about scheduled reaching of bus in particular bus stop and in turn requesting their contribution in environmental observation. At large, by doing so the model envisages to create a platform for community involvement for environmental awareness and increase the usability of low ecological foot print transportation system. This paper presents a model for adaptive management of urban social ecosystem by inculcating community involvement and economic viability in it by utilizing the communication and computation technology.\n",
    "\n",
    "**Keywords:** Envirocloud, Real time monitoring, Adaptation, Sustainability.\n",
    "\n",
    "## Introduction: \n",
    "\n",
    "The ever increasing per capita consumption of key natural resource has considerable pressure on its conservation, management and at largely hampers its sustainability. Past reductionist attempts on natural resource management mostly resulted in failure gives rise to a strong realization that the  need of paradigm shift in conservation and natural resource management. Ecosystem approach is widely considered as the culmination of that shift (Holling 2001). Inculcating adaptive system characteristic in social ecosystem to withstand disturbances while still retaining its fundamental structure, function, and internal feedback is to be the nearly achievable aim of natural resource management ( Jasanoff et al 1997). This necessitates need of system level understanding of local social ecosystem, harmonization of conflict between social ecosystem and  search for balance between consumption and conservation of natural resources for sustainable development. \n",
    "Since sustainable development is all about creating opportunity for social ecosystem to make it adaptable to forces of change(Jorgensen and Bendoricchio 2001). It requires close collaboration among community and scientific establishments, Interdisciplinary approach and competences. Grouping the people together from different disciplines and social backgrounds is became essential thing in this regard. It requires the need to study social ecosystem together, essential for understand dynamic processes that lead to collapse, adaptation or recovery of the same system( Norris et al 2008). Along with that, It has to be simple and dynamic as related to the situation by connecting with varies policies, actions taken in social sphere and evaluating the pluralistic future vision. The uncertainty in the ecosystem has to be aptly considered by generating Pluralistic maps (models) of same phenomenon. To make that kind of models it need to have as much observation as possible on functioning of social ecosystem for generating dynamic perception, social consensus and adaptive strategy (Gadgil et al., 2003, Okolloh 2009).\n",
    "Creation of  widely accessible spatial data infrastructure of local environment will be a way around for this by making web of various sensors and sensor networks deployed to monitor the environment with different objectives and specification.Localized contextual knowledge is essential for co adaptive management (Gadgil et al., 2003). It requires the essential need of grouping diverse source of spatial data about a locality to make it an interoperable and to provide holistic understanding of the social ecosystem dynamics. The information thus generated has to be shared in such a way that to create alliances between scales and organization of social ecological system. Harnessing the crowd sourced information will be a better way to collect local information in the scenario of prevailing uncertainty other than sensor data. Because it gives pluralistic view, community involvement and thus increases the community trust on the whole system encapsulated for generating information (Meinke 2006). Envirocloud using those models aim to be a information infrastructure to be able to crowd source environmental observation from community as well as sensor web varied type of distributed sensors to give holistic information about the dynamism of the local social ecosystem and to provide essential information for implement adaptive characteristics in it .\n",
    "It hopes that community by social learning using those information can appreciate the functionality, interdependence of social ecosystem,  its complexity, dynamism and uncertainty (Meinke 2006). Thus the community can acquire customized adaptive management measures by innovate, experiment and adapt to the situation given by the comprehension of current social ecological system state. This necessitates the requirement of credible, usable, dynamic, open-access information about functioning and state of social ecosystem. Recent developments in information technology especially in personal communication and computational techniques provide the needed facility to procure those information. The infrastructure thus created reflects the analogy of cloud and rain event, where the adaptation can be seen as the shower of rain and events happening for that such as innovations as lightning, experiments as turbulence and cloud formation as predicisance of adaptation.\n",
    "This paper presents a model for adaptive management of certain components of urban social ecosystem by inculcating community involvement and economic viability in it. It also discuss the postulates of environmental balance theory for  interlinking the components, ensure economic viability of the model. This paper’s objective was to en-light the interlinked adaptive management of urban forestry and public transportation system in Coimbatore city, third largest urban conglomerate in the state of Tamil Nadu. Accordingly this paper was structured by explaining the components of that model,  its inter linkages and about ways to sustain it.\n",
    "## Model premise:\n",
    "The model looks for the dynamic information procurement about two interrelated components of Coimbatore regional community that is its urban forestry and public transport system. The adaptive management of both components can be achieved by generating community concern on urban forestry and real time information about public transport system(city bus fleets). In Indian scenario the former two components are very closely interrelated. Road widening as a measure of rapid development pose considerable destruction of trees culturally planted in the side of roads. Whereas the dependency on personal transportation increases because of not so easy public transportation (lack of setup for efficient management and ever increasing petrol cost makes public transportation system a non profitable business) puts the circular strain on necessity of widening the roads and thus destruction of urban forestry in roads\n",
    "Coimbatore is one of the high vehicles to population ratio city in country. High density of personal vehicles in narrow roads exerts pressure on widening of roads and cutting of road side trees. Within a last couple of years more than 1500 road side trees are chopped for road widening of main artillery roads of Coimbatore. City public buses cater the need of urban transportation, around 90% of services are provided by government owned Tamil Nadu State Transport Corporation (TNSTC) and remaining by private players. Services are provided in 228 different routes by a total of 506 buses with range distance coverage of 7-30km. The bus stops and modern waiting sheds are available in the city limits with minimal distance range of 0.5-1 km and estimated number of 750-1000 unique bus waiting sheds.\n",
    "## Model Components:\n",
    "The model comprised of urban forestry, public transportation system, real time air pollution monitoring and environmental balance index generation. In which former two acts as participating variable component in the model. The figure 1 depict the components of the model.\n",
    "\n",
    "<img src=\"./img1.png\",width=600,height=800>\n",
    "\n",
    "<center>Figure-1.Model components and its inter linkage. PTS- Public Transporation System, EBI-Environmental Balance Index.</center>\n",
    "\n",
    "The aim of the model is to procure dynamic data from these components into distributed data warehouses and disseminate the relevant information from the data into end users of community. Crowd sourcing can be used for generating community concern on urban forestry. Implementation will be by inviting participation of volunteers to share their environmental observations on urban forestry. Procurement of observation will be by using open source crowd source software Ushahidi (Okolloh 2009). The crowd sourcing will be maintained as far as simple by including widely available communication facilities of common public such as SMS. The environmental observation will be task based voluntary participation in which people asked to look for certain characteristics in particular urban tree in their locality which will be requiring simple to moderate level close observation of the tree. The networking of public buses (Public Transportation System) is for better tracking of their current position and generating better utility and planning opportunity for end users. Implementation will be carried out by two phases. It will be procurement of static information about public bus transportation route, timing etc and disseminating those information into end users through SMS messaging on request. By this it acts as Location Based Information (LBS) for end user. The inter linkages between these components can be generated by open source and crowd source community involvement (Fig 2). For implementing those models following methods can be executed. \n",
    "<img src=\"./img2.png\",width=600,height=800>\n",
    "\n",
    "<center>Figure-2.The community development models for implementation.</center>\n",
    "\n",
    "Geo coding of bus sheds: Bus waiting shed will be the confluence point of community and potential audience of the environmental awareness. For environmental observation it acts as a point in point count method. The geocode will be the key to retrieve the tree data base created and provide the LBS service. Every waiting shed will be geocoded with four digit codes comprised of first two letter of reaching destination from urban center and a double digit numeric for each stop numbered from destination to urban center. Geocode comprised of latitude and longitude of the bus waiting shed. The geocode of the specific bus shed will be popularized by pasting the code in bus waiting shed, creating an SMS application to retrieve the geocode by sending bus stop name, publishing it in web as route maps. \n",
    "Biodiversity aware waiting shed: Data (tree diversity) will be collected within the surrounding visible circumference of bus waiting shed. Each tree will be geotagged with Google maps application programming interface by specifying the position related to the circumference (Degree or clock position) of waiting shed. The photographs taken for each tree from waiting shed as focal point also geotagged similarly and visualized in web map. All the data will be stored in MySQL offline and uploaded in popular web applications such as flickr, Google maps, document and published in biodiversity portals such as Western Ghats biodiversity portal.\n",
    "The LBS bus timing information for each bus waiting shed will be created by involving in Google transit partner program. The process comprised of developing general transit feed specification for each bus route with defining variables such as location of bus stop, schedule of the each bus etc. Validating and testing the transit feed, hosting it in web server and make arrangements with Google to publish as Google transit feeder for city bus route planning. This framework will be used to retrieve the information about likely bus arrival related to time and location of bus shed as LBS service to its user. By hosting the information in MySQL and retrieving it by using key, geocode of the waiting shed. Enhancement of this facility for real time tracking of buses can be carried out by implementing the GPRS enabled mobile based tracking facility in each PTS buses.  Real time information about bus movement gives tools to search the availability of public transport and planing facility for user and it gives further advantage of situational management for public transportation managers to make their business sustainable.\n",
    "The economic viability of those components can be instigate by generating the real time air pollution monitoring of urban space for pollution trading mechanism through Environmental Balance Index (EBI) (Figuer 3, Taras 2010). The surveillance camera installed in traffic islands can be used for real time tracking of particulate  matter (PM 10)in urban air (Jacobs et.al 2009, Wong et.al., 2009). From the regression between the relationship between measured reflectance components from camera photograph and measured value of PM10 it can deduce the current concentration of it in urban air. The already installed surveillance camera can be used to connect by sensor web enablement specification and the real time monitoring of the PM 10 which has adverse health effect can be deducted.\n",
    "\n",
    "<img src=\"./img3.png\",width=600,height=800>\n",
    "\n",
    "<center>Figure-3.The EBI calculation methods as given by Taras 2010.</center>\n",
    "\n",
    "## Conclusion:\n",
    "This paper provides a glimpse of community involvement models and application of technological development for natural resource management and conservation. By practical implementation it can generate an unique experience which provides a new form of strategy can be well practiced for creating a favorable situation for sustainable development and adaptive urban community.\n",
    "## References:\n",
    "1. Gadgil, M., P. Olsson, F. Berkes, and C. Folke, ‘Exploring the Role of Local Ecological Knowledge in Ecosystem Management: Three Case Studies’, Navigating Social-ecological Systems: Building Resilience for Complexity and Change. Cambridge University Press, Cambridge, UK, 2003, 189–209.\n",
    "2. Holling, C.S., ‘Understanding the Complexity of Economic, Ecological, and Social Systems’, Ecosystems, 4 (2001), 390–405.\n",
    "1. Jacobs, N., W. Burgin, N. Fridrich, A. Abrams, K. Miskell, B.H. Braswell, and others, ‘The Global Network of Outdoor Webcams: Properties and Applications’, in Proceedings of the 17th ACM SIGSPATIAL International Conference on Advances in Geographic Information Systems, 2009, pp. 111–120.\n",
    "1. Jasanoff, S., R. Colwell, M.S. Dresselhaus, R.D. Goldman, MRC Greenwood, A.S. Huang, and others, ‘Conversations with the Community: AAAS at the Millennium’, Science, 278 (1997), 2066.\n",
    "1. Jorgensen, S.E., and G. Bendoricchio, Fundamentals of Ecological Modelling (Elsevier Science, 2001), XXI.\n",
    "1. Meinke, H., R. Nelson, P. Kokic, R. Stone, R. Selvaraju, and W. Baethgen, ‘Actionable Climate Knowledge: From Analysis to Synthesis’, Climate Research, 33 (2006), 101.\n",
    "1. Okolloh, O., ‘Ushahidi, Or’testimony’: Web 2.0 Tools for Crowdsourcing Crisis Information’, Participatory Learning and Action, 59 (2009), 65–70.\n",
    "1. Wong, CJ, MZ MatJafri, K. Abdullah, and HS Lim, ‘Temporal and Spatial Air Quality Monitoring Using Internet Surveillance Camera and Alos Satellite Image’, in Aerospace Conference, 2009 IEEE, 2009, pp. 1–7.\n",
    "1. Taras B (2010) On the Theory of Environmental Balance http://www.mama-86.org.ua/index.php/en/news/expert-comments/199-2010-09-22-16-37-52.html\n",
    "\n",
    "\n",
    "\n",
    "\n"
   ]
  },
  {
   "cell_type": "code",
   "execution_count": null,
   "metadata": {
    "collapsed": true
   },
   "outputs": [],
   "source": []
  }
 ],
 "metadata": {
  "kernelspec": {
   "display_name": "Python 2",
   "language": "python",
   "name": "python2"
  },
  "language_info": {
   "codemirror_mode": {
    "name": "ipython",
    "version": 2
   },
   "file_extension": ".py",
   "mimetype": "text/x-python",
   "name": "python",
   "nbconvert_exporter": "python",
   "pygments_lexer": "ipython2",
   "version": "2.7.14"
  }
 },
 "nbformat": 4,
 "nbformat_minor": 2
}
